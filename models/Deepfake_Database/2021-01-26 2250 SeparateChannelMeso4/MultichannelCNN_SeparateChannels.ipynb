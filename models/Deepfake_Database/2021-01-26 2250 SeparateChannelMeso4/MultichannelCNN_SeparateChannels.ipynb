{
  "nbformat": 4,
  "nbformat_minor": 0,
  "metadata": {
    "colab": {
      "name": "MultichannelCNN_SeparateChannels.ipynb",
      "provenance": [],
      "collapsed_sections": [],
      "toc_visible": true
    },
    "kernelspec": {
      "display_name": "Python 3",
      "name": "python3"
    },
    "accelerator": "GPU"
  },
  "cells": [
    {
      "cell_type": "code",
      "metadata": {
        "id": "N-9RKWkoMMVH"
      },
      "source": [
        "import os\r\n",
        "os.environ['PYTHONHASHSEED'] = '0'\r\n",
        "\r\n",
        "import tensorflow as tf\r\n",
        "tf.random.set_seed(89)\r\n",
        "\r\n",
        "import numpy as np\r\n",
        "np.random.seed(42)\r\n",
        "\r\n",
        "import random as rn\r\n",
        "rn.seed(1254)"
      ],
      "execution_count": 1,
      "outputs": []
    },
    {
      "cell_type": "code",
      "metadata": {
        "colab": {
          "base_uri": "https://localhost:8080/"
        },
        "id": "eEgqKYL6RwWG",
        "outputId": "7c8a1f18-d9f2-4870-bcc2-de68b9057ca3"
      },
      "source": [
        "from google.colab import drive\r\n",
        "drive.mount('/content/drive')"
      ],
      "execution_count": 2,
      "outputs": [
        {
          "output_type": "stream",
          "text": [
            "Mounted at /content/drive\n"
          ],
          "name": "stdout"
        }
      ]
    },
    {
      "cell_type": "code",
      "metadata": {
        "id": "n74vJZ9TSM6o"
      },
      "source": [
        "%%capture\r\n",
        "!unzip -o \"/content/drive/My Drive/Thesis/deepfake-detection-master/deepfake_database.zip\" -d /content/"
      ],
      "execution_count": 3,
      "outputs": []
    },
    {
      "cell_type": "markdown",
      "metadata": {
        "id": "mL5YWlcaRUmV"
      },
      "source": [
        "# Preprocessing"
      ]
    },
    {
      "cell_type": "markdown",
      "metadata": {
        "id": "rLcO1jsj59Z3"
      },
      "source": [
        "## Parameters"
      ]
    },
    {
      "cell_type": "code",
      "metadata": {
        "id": "tflJn6S__MzJ"
      },
      "source": [
        "BATCH_SIZE = 64\r\n",
        "SIZE = 100\r\n",
        "EPOCHS = 30\r\n",
        "\r\n",
        "input_shape = (SIZE, SIZE, 3)\r\n",
        "input_shape_bw = (SIZE, SIZE, 1)\r\n",
        "learning_rate = 0.001\r\n",
        "dl_rate = 1"
      ],
      "execution_count": 4,
      "outputs": []
    },
    {
      "cell_type": "markdown",
      "metadata": {
        "id": "gI_DMsLa8lql"
      },
      "source": [
        "## Store into Arrays"
      ]
    },
    {
      "cell_type": "code",
      "metadata": {
        "id": "6A73MbIg3Dnp"
      },
      "source": [
        "directory = os.path.join('deepfake_database', 'train_test')\n",
        "image_format = '.jpg'\n",
        "\n",
        "def getListOfFiles(dirName):\n",
        "    listOfFile = os.listdir(dirName)\n",
        "    allFiles = list()\n",
        "    for f in listOfFile:\n",
        "        if f.endswith(image_format):\n",
        "            allFiles.append(f)\n",
        "    return allFiles\n",
        "\n",
        "def preprocess(image_path):\n",
        "    image = cv2.imread(image_path)\n",
        "    image = cv2.resize(image, (SIZE, SIZE))\n",
        "    image = cv2.cvtColor(image, cv2.COLOR_BGR2RGB) \n",
        "    return image"
      ],
      "execution_count": 5,
      "outputs": []
    },
    {
      "cell_type": "code",
      "metadata": {
        "id": "gXr5FGxk3Dnr",
        "colab": {
          "base_uri": "https://localhost:8080/"
        },
        "outputId": "6f257382-bcc4-453c-c04f-9381ddc8d984"
      },
      "source": [
        "from tensorflow.keras.preprocessing.image import img_to_array, load_img\n",
        "from PIL import Image\n",
        "import numpy as np\n",
        "from keras.utils import normalize\n",
        "import cv2\n",
        "\n",
        "real_data = getListOfFiles(os.path.join(directory, 'real'))\n",
        "print(\"No. of Real Images: \" + str(len(real_data)))\n",
        "fake_data = getListOfFiles(os.path.join(directory, 'df'))\n",
        "print(\"No. of Fake Images: \" + str(len(fake_data)))\n",
        "\n",
        "rgb_images = []\n",
        "labels = []\n",
        "\n",
        "for img in real_data:\n",
        "    image = preprocess(os.path.join(directory, 'real/') + img)\n",
        "    rgb_images.append(np.array(image))\n",
        "    labels.append(1)\n",
        "\n",
        "for img in fake_data:\n",
        "    image = preprocess(os.path.join(directory, 'df/') + img)\n",
        "    rgb_images.append(np.array(image))\n",
        "    labels.append(0)\n",
        "\n",
        "labels = np.array(labels)\n",
        "rgb_images = np.array(rgb_images)"
      ],
      "execution_count": 6,
      "outputs": [
        {
          "output_type": "stream",
          "text": [
            "No. of Real Images: 7249\n",
            "No. of Fake Images: 5103\n"
          ],
          "name": "stdout"
        }
      ]
    },
    {
      "cell_type": "code",
      "metadata": {
        "id": "j6XlTbbD3Dnu",
        "colab": {
          "base_uri": "https://localhost:8080/",
          "height": 52
        },
        "outputId": "bfed5d7f-46ee-42ce-c670-0845b810d5c1"
      },
      "source": [
        "from sklearn.model_selection import train_test_split\n",
        "\n",
        "#Train-Test split\n",
        "rgb_images_train, rgb_images_val, labels_train, labels_val = train_test_split(rgb_images, \n",
        "                                                                              labels,\n",
        "                                                                              test_size=0.1,\n",
        "                                                                              random_state=42,\n",
        "                                                                              shuffle=True,\n",
        "                                                                              stratify=labels)\n",
        "\n",
        "def splitChannels(image):\n",
        "    image = cv2.resize(image, (SIZE, SIZE))\n",
        "    # gray = cv2.cvtColor(image, cv2.COLOR_BGR2GRAY)\n",
        "    r, g, b = cv2.split(image)\n",
        "    return r, g, b\n",
        "\n",
        "r_images_train = []\n",
        "g_images_train = []\n",
        "b_images_train = []\n",
        "\n",
        "for image in rgb_images_train:\n",
        "    r, g, b = splitChannels(image)\n",
        "    r_images_train.append(np.array(r))\n",
        "    g_images_train.append(np.array(g))\n",
        "    b_images_train.append(np.array(b))\n",
        "r_images_train = np.array(r_images_train)\n",
        "g_images_train = np.array(g_images_train)\n",
        "b_images_train = np.array(b_images_train)\n",
        "\n",
        "r_images_val = []\n",
        "g_images_val = []\n",
        "b_images_val = []\n",
        "\n",
        "for image in rgb_images_val:\n",
        "    r, g, b = splitChannels(image)\n",
        "    r_images_val.append(np.array(r))\n",
        "    g_images_val.append(np.array(g))\n",
        "    b_images_val.append(np.array(b))\n",
        "r_images_val = np.array(r_images_val)\n",
        "g_images_val = np.array(g_images_val)\n",
        "b_images_val = np.array(b_images_val)\n",
        "'''\n",
        "bw_images = []\n",
        "for image in rgb_images:\n",
        "    gray = cv2.cvtColor(image, cv2.COLOR_RGB2GRAY)\n",
        "    bw_images.append(np.array(gray))\n",
        "bw_images = np.array(bw_images)\n",
        "'''\n",
        "#rgb_images = rgb_images / 255.0\n",
        "#bw_images = bw_images / 255.0"
      ],
      "execution_count": 7,
      "outputs": [
        {
          "output_type": "execute_result",
          "data": {
            "application/vnd.google.colaboratory.intrinsic+json": {
              "type": "string"
            },
            "text/plain": [
              "'\\nbw_images = []\\nfor image in rgb_images:\\n    gray = cv2.cvtColor(image, cv2.COLOR_RGB2GRAY)\\n    bw_images.append(np.array(gray))\\nbw_images = np.array(bw_images)\\n'"
            ]
          },
          "metadata": {
            "tags": []
          },
          "execution_count": 7
        }
      ]
    },
    {
      "cell_type": "markdown",
      "metadata": {
        "id": "GoKLp9K-8y5h"
      },
      "source": [
        "# Model"
      ]
    },
    {
      "cell_type": "markdown",
      "metadata": {
        "id": "JQmxao2Y7lU0"
      },
      "source": [
        "## LR Decay"
      ]
    },
    {
      "cell_type": "code",
      "metadata": {
        "id": "gEIpLlfDAQV3"
      },
      "source": [
        "# This function keeps the initial learning rate for the first ten epochs  \r\n",
        "# and decreases it exponentially after that.  \r\n",
        "def scheduler(epoch):\r\n",
        "    lr = 1e-3\r\n",
        "    if epoch < 20:\r\n",
        "        lr = 0.001 \r\n",
        "    elif epoch >= 20 and epoch < 30:\r\n",
        "        lr = 0.0001\r\n",
        "    elif epoch >= 30 and epoch < 40:\r\n",
        "        lr = 0.0001\r\n",
        "    elif epoch >= 40:\r\n",
        "        lr = 0.00001\r\n",
        "    print(\"{0:.8f}\".format(lr))\r\n",
        "    return lr"
      ],
      "execution_count": 8,
      "outputs": []
    },
    {
      "cell_type": "markdown",
      "metadata": {
        "id": "5Rb1pfXFDMj4"
      },
      "source": [
        "## Multichannel Model"
      ]
    },
    {
      "cell_type": "code",
      "metadata": {
        "id": "fIgSQDRYVetW"
      },
      "source": [
        "from keras.layers.merge import concatenate\r\n",
        "from keras.models import Model\r\n",
        "\r\n",
        "def multichannel():\r\n",
        "\r\n",
        "\t# channel 1\r\n",
        "    input1 = Input(shape = (SIZE, SIZE, 1)) \r\n",
        "    x1 = Conv2D(8, (3, 3), padding='same', activation = 'relu')(input1)\r\n",
        "    x1 = BatchNormalization()(x1)\r\n",
        "    x1 = MaxPooling2D(pool_size=(2, 2), padding='same')(x1)  \r\n",
        "    x2 = Conv2D(8, (5, 5), padding='same', activation = 'relu')(x1)\r\n",
        "    x2 = BatchNormalization()(x2)\r\n",
        "    x2 = MaxPooling2D(pool_size=(2, 2), padding='same')(x2)    \r\n",
        "    x3 = Conv2D(16, (5, 5), padding='same', activation = 'relu')(x2)\r\n",
        "    x3 = BatchNormalization()(x3)\r\n",
        "    x3 = MaxPooling2D(pool_size=(2, 2), padding='same')(x3)    \r\n",
        "    x4 = Conv2D(16, (5, 5), padding='same', activation = 'relu')(x3)\r\n",
        "    x4 = BatchNormalization()(x4)\r\n",
        "    x4 = MaxPooling2D(pool_size=(4, 4), padding='same')(x4)    \r\n",
        "    y1 = Flatten()(x4)\r\n",
        "    y1 = Dropout(0.5)(y1)\r\n",
        "    y1 = Dense(16)(y1)\r\n",
        "    y1 = LeakyReLU(alpha=0.1)(y1)\r\n",
        "    y1 = Dropout(0.5)(y1)\r\n",
        "    y1 = Dense(1, activation = 'sigmoid')(y1)\r\n",
        " \r\n",
        "    # channel 2\r\n",
        "    input2 = Input(shape = (SIZE, SIZE, 1)) \r\n",
        "    a1 = Conv2D(8, (3, 3), padding='same', activation = 'relu')(input2)\r\n",
        "    a1 = BatchNormalization()(a1)\r\n",
        "    a1 = MaxPooling2D(pool_size=(2, 2), padding='same')(a1)  \r\n",
        "    a2 = Conv2D(8, (5, 5), padding='same', activation = 'relu')(a1)\r\n",
        "    a2 = BatchNormalization()(a2)\r\n",
        "    a2 = MaxPooling2D(pool_size=(2, 2), padding='same')(a2)    \r\n",
        "    a3 = Conv2D(16, (5, 5), padding='same', activation = 'relu')(a2)\r\n",
        "    a3 = BatchNormalization()(a3)\r\n",
        "    a3 = MaxPooling2D(pool_size=(2, 2), padding='same')(a3)    \r\n",
        "    a4 = Conv2D(16, (5, 5), padding='same', activation = 'relu')(a3)\r\n",
        "    a4 = BatchNormalization()(a4)\r\n",
        "    a4 = MaxPooling2D(pool_size=(4, 4), padding='same')(a4)    \r\n",
        "    b1 = Flatten()(a4)\r\n",
        "    b1 = Dropout(0.5)(b1)\r\n",
        "    b1 = Dense(16)(b1)\r\n",
        "    b1 = LeakyReLU(alpha=0.1)(b1)\r\n",
        "    b1 = Dropout(0.5)(b1)\r\n",
        "    b1 = Dense(1, activation = 'sigmoid')(b1)\r\n",
        "\r\n",
        "    # channel 3\r\n",
        "    input3 = Input(shape = (SIZE, SIZE, 1)) \r\n",
        "    m1 = Conv2D(8, (3, 3), padding='same', activation = 'relu')(input3)\r\n",
        "    m1 = BatchNormalization()(m1)\r\n",
        "    m1 = MaxPooling2D(pool_size=(2, 2), padding='same')(m1)  \r\n",
        "    m2 = Conv2D(8, (5, 5), padding='same', activation = 'relu')(m1)\r\n",
        "    m2 = BatchNormalization()(m2)\r\n",
        "    m2 = MaxPooling2D(pool_size=(2, 2), padding='same')(m2)    \r\n",
        "    m3 = Conv2D(16, (5, 5), padding='same', activation = 'relu')(m2)\r\n",
        "    m3 = BatchNormalization()(m3)\r\n",
        "    m3 = MaxPooling2D(pool_size=(2, 2), padding='same')(m3)    \r\n",
        "    m4 = Conv2D(16, (5, 5), padding='same', activation = 'relu')(m3)\r\n",
        "    m4 = BatchNormalization()(m4)\r\n",
        "    m4 = MaxPooling2D(pool_size=(4, 4), padding='same')(m4)    \r\n",
        "    n1 = Flatten()(m4)\r\n",
        "    n1 = Dropout(0.5)(n1)\r\n",
        "    n1 = Dense(16)(n1)\r\n",
        "    n1 = LeakyReLU(alpha=0.1)(n1)\r\n",
        "    n1 = Dropout(0.5)(n1)\r\n",
        "    n1 = Dense(1, activation = 'sigmoid')(n1)\r\n",
        "\r\n",
        "    # merge\r\n",
        "    merged = concatenate([y1, b1, n1])\r\n",
        "\r\n",
        "    # interpretation\r\n",
        "    dense1 = Dense(64)(merged)\r\n",
        "    dense1 = LeakyReLU(alpha=0.1)(dense1)\r\n",
        "    dense1 = Dropout(0.5)(dense1)\r\n",
        "    outputs = Dense(1, activation='sigmoid')(dense1)\r\n",
        "    model = Model(inputs=[input1, input2, input3], outputs=outputs)\r\n",
        "\r\n",
        "    return model, 'multichannel'"
      ],
      "execution_count": 9,
      "outputs": []
    },
    {
      "cell_type": "markdown",
      "metadata": {
        "id": "VJ3ZUFXa9HOI"
      },
      "source": [
        "## Compile Model"
      ]
    },
    {
      "cell_type": "code",
      "metadata": {
        "colab": {
          "base_uri": "https://localhost:8080/"
        },
        "id": "7KtJAfOWjQm2",
        "outputId": "84624c72-3b58-4282-d831-32d66c1d8092"
      },
      "source": [
        "from keras.models import Model as KerasModel\n",
        "from keras.models import Sequential\n",
        "from keras.layers import Input, Dense, Flatten, Conv2D, MaxPooling2D, BatchNormalization, Dropout, Reshape, Concatenate, LeakyReLU, Embedding, LSTM\n",
        "from keras.optimizers import Adam\n",
        "'''\n",
        "%run -i 'classifiers.py'\n",
        "'''\n",
        "model, modelName = multichannel()\n",
        "optimizer = Adam(lr = 0.0001)\n",
        "model.compile(optimizer = optimizer, loss = 'mean_squared_error', metrics = ['accuracy'])\n",
        "# model.summary()\n",
        "print(modelName)"
      ],
      "execution_count": 10,
      "outputs": [
        {
          "output_type": "stream",
          "text": [
            "multichannel\n"
          ],
          "name": "stdout"
        }
      ]
    },
    {
      "cell_type": "markdown",
      "metadata": {
        "id": "ndb3w9pB9LB2"
      },
      "source": [
        "# Training"
      ]
    },
    {
      "cell_type": "markdown",
      "metadata": {
        "id": "1yAJ1a-e9djn"
      },
      "source": [
        "## Fit Model"
      ]
    },
    {
      "cell_type": "code",
      "metadata": {
        "id": "-8Fwh4Gx12j7",
        "colab": {
          "base_uri": "https://localhost:8080/"
        },
        "outputId": "1ea831cc-36db-4ae4-9fdb-d1b8e8ef4b80"
      },
      "source": [
        "from tensorflow import keras\n",
        "import keras.backend as K\n",
        "\n",
        "callback = keras.callbacks.LearningRateScheduler(scheduler)\n",
        "\n",
        "history = model.fit([r_images_train, g_images_train, b_images_train],\n",
        "                    labels_train,\n",
        "                    epochs=EPOCHS,\n",
        "                    validation_data=([r_images_val, g_images_val, b_images_val], labels_val),\n",
        "                    batch_size=BATCH_SIZE,\n",
        "                    callbacks=[callback],\n",
        "                    workers=4)\n",
        "round(model.optimizer.lr.numpy(), 5)\n"
      ],
      "execution_count": 11,
      "outputs": [
        {
          "output_type": "stream",
          "text": [
            "Epoch 1/30\n",
            "0.00100000\n",
            "174/174 [==============================] - 13s 29ms/step - loss: 0.2365 - accuracy: 0.5905 - val_loss: 0.1626 - val_accuracy: 0.7735\n",
            "Epoch 2/30\n",
            "0.00100000\n",
            "174/174 [==============================] - 4s 24ms/step - loss: 0.1552 - accuracy: 0.7822 - val_loss: 0.1010 - val_accuracy: 0.8600\n",
            "Epoch 3/30\n",
            "0.00100000\n",
            "174/174 [==============================] - 4s 24ms/step - loss: 0.1122 - accuracy: 0.8474 - val_loss: 0.0828 - val_accuracy: 0.8908\n",
            "Epoch 4/30\n",
            "0.00100000\n",
            "174/174 [==============================] - 4s 24ms/step - loss: 0.0915 - accuracy: 0.8740 - val_loss: 0.1087 - val_accuracy: 0.8471\n",
            "Epoch 5/30\n",
            "0.00100000\n",
            "174/174 [==============================] - 4s 24ms/step - loss: 0.0821 - accuracy: 0.8893 - val_loss: 0.0516 - val_accuracy: 0.9272\n",
            "Epoch 6/30\n",
            "0.00100000\n",
            "174/174 [==============================] - 4s 24ms/step - loss: 0.0715 - accuracy: 0.9067 - val_loss: 0.0496 - val_accuracy: 0.9369\n",
            "Epoch 7/30\n",
            "0.00100000\n",
            "174/174 [==============================] - 4s 24ms/step - loss: 0.0605 - accuracy: 0.9210 - val_loss: 0.0477 - val_accuracy: 0.9401\n",
            "Epoch 8/30\n",
            "0.00100000\n",
            "174/174 [==============================] - 4s 24ms/step - loss: 0.0579 - accuracy: 0.9234 - val_loss: 0.0367 - val_accuracy: 0.9515\n",
            "Epoch 9/30\n",
            "0.00100000\n",
            "174/174 [==============================] - 4s 24ms/step - loss: 0.0483 - accuracy: 0.9386 - val_loss: 0.0378 - val_accuracy: 0.9555\n",
            "Epoch 10/30\n",
            "0.00100000\n",
            "174/174 [==============================] - 4s 24ms/step - loss: 0.0446 - accuracy: 0.9460 - val_loss: 0.0471 - val_accuracy: 0.9320\n",
            "Epoch 11/30\n",
            "0.00100000\n",
            "174/174 [==============================] - 4s 24ms/step - loss: 0.0432 - accuracy: 0.9440 - val_loss: 0.0582 - val_accuracy: 0.9296\n",
            "Epoch 12/30\n",
            "0.00100000\n",
            "174/174 [==============================] - 4s 24ms/step - loss: 0.0430 - accuracy: 0.9452 - val_loss: 0.0276 - val_accuracy: 0.9668\n",
            "Epoch 13/30\n",
            "0.00100000\n",
            "174/174 [==============================] - 4s 24ms/step - loss: 0.0342 - accuracy: 0.9574 - val_loss: 0.0279 - val_accuracy: 0.9660\n",
            "Epoch 14/30\n",
            "0.00100000\n",
            "174/174 [==============================] - 4s 24ms/step - loss: 0.0351 - accuracy: 0.9548 - val_loss: 0.0296 - val_accuracy: 0.9595\n",
            "Epoch 15/30\n",
            "0.00100000\n",
            "174/174 [==============================] - 4s 24ms/step - loss: 0.0322 - accuracy: 0.9585 - val_loss: 0.0242 - val_accuracy: 0.9684\n",
            "Epoch 16/30\n",
            "0.00100000\n",
            "174/174 [==============================] - 4s 24ms/step - loss: 0.0346 - accuracy: 0.9564 - val_loss: 0.0291 - val_accuracy: 0.9620\n",
            "Epoch 17/30\n",
            "0.00100000\n",
            "174/174 [==============================] - 4s 24ms/step - loss: 0.0285 - accuracy: 0.9617 - val_loss: 0.0434 - val_accuracy: 0.9409\n",
            "Epoch 18/30\n",
            "0.00100000\n",
            "174/174 [==============================] - 4s 24ms/step - loss: 0.0310 - accuracy: 0.9601 - val_loss: 0.0223 - val_accuracy: 0.9733\n",
            "Epoch 19/30\n",
            "0.00100000\n",
            "174/174 [==============================] - 4s 25ms/step - loss: 0.0275 - accuracy: 0.9660 - val_loss: 0.0206 - val_accuracy: 0.9765\n",
            "Epoch 20/30\n",
            "0.00100000\n",
            "174/174 [==============================] - 4s 25ms/step - loss: 0.0251 - accuracy: 0.9681 - val_loss: 0.0393 - val_accuracy: 0.9442\n",
            "Epoch 21/30\n",
            "0.00010000\n",
            "174/174 [==============================] - 4s 25ms/step - loss: 0.0249 - accuracy: 0.9692 - val_loss: 0.0179 - val_accuracy: 0.9773\n",
            "Epoch 22/30\n",
            "0.00010000\n",
            "174/174 [==============================] - 4s 25ms/step - loss: 0.0227 - accuracy: 0.9700 - val_loss: 0.0156 - val_accuracy: 0.9806\n",
            "Epoch 23/30\n",
            "0.00010000\n",
            "174/174 [==============================] - 4s 25ms/step - loss: 0.0184 - accuracy: 0.9761 - val_loss: 0.0160 - val_accuracy: 0.9798\n",
            "Epoch 24/30\n",
            "0.00010000\n",
            "174/174 [==============================] - 4s 25ms/step - loss: 0.0180 - accuracy: 0.9776 - val_loss: 0.0141 - val_accuracy: 0.9830\n",
            "Epoch 25/30\n",
            "0.00010000\n",
            "174/174 [==============================] - 4s 25ms/step - loss: 0.0189 - accuracy: 0.9753 - val_loss: 0.0152 - val_accuracy: 0.9798\n",
            "Epoch 26/30\n",
            "0.00010000\n",
            "174/174 [==============================] - 4s 25ms/step - loss: 0.0155 - accuracy: 0.9803 - val_loss: 0.0142 - val_accuracy: 0.9822\n",
            "Epoch 27/30\n",
            "0.00010000\n",
            "174/174 [==============================] - 4s 25ms/step - loss: 0.0167 - accuracy: 0.9797 - val_loss: 0.0136 - val_accuracy: 0.9846\n",
            "Epoch 28/30\n",
            "0.00010000\n",
            "174/174 [==============================] - 4s 25ms/step - loss: 0.0159 - accuracy: 0.9806 - val_loss: 0.0144 - val_accuracy: 0.9830\n",
            "Epoch 29/30\n",
            "0.00010000\n",
            "174/174 [==============================] - 4s 25ms/step - loss: 0.0149 - accuracy: 0.9816 - val_loss: 0.0139 - val_accuracy: 0.9806\n",
            "Epoch 30/30\n",
            "0.00010000\n",
            "174/174 [==============================] - 4s 25ms/step - loss: 0.0140 - accuracy: 0.9824 - val_loss: 0.0134 - val_accuracy: 0.9830\n"
          ],
          "name": "stdout"
        },
        {
          "output_type": "execute_result",
          "data": {
            "text/plain": [
              "1e-04"
            ]
          },
          "metadata": {
            "tags": []
          },
          "execution_count": 11
        }
      ]
    },
    {
      "cell_type": "markdown",
      "metadata": {
        "id": "Vafzh39d9VZ2"
      },
      "source": [
        "## Training and Validation Graphs"
      ]
    },
    {
      "cell_type": "code",
      "metadata": {
        "id": "JmIarIkj3Dn8",
        "colab": {
          "base_uri": "https://localhost:8080/",
          "height": 308
        },
        "outputId": "ae48ca60-1029-4c41-d8bc-6806944e5824"
      },
      "source": [
        "import matplotlib.pyplot as plt\n",
        "\n",
        "f, (ax1, ax2) = plt.subplots(1, 2, figsize=(20, 4))\n",
        "t = f.suptitle('Training and Validation Performance for ' + modelName, fontsize=12)\n",
        "f.subplots_adjust(top=0.85, wspace=0.3)\n",
        "\n",
        "epoch_list = list(range(1,EPOCHS+1))\n",
        "ax1.plot(epoch_list, history.history['accuracy'], label='Train Accuracy')\n",
        "ax1.plot(epoch_list, history.history['val_accuracy'], label='Validation Accuracy')\n",
        "ax1.set_xticks(np.arange(0, EPOCHS+1, 1))\n",
        "ax1.set_ylabel('Accuracy Value')\n",
        "ax1.set_xlabel('Epoch #')\n",
        "ax1.set_title('Accuracy')\n",
        "l1 = ax1.legend(loc=\"best\")\n",
        "\n",
        "ax2.plot(epoch_list, history.history['loss'], label='Train Loss')\n",
        "ax2.plot(epoch_list, history.history['val_loss'], label='Validation Loss')\n",
        "ax2.set_xticks(np.arange(0, EPOCHS+1, 1))\n",
        "ax2.set_ylabel('Loss Value')\n",
        "ax2.set_xlabel('Epoch #')\n",
        "ax2.set_title('Loss')\n",
        "l2 = ax2.legend(loc=\"best\")"
      ],
      "execution_count": 12,
      "outputs": [
        {
          "output_type": "display_data",
          "data": {
            "image/png": "[encoded data removed]",
            "text/plain": [
              "<Figure size 1440x288 with 2 Axes>"
            ]
          },
          "metadata": {
            "tags": [],
            "needs_background": "light"
          }
        }
      ]
    },
    {
      "cell_type": "markdown",
      "metadata": {
        "id": "GSyUbKcWMWrB"
      },
      "source": [
        "# Prediction"
      ]
    },
    {
      "cell_type": "markdown",
      "metadata": {
        "id": "CPThpQTQssNp"
      },
      "source": [
        "## Store into Arrays"
      ]
    },
    {
      "cell_type": "code",
      "metadata": {
        "id": "k0yNDcB9ssNx"
      },
      "source": [
        "directory = os.path.join('deepfake_database', 'train_test')\n",
        "image_format = '.jpg'\n",
        "\n",
        "def getListOfFiles(dirName):\n",
        "    listOfFile = os.listdir(dirName)\n",
        "    allFiles = list()\n",
        "    for f in listOfFile:\n",
        "        if f.endswith(image_format):\n",
        "            allFiles.append(f)\n",
        "    return allFiles\n",
        "\n",
        "def preprocess(image_path):\n",
        "    image = cv2.imread(image_path)\n",
        "    image = cv2.resize(image, (SIZE, SIZE))\n",
        "    image = cv2.cvtColor(image, cv2.COLOR_BGR2RGB) \n",
        "    return image"
      ],
      "execution_count": null,
      "outputs": []
    },
    {
      "cell_type": "code",
      "metadata": {
        "colab": {
          "base_uri": "https://localhost:8080/"
        },
        "id": "_ceq_WDVssNx",
        "outputId": "264a5575-c68d-415b-fdf3-7dea0e077d14"
      },
      "source": [
        "from tensorflow.keras.preprocessing.image import img_to_array, load_img\n",
        "from PIL import Image\n",
        "import numpy as np\n",
        "from keras.utils import normalize\n",
        "import cv2\n",
        "\n",
        "real_data = getListOfFiles(os.path.join(directory, 'real'))\n",
        "print(\"No. of Real Images: \" + str(len(real_data)))\n",
        "fake_data = getListOfFiles(os.path.join(directory, 'df'))\n",
        "print(\"No. of Fake Images: \" + str(len(fake_data)))\n",
        "\n",
        "rgb_images = []\n",
        "labels = []\n",
        "\n",
        "for img in real_data:\n",
        "    image = preprocess(os.path.join(directory, 'real/') + img)\n",
        "    rgb_images.append(np.array(image))\n",
        "    labels.append(1)\n",
        "\n",
        "for img in fake_data:\n",
        "    image = preprocess(os.path.join(directory, 'df/') + img)\n",
        "    rgb_images.append(np.array(image))\n",
        "    labels.append(0)\n",
        "\n",
        "labels = np.array(labels)\n",
        "rgb_images = np.array(rgb_images)"
      ],
      "execution_count": 17,
      "outputs": [
        {
          "output_type": "stream",
          "text": [
            "No. of Real Images: 4259\n",
            "No. of Fake Images: 2845\n"
          ],
          "name": "stdout"
        }
      ]
    },
    {
      "cell_type": "code",
      "metadata": {
        "colab": {
          "base_uri": "https://localhost:8080/",
          "height": 52
        },
        "id": "Agn3oFVvssNy",
        "outputId": "5554433b-485e-4dc1-f058-df4bdde66d34"
      },
      "source": [
        "def splitChannels(image):\n",
        "    image = cv2.resize(image, (SIZE, SIZE))\n",
        "    # gray = cv2.cvtColor(image, cv2.COLOR_BGR2GRAY)\n",
        "    r, g, b = cv2.split(image)\n",
        "    return r, g, b\n",
        "\n",
        "r_images = []\n",
        "g_images = []\n",
        "b_images = []\n",
        "\n",
        "for image in rgb_images:\n",
        "    r, g, b = splitChannels(image)\n",
        "    r_images.append(np.array(r))\n",
        "    g_images.append(np.array(g))\n",
        "    b_images.append(np.array(b))\n",
        "r_images = np.array(r_images)\n",
        "g_images = np.array(g_images)\n",
        "b_images = np.array(b_images)\n",
        "\n",
        "'''\n",
        "bw_images = []\n",
        "for image in rgb_images:\n",
        "    gray = cv2.cvtColor(image, cv2.COLOR_RGB2GRAY)\n",
        "    bw_images.append(np.array(gray))\n",
        "bw_images = np.array(bw_images)\n",
        "'''\n",
        "#rgb_images = rgb_images / 255.0\n",
        "#bw_images = bw_images / 255.0"
      ],
      "execution_count": 19,
      "outputs": [
        {
          "output_type": "execute_result",
          "data": {
            "application/vnd.google.colaboratory.intrinsic+json": {
              "type": "string"
            },
            "text/plain": [
              "'\\nbw_images = []\\nfor image in rgb_images:\\n    gray = cv2.cvtColor(image, cv2.COLOR_RGB2GRAY)\\n    bw_images.append(np.array(gray))\\nbw_images = np.array(bw_images)\\n'"
            ]
          },
          "metadata": {
            "tags": []
          },
          "execution_count": 19
        }
      ]
    },
    {
      "cell_type": "markdown",
      "metadata": {
        "id": "oAqU-RLekwDI"
      },
      "source": [
        "## Make Prediction"
      ]
    },
    {
      "cell_type": "code",
      "metadata": {
        "id": "EYf9QXMNbkcB",
        "colab": {
          "base_uri": "https://localhost:8080/"
        },
        "outputId": "298bf90e-9de7-4175-a4f4-c3f8411baef7"
      },
      "source": [
        "Y_pred = (model.predict([r_images, g_images, b_images], verbose=1) > 0.5).astype(\"int32\")\r\n",
        "\r\n",
        "import matplotlib.pyplot as plt\r\n",
        "predicted_labels = []\r\n",
        "count = 0\r\n",
        "for pred in Y_pred:\r\n",
        "    predicted_labels.append(pred)\r\n",
        "predicted_labels = np.array(predicted_labels)"
      ],
      "execution_count": 20,
      "outputs": [
        {
          "output_type": "stream",
          "text": [
            "222/222 [==============================] - 1s 5ms/step\n"
          ],
          "name": "stdout"
        }
      ]
    },
    {
      "cell_type": "markdown",
      "metadata": {
        "id": "fnPxkC2timnb"
      },
      "source": [
        "## Classification Report"
      ]
    },
    {
      "cell_type": "code",
      "metadata": {
        "id": "VKztxwp4ibct",
        "colab": {
          "base_uri": "https://localhost:8080/"
        },
        "outputId": "2c1c96f6-9b11-4f8b-fa46-53be2c3f8464"
      },
      "source": [
        "from sklearn.metrics import classification_report\n",
        "classificationReport = classification_report(labels, predicted_labels, target_names=['df','real'])\n",
        "print(classificationReport)"
      ],
      "execution_count": 21,
      "outputs": [
        {
          "output_type": "stream",
          "text": [
            "              precision    recall  f1-score   support\n",
            "\n",
            "          df       0.84      0.92      0.88      2845\n",
            "        real       0.94      0.89      0.91      4259\n",
            "\n",
            "    accuracy                           0.90      7104\n",
            "   macro avg       0.89      0.90      0.90      7104\n",
            "weighted avg       0.90      0.90      0.90      7104\n",
            "\n"
          ],
          "name": "stdout"
        }
      ]
    },
    {
      "cell_type": "markdown",
      "metadata": {
        "id": "lZI6-stDS_ol"
      },
      "source": [
        "## Confusion Matrix"
      ]
    },
    {
      "cell_type": "code",
      "metadata": {
        "id": "_l-PorZI3DoB",
        "colab": {
          "base_uri": "https://localhost:8080/",
          "height": 402
        },
        "outputId": "0a2c0a59-7cda-44b9-b7dd-cbc3db82441d"
      },
      "source": [
        "#Output confusion matrix\n",
        "from sklearn.metrics import confusion_matrix\n",
        "import pandas as pd\n",
        "import seaborn as sn\n",
        "import matplotlib.pyplot as plt\n",
        "\n",
        "def print_confusion_matrix(y_true, y_pred):\n",
        "    cm = confusion_matrix(y_true, y_pred)\n",
        "    print('True positive = ', cm[0][0])\n",
        "    print('False positive = ', cm[0][1])\n",
        "    print('False negative = ', cm[1][0])\n",
        "    print('True negative = ', cm[1][1])\n",
        "    print('\\n')\n",
        "    df_cm = pd.DataFrame(cm, range(2), range(2))\n",
        "    sn.set(font_scale=1.4) # for label size\n",
        "    sn.heatmap(df_cm, annot=True, annot_kws={\"size\": 16}, cmap=\"YlGnBu\") # font size\n",
        "    plt.ylabel('Actual label', size = 20)\n",
        "    plt.xlabel('Predicted label', size = 20)\n",
        "    plt.xticks(np.arange(2), ['df','real'], size = 16)\n",
        "    plt.yticks(np.arange(2), ['df','real'], size = 16)\n",
        "    plt.ylim([2, 0])\n",
        "    plt.show()\n",
        "    return cm\n",
        "    \n",
        "confusionMatrix = print_confusion_matrix(labels, predicted_labels)"
      ],
      "execution_count": 22,
      "outputs": [
        {
          "output_type": "stream",
          "text": [
            "True positive =  2604\n",
            "False positive =  241\n",
            "False negative =  483\n",
            "True negative =  3776\n",
            "\n",
            "\n"
          ],
          "name": "stdout"
        },
        {
          "output_type": "display_data",
          "data": {
            "image/png": "[encoded data removed]",
            "text/plain": [
              "<Figure size 432x288 with 2 Axes>"
            ]
          },
          "metadata": {
            "tags": []
          }
        }
      ]
    },
    {
      "cell_type": "markdown",
      "metadata": {
        "id": "Go_uGCTqU5XR"
      },
      "source": [
        "# Write to File"
      ]
    },
    {
      "cell_type": "code",
      "metadata": {
        "id": "9W4SCXEZU7SB"
      },
      "source": [
        "import os\r\n",
        "\r\n",
        "tp = str('True positive = '+ str(confusionMatrix[0][0]) + '\\n')\r\n",
        "fp = str('False positive = '+ str(confusionMatrix[0][1]) + '\\n')\r\n",
        "fn = str('False negative = '+ str(confusionMatrix[1][0]) + '\\n')\r\n",
        "tn = str('True negative = '+ str(confusionMatrix[1][1]) + '\\n')\r\n",
        "\r\n",
        "data = (\r\n",
        "    'Model Name: ' + str(modelName) + '\\n' +\r\n",
        "    'Batch Size: ' + str(BATCH_SIZE) + '\\n' +\r\n",
        "    'Image Size: ' + str(SIZE) + '\\n' +\r\n",
        "    'Epochs: ' + str(EPOCHS) + '\\n' +\r\n",
        "    '===================================================== \\n\\n' +\r\n",
        "    str(classificationReport) + '\\n' + str(tp + fp + fn + tn)\r\n",
        ")\r\n",
        "\r\n",
        "from datetime import datetime \r\n",
        "import pytz \r\n",
        "  \r\n",
        "# get the standard UTC time  \r\n",
        "UTC = pytz.utc \r\n",
        "  \r\n",
        "# it will get the time zone  \r\n",
        "# of the specified location \r\n",
        "IST = pytz.timezone('Asia/Kolkata') \r\n",
        "  \r\n",
        "datetime_ist = datetime.now(IST) \r\n",
        "filename = ('Report ' + datetime_ist.strftime('%Y-%m-%d %H%M') + ' ' + modelName + '.txt')\r\n",
        "\r\n",
        "myFile = open(filename, 'w')\r\n",
        "myFile.write(data)\r\n",
        "myFile.close()\r\n",
        "\r\n",
        "model.save(modelName + ' ' + datetime_ist.strftime('%Y-%m-%d %H%M') + '.h5')"
      ],
      "execution_count": 23,
      "outputs": []
    }
  ]
}