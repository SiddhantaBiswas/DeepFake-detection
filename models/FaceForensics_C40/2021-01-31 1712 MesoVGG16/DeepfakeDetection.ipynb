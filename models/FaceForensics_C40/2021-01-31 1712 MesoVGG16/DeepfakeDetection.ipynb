{
  "nbformat": 4,
  "nbformat_minor": 0,
  "metadata": {
    "accelerator": "GPU",
    "colab": {
      "name": "DeepfakeDetection.ipynb",
      "provenance": [],
      "collapsed_sections": []
    },
    "kernelspec": {
      "display_name": "Python 3",
      "name": "python3"
    }
  },
  "cells": [
    {
      "cell_type": "code",
      "metadata": {
        "id": "N-9RKWkoMMVH"
      },
      "source": [
        "import os\r\n",
        "#os.environ['PYTHONHASHSEED'] = '0'\r\n",
        "\r\n",
        "import tensorflow as tf\r\n",
        "#tf.random.set_seed(89)\r\n",
        "\r\n",
        "import numpy as np\r\n",
        "#np.random.seed(42)\r\n",
        "\r\n",
        "import random as rn\r\n",
        "#rn.seed(1254)"
      ],
      "execution_count": null,
      "outputs": []
    },
    {
      "cell_type": "markdown",
      "metadata": {
        "id": "mL5YWlcaRUmV"
      },
      "source": [
        "# Preprocessing"
      ]
    },
    {
      "cell_type": "code",
      "metadata": {
        "colab": {
          "base_uri": "https://localhost:8080/"
        },
        "id": "eEgqKYL6RwWG",
        "outputId": "7ae50d02-a760-4eb9-9945-84ff177cbf18"
      },
      "source": [
        "from google.colab import drive\r\n",
        "drive.mount('/content/drive')"
      ],
      "execution_count": null,
      "outputs": [
        {
          "output_type": "stream",
          "text": [
            "Drive already mounted at /content/drive; to attempt to forcibly remount, call drive.mount(\"/content/drive\", force_remount=True).\n"
          ],
          "name": "stdout"
        }
      ]
    },
    {
      "cell_type": "code",
      "metadata": {
        "id": "n74vJZ9TSM6o"
      },
      "source": [
        "%%capture\r\n",
        "!unzip -o \"/content/drive/My Drive/Thesis/deepfake-detection-master/ff_dataset.zip\" -d /content/"
      ],
      "execution_count": null,
      "outputs": []
    },
    {
      "cell_type": "markdown",
      "metadata": {
        "id": "rLcO1jsj59Z3"
      },
      "source": [
        "## Parameters"
      ]
    },
    {
      "cell_type": "code",
      "metadata": {
        "id": "tflJn6S__MzJ"
      },
      "source": [
        "BATCH_SIZE = 64\r\n",
        "SIZE = 224\r\n",
        "EPOCHS = 50\r\n",
        "\r\n",
        "input_shape = (SIZE, SIZE, 3)\r\n",
        "learning_rate = 0.001\r\n",
        "dl_rate = 1"
      ],
      "execution_count": null,
      "outputs": []
    },
    {
      "cell_type": "markdown",
      "metadata": {
        "id": "gI_DMsLa8lql"
      },
      "source": [
        "## Store into tf.data.Dataset"
      ]
    },
    {
      "cell_type": "markdown",
      "metadata": {
        "id": "ptstd7Es1wWZ"
      },
      "source": [
        "### FaceForensics++"
      ]
    },
    {
      "cell_type": "code",
      "metadata": {
        "colab": {
          "base_uri": "https://localhost:8080/"
        },
        "id": "C-oy8_ylz5Y2",
        "outputId": "f4d9c8af-dcc3-4935-b156-dae9c414c9de"
      },
      "source": [
        "from tensorflow.keras.preprocessing import image_dataset_from_directory\r\n",
        "\r\n",
        "dir_train = os.path.join('ff_dataset', 'Frames_train')\r\n",
        "dir_val = os.path.join('ff_dataset', 'Frames_validation')\r\n",
        "dir_test = os.path.join('ff_dataset', 'Frames_test')\r\n",
        "image_format = '.jpg'\r\n",
        "\r\n",
        "training_dataset = image_dataset_from_directory(\r\n",
        "    dir_train,\r\n",
        "    labels=\"inferred\",\r\n",
        "    label_mode=\"binary\",\r\n",
        "    class_names=['df', 'real'],\r\n",
        "    color_mode=\"rgb\",\r\n",
        "    batch_size=BATCH_SIZE,\r\n",
        "    image_size=(SIZE, SIZE),\r\n",
        "    shuffle=True,\r\n",
        "    seed=42\r\n",
        ")\r\n",
        "\r\n",
        "validation_dataset = image_dataset_from_directory(\r\n",
        "    dir_val,\r\n",
        "    labels=\"inferred\",\r\n",
        "    label_mode=\"binary\",\r\n",
        "    class_names=['df', 'real'],\r\n",
        "    color_mode=\"rgb\",\r\n",
        "    batch_size=BATCH_SIZE,\r\n",
        "    image_size=(SIZE, SIZE),\r\n",
        "    shuffle=True,\r\n",
        "    seed=42\r\n",
        ")\r\n"
      ],
      "execution_count": null,
      "outputs": [
        {
          "output_type": "stream",
          "text": [
            "Found 46402 files belonging to 2 classes.\n",
            "Found 15407 files belonging to 2 classes.\n"
          ],
          "name": "stdout"
        }
      ]
    },
    {
      "cell_type": "markdown",
      "metadata": {
        "id": "nhnOJD1y10cO"
      },
      "source": [
        "### Deepfake_Database"
      ]
    },
    {
      "cell_type": "code",
      "metadata": {
        "colab": {
          "base_uri": "https://localhost:8080/",
          "height": 118
        },
        "id": "1VpZ8EXzc1Gy",
        "outputId": "013498f8-92ca-42cb-de80-c91a4ec42504"
      },
      "source": [
        "'''\r\n",
        "from tensorflow.keras.preprocessing import image_dataset_from_directory\r\n",
        "\r\n",
        "directory = os.path.join('deepfake_database', 'train_test')\r\n",
        "image_format = '.jpg'\r\n",
        "\r\n",
        "training_dataset = image_dataset_from_directory(\r\n",
        "    directory,\r\n",
        "    labels=\"inferred\",\r\n",
        "    label_mode=\"binary\",\r\n",
        "    class_names=['df', 'real'],\r\n",
        "    color_mode=\"rgb\",\r\n",
        "    batch_size=BATCH_SIZE,\r\n",
        "    image_size=(SIZE, SIZE),\r\n",
        "    shuffle=True,\r\n",
        "    validation_split=0.1,\r\n",
        "    subset=\"training\",\r\n",
        "    seed=42\r\n",
        ")\r\n",
        "\r\n",
        "validation_dataset = image_dataset_from_directory(\r\n",
        "    directory,\r\n",
        "    labels=\"inferred\",\r\n",
        "    label_mode=\"binary\",\r\n",
        "    class_names=['df', 'real'],\r\n",
        "    color_mode=\"rgb\",\r\n",
        "    batch_size=BATCH_SIZE,\r\n",
        "    image_size=(SIZE, SIZE),\r\n",
        "    shuffle=True,\r\n",
        "    validation_split=0.1,\r\n",
        "    subset=\"validation\",\r\n",
        "    seed=42\r\n",
        ")\r\n",
        "'''"
      ],
      "execution_count": null,
      "outputs": [
        {
          "output_type": "execute_result",
          "data": {
            "application/vnd.google.colaboratory.intrinsic+json": {
              "type": "string"
            },
            "text/plain": [
              "'\\nfrom tensorflow.keras.preprocessing import image_dataset_from_directory\\n\\ndirectory = os.path.join(\\'deepfake_database\\', \\'train_test\\')\\nimage_format = \\'.jpg\\'\\n\\ntraining_dataset = image_dataset_from_directory(\\n    directory,\\n    labels=\"inferred\",\\n    label_mode=\"binary\",\\n    class_names=[\\'df\\', \\'real\\'],\\n    color_mode=\"rgb\",\\n    batch_size=BATCH_SIZE,\\n    image_size=(SIZE, SIZE),\\n    shuffle=True,\\n    validation_split=0.1,\\n    subset=\"training\",\\n    seed=42\\n)\\n\\nvalidation_dataset = image_dataset_from_directory(\\n    directory,\\n    labels=\"inferred\",\\n    label_mode=\"binary\",\\n    class_names=[\\'df\\', \\'real\\'],\\n    color_mode=\"rgb\",\\n    batch_size=BATCH_SIZE,\\n    image_size=(SIZE, SIZE),\\n    shuffle=True,\\n    validation_split=0.1,\\n    subset=\"validation\",\\n    seed=42\\n)\\n'"
            ]
          },
          "metadata": {
            "tags": []
          },
          "execution_count": 6
        }
      ]
    },
    {
      "cell_type": "code",
      "metadata": {
        "colab": {
          "base_uri": "https://localhost:8080/"
        },
        "id": "-3a1TWu5q5oM",
        "outputId": "a49f9eb7-9972-41c3-afc5-4fcb4595b22e"
      },
      "source": [
        "steps_per_epoch=len(training_dataset)\r\n",
        "print(steps_per_epoch)"
      ],
      "execution_count": null,
      "outputs": [
        {
          "output_type": "stream",
          "text": [
            "726\n"
          ],
          "name": "stdout"
        }
      ]
    },
    {
      "cell_type": "markdown",
      "metadata": {
        "id": "GoKLp9K-8y5h"
      },
      "source": [
        "# Model"
      ]
    },
    {
      "cell_type": "markdown",
      "metadata": {
        "id": "JQmxao2Y7lU0"
      },
      "source": [
        "## LR Decay"
      ]
    },
    {
      "cell_type": "code",
      "metadata": {
        "id": "gEIpLlfDAQV3"
      },
      "source": [
        "# This function keeps the initial learning rate for the first ten epochs  \r\n",
        "# and decreases it exponentially after that.  \r\n",
        "def scheduler(epoch):\r\n",
        "    lr = 1e-3\r\n",
        "    if epoch < 10:\r\n",
        "        lr = 0.005 \r\n",
        "    if epoch >= 10 and epoch< 20:\r\n",
        "        lr = 0.001 \r\n",
        "    elif epoch >= 20 and epoch < 30:\r\n",
        "        lr = 0.001\r\n",
        "    elif epoch >= 30 and epoch < 40:\r\n",
        "        lr = 0.0001\r\n",
        "    elif epoch >= 40:\r\n",
        "        lr = 0.0001\r\n",
        "    print(\"{0:.8f}\".format(lr))\r\n",
        "    return lr"
      ],
      "execution_count": null,
      "outputs": []
    },
    {
      "cell_type": "markdown",
      "metadata": {
        "id": "VJ3ZUFXa9HOI"
      },
      "source": [
        "## Compile Model"
      ]
    },
    {
      "cell_type": "code",
      "metadata": {
        "colab": {
          "base_uri": "https://localhost:8080/"
        },
        "id": "7KtJAfOWjQm2",
        "outputId": "c179a406-d8b9-4097-f435-02de2cd4118d"
      },
      "source": [
        "from keras.models import Model as KerasModel\n",
        "from keras.models import Sequential\n",
        "from keras.layers import Input, Dense, Flatten, Conv2D, MaxPooling2D, BatchNormalization, Dropout, Reshape, Concatenate, LeakyReLU, Embedding, LSTM\n",
        "from keras.optimizers import Adam\n",
        "\n",
        "%run -i 'classifiers.py'\n",
        "\n",
        "model, modelName = Meso4VGG16(input_shape)\n",
        "optimizer = Adam(lr = learning_rate)\n",
        "model.compile(optimizer = optimizer, loss = 'mean_squared_error', metrics = ['accuracy'])\n",
        "print(modelName)"
      ],
      "execution_count": null,
      "outputs": [
        {
          "output_type": "stream",
          "text": [
            "Meso4VGG16\n"
          ],
          "name": "stdout"
        }
      ]
    },
    {
      "cell_type": "markdown",
      "metadata": {
        "id": "ndb3w9pB9LB2"
      },
      "source": [
        "# Training"
      ]
    },
    {
      "cell_type": "markdown",
      "metadata": {
        "id": "1yAJ1a-e9djn"
      },
      "source": [
        "## Fit Model"
      ]
    },
    {
      "cell_type": "code",
      "metadata": {
        "id": "-8Fwh4Gx12j7",
        "colab": {
          "base_uri": "https://localhost:8080/"
        },
        "outputId": "64f59ab9-1bd1-49dd-8011-a1b877453f16"
      },
      "source": [
        "from tensorflow import keras\n",
        "import keras.backend as K\n",
        "\n",
        "callback = keras.callbacks.LearningRateScheduler(scheduler)\n",
        "\n",
        "history = model.fit(training_dataset,\n",
        "                    epochs=EPOCHS,\n",
        "                    validation_data=validation_dataset,\n",
        "                    steps_per_epoch=steps_per_epoch,\n",
        "                    callbacks=[callback],\n",
        "                    workers=4)\n",
        "round(model.optimizer.lr.numpy(), 5)\n"
      ],
      "execution_count": null,
      "outputs": [
        {
          "output_type": "stream",
          "text": [
            "Epoch 1/50\n",
            "0.00500000\n",
            "726/726 [==============================] - 139s 186ms/step - loss: 0.2964 - accuracy: 0.5657 - val_loss: 0.2232 - val_accuracy: 0.6875\n",
            "Epoch 2/50\n",
            "0.00500000\n",
            "726/726 [==============================] - 136s 187ms/step - loss: 0.1827 - accuracy: 0.7364 - val_loss: 0.2067 - val_accuracy: 0.7055\n",
            "Epoch 3/50\n",
            "0.00500000\n",
            "726/726 [==============================] - 137s 188ms/step - loss: 0.1328 - accuracy: 0.8193 - val_loss: 0.1633 - val_accuracy: 0.7817\n",
            "Epoch 4/50\n",
            "0.00500000\n",
            "726/726 [==============================] - 137s 188ms/step - loss: 0.1038 - accuracy: 0.8632 - val_loss: 0.1646 - val_accuracy: 0.7684\n",
            "Epoch 5/50\n",
            "0.00500000\n",
            "726/726 [==============================] - 137s 188ms/step - loss: 0.0849 - accuracy: 0.8886 - val_loss: 0.1879 - val_accuracy: 0.7685\n",
            "Epoch 6/50\n",
            "0.00500000\n",
            "726/726 [==============================] - 136s 187ms/step - loss: 0.0689 - accuracy: 0.9123 - val_loss: 0.1881 - val_accuracy: 0.7765\n",
            "Epoch 7/50\n",
            "0.00500000\n",
            "726/726 [==============================] - 135s 185ms/step - loss: 0.0542 - accuracy: 0.9311 - val_loss: 0.1867 - val_accuracy: 0.7736\n",
            "Epoch 8/50\n",
            "0.00500000\n",
            "726/726 [==============================] - 136s 187ms/step - loss: 0.0576 - accuracy: 0.9266 - val_loss: 0.1964 - val_accuracy: 0.7684\n",
            "Epoch 9/50\n",
            "0.00500000\n",
            "726/726 [==============================] - 136s 187ms/step - loss: 0.0364 - accuracy: 0.9559 - val_loss: 0.1947 - val_accuracy: 0.7828\n",
            "Epoch 10/50\n",
            "0.00500000\n",
            "726/726 [==============================] - 136s 186ms/step - loss: 0.0391 - accuracy: 0.9534 - val_loss: 0.1886 - val_accuracy: 0.7883\n",
            "Epoch 11/50\n",
            "0.00100000\n",
            "726/726 [==============================] - 135s 186ms/step - loss: 0.0221 - accuracy: 0.9733 - val_loss: 0.1801 - val_accuracy: 0.7972\n",
            "Epoch 12/50\n",
            "0.00100000\n",
            "726/726 [==============================] - 136s 187ms/step - loss: 0.0152 - accuracy: 0.9811 - val_loss: 0.1892 - val_accuracy: 0.7882\n",
            "Epoch 13/50\n",
            "0.00100000\n",
            "726/726 [==============================] - 134s 185ms/step - loss: 0.0130 - accuracy: 0.9852 - val_loss: 0.1825 - val_accuracy: 0.7959\n",
            "Epoch 14/50\n",
            "0.00100000\n",
            "726/726 [==============================] - 137s 188ms/step - loss: 0.0119 - accuracy: 0.9862 - val_loss: 0.1886 - val_accuracy: 0.7922\n",
            "Epoch 15/50\n",
            "0.00100000\n",
            "726/726 [==============================] - 137s 188ms/step - loss: 0.0113 - accuracy: 0.9868 - val_loss: 0.1862 - val_accuracy: 0.7963\n",
            "Epoch 16/50\n",
            "0.00100000\n",
            "726/726 [==============================] - 136s 187ms/step - loss: 0.0102 - accuracy: 0.9882 - val_loss: 0.1837 - val_accuracy: 0.7984\n",
            "Epoch 17/50\n",
            "0.00100000\n",
            "726/726 [==============================] - 136s 187ms/step - loss: 0.0102 - accuracy: 0.9880 - val_loss: 0.1839 - val_accuracy: 0.8002\n",
            "Epoch 18/50\n",
            "0.00100000\n",
            "726/726 [==============================] - 135s 186ms/step - loss: 0.0089 - accuracy: 0.9899 - val_loss: 0.1978 - val_accuracy: 0.7812\n",
            "Epoch 19/50\n",
            "0.00100000\n",
            "726/726 [==============================] - 137s 188ms/step - loss: 0.0077 - accuracy: 0.9910 - val_loss: 0.1944 - val_accuracy: 0.7871\n",
            "Epoch 20/50\n",
            "0.00100000\n",
            "726/726 [==============================] - 137s 188ms/step - loss: 0.0071 - accuracy: 0.9920 - val_loss: 0.1900 - val_accuracy: 0.7911\n",
            "Epoch 21/50\n",
            "0.00100000\n",
            "726/726 [==============================] - 135s 185ms/step - loss: 0.0075 - accuracy: 0.9912 - val_loss: 0.1944 - val_accuracy: 0.7937\n",
            "Epoch 22/50\n",
            "0.00100000\n",
            "726/726 [==============================] - 135s 186ms/step - loss: 0.0072 - accuracy: 0.9919 - val_loss: 0.1844 - val_accuracy: 0.7998\n",
            "Epoch 23/50\n",
            "0.00100000\n",
            "726/726 [==============================] - 135s 186ms/step - loss: 0.0071 - accuracy: 0.9918 - val_loss: 0.1947 - val_accuracy: 0.7865\n",
            "Epoch 24/50\n",
            "0.00100000\n",
            "726/726 [==============================] - 135s 185ms/step - loss: 0.0066 - accuracy: 0.9925 - val_loss: 0.1772 - val_accuracy: 0.8079\n",
            "Epoch 25/50\n",
            "0.00100000\n",
            "726/726 [==============================] - 135s 185ms/step - loss: 0.0064 - accuracy: 0.9929 - val_loss: 0.1955 - val_accuracy: 0.7892\n",
            "Epoch 26/50\n",
            "0.00100000\n",
            "726/726 [==============================] - 135s 186ms/step - loss: 0.0062 - accuracy: 0.9932 - val_loss: 0.1910 - val_accuracy: 0.7955\n",
            "Epoch 27/50\n",
            "0.00100000\n",
            "726/726 [==============================] - 135s 185ms/step - loss: 0.0061 - accuracy: 0.9930 - val_loss: 0.1900 - val_accuracy: 0.7993\n",
            "Epoch 28/50\n",
            "0.00100000\n",
            "726/726 [==============================] - 135s 185ms/step - loss: 0.0058 - accuracy: 0.9933 - val_loss: 0.1955 - val_accuracy: 0.7909\n",
            "Epoch 29/50\n",
            "0.00100000\n",
            "726/726 [==============================] - 135s 186ms/step - loss: 0.0065 - accuracy: 0.9926 - val_loss: 0.1867 - val_accuracy: 0.7964\n",
            "Epoch 30/50\n",
            "0.00100000\n",
            "726/726 [==============================] - 135s 186ms/step - loss: 0.0054 - accuracy: 0.9939 - val_loss: 0.1963 - val_accuracy: 0.7887\n",
            "Epoch 31/50\n",
            "0.00010000\n",
            "726/726 [==============================] - 135s 185ms/step - loss: 0.0048 - accuracy: 0.9947 - val_loss: 0.1888 - val_accuracy: 0.7957\n",
            "Epoch 32/50\n",
            "0.00010000\n",
            "726/726 [==============================] - 136s 187ms/step - loss: 0.0045 - accuracy: 0.9951 - val_loss: 0.1843 - val_accuracy: 0.8018\n",
            "Epoch 33/50\n",
            "0.00010000\n",
            "726/726 [==============================] - 136s 187ms/step - loss: 0.0037 - accuracy: 0.9958 - val_loss: 0.1884 - val_accuracy: 0.7979\n",
            "Epoch 34/50\n",
            "0.00010000\n",
            "726/726 [==============================] - 136s 186ms/step - loss: 0.0034 - accuracy: 0.9964 - val_loss: 0.1932 - val_accuracy: 0.7937\n",
            "Epoch 35/50\n",
            "0.00010000\n",
            "726/726 [==============================] - 135s 186ms/step - loss: 0.0037 - accuracy: 0.9957 - val_loss: 0.1909 - val_accuracy: 0.7964\n",
            "Epoch 36/50\n",
            "0.00010000\n",
            "726/726 [==============================] - 135s 185ms/step - loss: 0.0031 - accuracy: 0.9967 - val_loss: 0.1903 - val_accuracy: 0.7975\n",
            "Epoch 37/50\n",
            "0.00010000\n",
            "726/726 [==============================] - 135s 185ms/step - loss: 0.0032 - accuracy: 0.9965 - val_loss: 0.1873 - val_accuracy: 0.8020\n",
            "Epoch 38/50\n",
            "0.00010000\n",
            "726/726 [==============================] - 134s 184ms/step - loss: 0.0030 - accuracy: 0.9968 - val_loss: 0.1882 - val_accuracy: 0.8004\n",
            "Epoch 39/50\n",
            "0.00010000\n",
            "726/726 [==============================] - 135s 185ms/step - loss: 0.0030 - accuracy: 0.9966 - val_loss: 0.1858 - val_accuracy: 0.8024\n",
            "Epoch 40/50\n",
            "0.00010000\n",
            "726/726 [==============================] - 135s 185ms/step - loss: 0.0030 - accuracy: 0.9969 - val_loss: 0.1877 - val_accuracy: 0.8000\n",
            "Epoch 41/50\n",
            "0.00010000\n",
            "726/726 [==============================] - 134s 185ms/step - loss: 0.0030 - accuracy: 0.9967 - val_loss: 0.1909 - val_accuracy: 0.7981\n",
            "Epoch 42/50\n",
            "0.00010000\n",
            "726/726 [==============================] - 136s 187ms/step - loss: 0.0029 - accuracy: 0.9968 - val_loss: 0.1888 - val_accuracy: 0.7992\n",
            "Epoch 43/50\n",
            "0.00010000\n",
            "726/726 [==============================] - 137s 188ms/step - loss: 0.0028 - accuracy: 0.9970 - val_loss: 0.1893 - val_accuracy: 0.7994\n",
            "Epoch 44/50\n",
            "0.00010000\n",
            "726/726 [==============================] - 135s 185ms/step - loss: 0.0029 - accuracy: 0.9968 - val_loss: 0.1905 - val_accuracy: 0.7982\n",
            "Epoch 45/50\n",
            "0.00010000\n",
            "726/726 [==============================] - 136s 186ms/step - loss: 0.0029 - accuracy: 0.9969 - val_loss: 0.1903 - val_accuracy: 0.7986\n",
            "Epoch 46/50\n",
            "0.00010000\n",
            "726/726 [==============================] - 136s 187ms/step - loss: 0.0031 - accuracy: 0.9967 - val_loss: 0.1922 - val_accuracy: 0.7954\n",
            "Epoch 47/50\n",
            "0.00010000\n",
            "726/726 [==============================] - 136s 186ms/step - loss: 0.0029 - accuracy: 0.9970 - val_loss: 0.1900 - val_accuracy: 0.7988\n",
            "Epoch 48/50\n",
            "0.00010000\n",
            "726/726 [==============================] - 136s 187ms/step - loss: 0.0026 - accuracy: 0.9973 - val_loss: 0.1886 - val_accuracy: 0.8011\n",
            "Epoch 49/50\n",
            "0.00010000\n",
            "726/726 [==============================] - 136s 187ms/step - loss: 0.0028 - accuracy: 0.9971 - val_loss: 0.1894 - val_accuracy: 0.8003\n",
            "Epoch 50/50\n",
            "0.00010000\n",
            "726/726 [==============================] - 137s 188ms/step - loss: 0.0029 - accuracy: 0.9969 - val_loss: 0.1924 - val_accuracy: 0.7968\n"
          ],
          "name": "stdout"
        },
        {
          "output_type": "execute_result",
          "data": {
            "text/plain": [
              "1e-04"
            ]
          },
          "metadata": {
            "tags": []
          },
          "execution_count": 10
        }
      ]
    },
    {
      "cell_type": "markdown",
      "metadata": {
        "id": "Vafzh39d9VZ2"
      },
      "source": [
        "## Training and Validation Graphs"
      ]
    },
    {
      "cell_type": "code",
      "metadata": {
        "id": "JmIarIkj3Dn8",
        "colab": {
          "base_uri": "https://localhost:8080/",
          "height": 308
        },
        "outputId": "5faabe35-2bd6-4d28-980a-76ed5fa114c1"
      },
      "source": [
        "import matplotlib.pyplot as plt\n",
        "\n",
        "f, (ax1, ax2) = plt.subplots(1, 2, figsize=(20, 4))\n",
        "t = f.suptitle('Training and Validation Performance for ' + modelName, fontsize=12)\n",
        "f.subplots_adjust(top=0.85, wspace=0.3)\n",
        "\n",
        "epoch_list = list(range(1,EPOCHS+1))\n",
        "ax1.plot(epoch_list, history.history['accuracy'], label='Train Accuracy')\n",
        "ax1.plot(epoch_list, history.history['val_accuracy'], label='Validation Accuracy')\n",
        "ax1.set_xticks(np.arange(0, EPOCHS+1, 1))\n",
        "ax1.set_ylabel('Accuracy Value')\n",
        "ax1.set_xlabel('Epoch #')\n",
        "ax1.set_title('Accuracy')\n",
        "l1 = ax1.legend(loc=\"best\")\n",
        "\n",
        "ax2.plot(epoch_list, history.history['loss'], label='Train Loss')\n",
        "ax2.plot(epoch_list, history.history['val_loss'], label='Validation Loss')\n",
        "ax2.set_xticks(np.arange(0, EPOCHS+1, 1))\n",
        "ax2.set_ylabel('Loss Value')\n",
        "ax2.set_xlabel('Epoch #')\n",
        "ax2.set_title('Loss')\n",
        "l2 = ax2.legend(loc=\"best\")"
      ],
      "execution_count": null,
      "outputs": [
        {
          "output_type": "display_data",
          "data": {
            "image/png": "[encoded data removed]",
            "text/plain": [
              "<Figure size 1440x288 with 2 Axes>"
            ]
          },
          "metadata": {
            "tags": [],
            "needs_background": "light"
          }
        }
      ]
    },
    {
      "cell_type": "markdown",
      "metadata": {
        "id": "GSyUbKcWMWrB"
      },
      "source": [
        "# Prediction"
      ]
    },
    {
      "cell_type": "code",
      "metadata": {
        "id": "cwsjUXonudzY"
      },
      "source": [
        "model = keras.models.load_model('model.h5')"
      ],
      "execution_count": null,
      "outputs": []
    },
    {
      "cell_type": "markdown",
      "metadata": {
        "id": "rgnjCQe-MjLH"
      },
      "source": [
        "## Store into tf.data.Dataset"
      ]
    },
    {
      "cell_type": "code",
      "metadata": {
        "colab": {
          "base_uri": "https://localhost:8080/"
        },
        "id": "xJQQItI-0Q5m",
        "outputId": "c8cfdf04-8a9f-49a5-ebcd-74dfaa6a5098"
      },
      "source": [
        "from tensorflow.keras.preprocessing import image_dataset_from_directory\r\n",
        "\r\n",
        "dir_train = os.path.join('ff_dataset', 'Frames_train')\r\n",
        "dir_val = os.path.join('ff_dataset', 'Frames_validation')\r\n",
        "dir_test = os.path.join('ff_dataset', 'Frames_test')\r\n",
        "image_format = '.jpg'\r\n",
        "\r\n",
        "test_dataset = image_dataset_from_directory(\r\n",
        "    dir_test,\r\n",
        "    labels=\"inferred\",\r\n",
        "    label_mode=\"binary\",\r\n",
        "    class_names=['fake', 'real'],\r\n",
        "    color_mode=\"rgb\",\r\n",
        "    batch_size=BATCH_SIZE,\r\n",
        "    image_size=(SIZE, SIZE),\r\n",
        "    shuffle=False,\r\n",
        ")\r\n"
      ],
      "execution_count": null,
      "outputs": [
        {
          "output_type": "stream",
          "text": [
            "Found 15667 files belonging to 2 classes.\n"
          ],
          "name": "stdout"
        }
      ]
    },
    {
      "cell_type": "code",
      "metadata": {
        "id": "VUP8SY_lMUdG",
        "colab": {
          "base_uri": "https://localhost:8080/",
          "height": 68
        },
        "outputId": "1d72104e-958f-444b-dd01-6a3876909e97"
      },
      "source": [
        "'''\r\n",
        "from tensorflow.keras.preprocessing import image_dataset_from_directory\r\n",
        "\r\n",
        "directory = os.path.join('deepfake_database', 'validation')\r\n",
        "image_format = '.jpg'\r\n",
        "\r\n",
        "test_dataset = image_dataset_from_directory(\r\n",
        "    directory,\r\n",
        "    labels=\"inferred\",\r\n",
        "    label_mode=\"binary\",\r\n",
        "    class_names=['df', 'real'],\r\n",
        "    color_mode=\"rgb\",\r\n",
        "    batch_size=BATCH_SIZE,\r\n",
        "    image_size=(SIZE, SIZE),\r\n",
        "    shuffle=False,\r\n",
        ")\r\n",
        "'''"
      ],
      "execution_count": null,
      "outputs": [
        {
          "output_type": "execute_result",
          "data": {
            "application/vnd.google.colaboratory.intrinsic+json": {
              "type": "string"
            },
            "text/plain": [
              "'\\nfrom tensorflow.keras.preprocessing import image_dataset_from_directory\\n\\ndirectory = os.path.join(\\'deepfake_database\\', \\'validation\\')\\nimage_format = \\'.jpg\\'\\n\\ntest_dataset = image_dataset_from_directory(\\n    directory,\\n    labels=\"inferred\",\\n    label_mode=\"binary\",\\n    class_names=[\\'df\\', \\'real\\'],\\n    color_mode=\"rgb\",\\n    batch_size=BATCH_SIZE,\\n    image_size=(SIZE, SIZE),\\n    shuffle=False,\\n)\\n'"
            ]
          },
          "metadata": {
            "tags": []
          },
          "execution_count": 14
        }
      ]
    },
    {
      "cell_type": "markdown",
      "metadata": {
        "id": "oAqU-RLekwDI"
      },
      "source": [
        "## Make Prediction"
      ]
    },
    {
      "cell_type": "code",
      "metadata": {
        "id": "EYf9QXMNbkcB",
        "colab": {
          "base_uri": "https://localhost:8080/"
        },
        "outputId": "ec099bd2-4994-4a63-e8ba-7877ed63bbae"
      },
      "source": [
        "Y_pred = (model.predict(test_dataset, verbose=1) > 0.5).astype(\"int32\")"
      ],
      "execution_count": null,
      "outputs": [
        {
          "output_type": "stream",
          "text": [
            "245/245 [==============================] - 23s 95ms/step\n"
          ],
          "name": "stdout"
        }
      ]
    },
    {
      "cell_type": "markdown",
      "metadata": {
        "id": "GUFjwc-Nk3ZR"
      },
      "source": [
        "### Read Original Labels"
      ]
    },
    {
      "cell_type": "code",
      "metadata": {
        "id": "sgCeGiX-ewNd"
      },
      "source": [
        "Y_test = []\r\n",
        "for img_array, label in (test_dataset.as_numpy_iterator()):\r\n",
        "    Y_test.append(label)"
      ],
      "execution_count": null,
      "outputs": []
    },
    {
      "cell_type": "markdown",
      "metadata": {
        "id": "hy-gsprKk-u9"
      },
      "source": [
        "### Flatten Original and Prediction label arrays"
      ]
    },
    {
      "cell_type": "code",
      "metadata": {
        "id": "KBayYJHCtFsX"
      },
      "source": [
        "original_labels = []\r\n",
        "original_labels = list(np.concatenate(Y_test).flat)\r\n",
        "original_labels = np.array(original_labels)\r\n",
        "\r\n",
        "predicted_labels = []\r\n",
        "predicted_labels = list(np.concatenate(Y_pred).flat)\r\n",
        "predicted_labels = np.array(predicted_labels)"
      ],
      "execution_count": null,
      "outputs": []
    },
    {
      "cell_type": "markdown",
      "metadata": {
        "id": "fnPxkC2timnb"
      },
      "source": [
        "## Classification Report"
      ]
    },
    {
      "cell_type": "code",
      "metadata": {
        "id": "VKztxwp4ibct",
        "colab": {
          "base_uri": "https://localhost:8080/"
        },
        "outputId": "1ae86193-72e1-4b61-cc84-d5a7a0818d5d"
      },
      "source": [
        "from sklearn.metrics import classification_report\n",
        "classificationReport = classification_report(original_labels, predicted_labels, target_names=test_dataset.class_names, digits=4)\n",
        "print(classificationReport)"
      ],
      "execution_count": null,
      "outputs": [
        {
          "output_type": "stream",
          "text": [
            "              precision    recall  f1-score   support\n",
            "\n",
            "        fake     0.8728    0.8020    0.8359      7983\n",
            "        real     0.8102    0.8786    0.8430      7684\n",
            "\n",
            "    accuracy                         0.8395     15667\n",
            "   macro avg     0.8415    0.8403    0.8395     15667\n",
            "weighted avg     0.8421    0.8395    0.8394     15667\n",
            "\n"
          ],
          "name": "stdout"
        }
      ]
    },
    {
      "cell_type": "markdown",
      "metadata": {
        "id": "lZI6-stDS_ol"
      },
      "source": [
        "## Confusion Matrix"
      ]
    },
    {
      "cell_type": "code",
      "metadata": {
        "id": "_l-PorZI3DoB",
        "colab": {
          "base_uri": "https://localhost:8080/",
          "height": 402
        },
        "outputId": "f7af8dba-581a-4030-a5e8-e2ea97b1ea09"
      },
      "source": [
        "#Output confusion matrix\n",
        "from sklearn.metrics import confusion_matrix\n",
        "import pandas as pd\n",
        "import seaborn as sn\n",
        "import matplotlib.pyplot as plt\n",
        "\n",
        "def print_confusion_matrix(y_true, y_pred):\n",
        "    cm = confusion_matrix(y_true, y_pred)\n",
        "    print('True positive = ', cm[0][0])\n",
        "    print('False positive = ', cm[0][1])\n",
        "    print('False negative = ', cm[1][0])\n",
        "    print('True negative = ', cm[1][1])\n",
        "    print('\\n')\n",
        "    df_cm = pd.DataFrame(cm, range(2), range(2))\n",
        "    sn.set(font_scale=1.4) # for label size\n",
        "    sn.heatmap(df_cm, annot=True, annot_kws={\"size\": 16}, cmap=\"YlGnBu\") # font size\n",
        "    plt.ylabel('Actual label', size = 20)\n",
        "    plt.xlabel('Predicted label', size = 20)\n",
        "    plt.xticks(np.arange(2), test_dataset.class_names, size = 16)\n",
        "    plt.yticks(np.arange(2), test_dataset.class_names, size = 16)\n",
        "    plt.ylim([2, 0])\n",
        "    plt.show()\n",
        "    return cm\n",
        "    \n",
        "confusionMatrix = print_confusion_matrix(original_labels, predicted_labels)"
      ],
      "execution_count": null,
      "outputs": [
        {
          "output_type": "stream",
          "text": [
            "True positive =  6168\n",
            "False positive =  1815\n",
            "False negative =  907\n",
            "True negative =  6777\n",
            "\n",
            "\n"
          ],
          "name": "stdout"
        },
        {
          "output_type": "display_data",
          "data": {
            "image/png": "[encoded data removed]",
            "text/plain": [
              "<Figure size 432x288 with 2 Axes>"
            ]
          },
          "metadata": {
            "tags": []
          }
        }
      ]
    },
    {
      "cell_type": "markdown",
      "metadata": {
        "id": "Go_uGCTqU5XR"
      },
      "source": [
        "# Write to File"
      ]
    },
    {
      "cell_type": "code",
      "metadata": {
        "id": "9W4SCXEZU7SB"
      },
      "source": [
        "import os\r\n",
        "\r\n",
        "tp = str('True positive = '+ str(confusionMatrix[0][0]) + '\\n')\r\n",
        "fp = str('False positive = '+ str(confusionMatrix[0][1]) + '\\n')\r\n",
        "fn = str('False negative = '+ str(confusionMatrix[1][0]) + '\\n')\r\n",
        "tn = str('True negative = '+ str(confusionMatrix[1][1]) + '\\n')\r\n",
        "\r\n",
        "data = (\r\n",
        "    'Model Name: ' + str(modelName) + '\\n' +\r\n",
        "    'Batch Size: ' + str(BATCH_SIZE) + '\\n' +\r\n",
        "    'Image Size: ' + str(SIZE) + '\\n' +\r\n",
        "    'Epochs: ' + str(EPOCHS) + '\\n' +\r\n",
        "    '===================================================== \\n\\n' +\r\n",
        "    str(classificationReport) + '\\n' + str(tp + fp + fn + tn)\r\n",
        ")\r\n",
        "\r\n",
        "from datetime import datetime \r\n",
        "import pytz \r\n",
        "  \r\n",
        "# get the standard UTC time  \r\n",
        "UTC = pytz.utc \r\n",
        "  \r\n",
        "# it will get the time zone  \r\n",
        "# of the specified location \r\n",
        "IST = pytz.timezone('Asia/Kolkata') \r\n",
        "  \r\n",
        "datetime_ist = datetime.now(IST) \r\n",
        "filename = ('Report ' + datetime_ist.strftime('%Y-%m-%d %H%M') + ' ' + modelName + '.txt')\r\n",
        "\r\n",
        "myFile = open(filename, 'w')\r\n",
        "myFile.write(data)\r\n",
        "myFile.close()\r\n",
        "\r\n",
        "model.save(modelName + ' ' + datetime_ist.strftime('%Y-%m-%d %H%M') + '.h5')"
      ],
      "execution_count": null,
      "outputs": []
    },
    {
      "cell_type": "code",
      "metadata": {
        "id": "zvhQukiisK6w",
        "colab": {
          "base_uri": "https://localhost:8080/",
          "height": 35
        },
        "outputId": "5bab12c3-4a1f-460b-89e5-00c35bf19498"
      },
      "source": [
        "'''\r\n",
        "from tensorflow import keras\r\n",
        "\r\n",
        "loaded_model = keras.models.load_model('Meso4VGG16 2021-01-16 0134.h5')\r\n",
        "loaded_model.summary()\r\n",
        "'''"
      ],
      "execution_count": null,
      "outputs": [
        {
          "output_type": "execute_result",
          "data": {
            "application/vnd.google.colaboratory.intrinsic+json": {
              "type": "string"
            },
            "text/plain": [
              "\"\\nfrom tensorflow import keras\\n\\nloaded_model = keras.models.load_model('Meso4VGG16 2021-01-16 0134.h5')\\nloaded_model.summary()\\n\""
            ]
          },
          "metadata": {
            "tags": []
          },
          "execution_count": 21
        }
      ]
    }
  ]
}