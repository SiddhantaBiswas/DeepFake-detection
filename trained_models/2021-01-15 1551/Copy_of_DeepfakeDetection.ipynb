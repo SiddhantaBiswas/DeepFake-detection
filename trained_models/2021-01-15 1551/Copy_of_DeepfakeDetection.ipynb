{
  "nbformat": 4,
  "nbformat_minor": 0,
  "metadata": {
    "accelerator": "GPU",
    "colab": {
      "name": "Copy of DeepfakeDetection.ipynb",
      "provenance": [],
      "collapsed_sections": [],
      "toc_visible": true
    },
    "kernelspec": {
      "display_name": "Python 3",
      "name": "python3"
    }
  },
  "cells": [
    {
      "cell_type": "markdown",
      "metadata": {
        "id": "GMORKBUzCvVi"
      },
      "source": [
        "# Drive Mount"
      ]
    },
    {
      "cell_type": "code",
      "metadata": {
        "colab": {
          "base_uri": "https://localhost:8080/"
        },
        "id": "eEgqKYL6RwWG",
        "outputId": "f355618f-6263-4109-f153-40c198e69ca0"
      },
      "source": [
        "\r\n",
        "from google.colab import drive\r\n",
        "drive.mount('/content/drive')\r\n",
        "\r\n",
        "dataset = \"/content/drive/My Drive/Thesis/deepfake-detection-master/deepfake_database.zip\"\r\n"
      ],
      "execution_count": 1,
      "outputs": [
        {
          "output_type": "stream",
          "text": [
            "Drive already mounted at /content/drive; to attempt to forcibly remount, call drive.mount(\"/content/drive\", force_remount=True).\n"
          ],
          "name": "stdout"
        }
      ]
    },
    {
      "cell_type": "markdown",
      "metadata": {
        "id": "vZzkKFyDSLjQ"
      },
      "source": [
        "## Extract dataset"
      ]
    },
    {
      "cell_type": "code",
      "metadata": {
        "id": "n74vJZ9TSM6o"
      },
      "source": [
        "%%capture\r\n",
        "!unzip -o \"/content/drive/My Drive/Thesis/deepfake-detection-master/deepfake_database.zip\" -d /content/"
      ],
      "execution_count": 2,
      "outputs": []
    },
    {
      "cell_type": "markdown",
      "metadata": {
        "id": "mL5YWlcaRUmV"
      },
      "source": [
        "# Preprocessing"
      ]
    },
    {
      "cell_type": "markdown",
      "metadata": {
        "id": "2IzxfOtWRXh_"
      },
      "source": [
        "## Folder Paths"
      ]
    },
    {
      "cell_type": "code",
      "metadata": {
        "id": "swQ3QKBB3Dnm"
      },
      "source": [
        "import os\n",
        "#directory = \"Desktop/Thesis/datasets/deepfake_database/deepfake_database/deepfake_database/train_test\"\n",
        "directory = os.path.join('deepfake_database', 'train_test')\n",
        "image_format = '.jpg'"
      ],
      "execution_count": 3,
      "outputs": []
    },
    {
      "cell_type": "markdown",
      "metadata": {
        "id": "UyLM4ImV_OGT"
      },
      "source": [
        "## Data Params"
      ]
    },
    {
      "cell_type": "code",
      "metadata": {
        "id": "tflJn6S__MzJ"
      },
      "source": [
        "BATCH_SIZE = 64\r\n",
        "SIZE = 256"
      ],
      "execution_count": 4,
      "outputs": []
    },
    {
      "cell_type": "markdown",
      "metadata": {
        "id": "gI_DMsLa8lql"
      },
      "source": [
        "## Store into tf.data.Dataset"
      ]
    },
    {
      "cell_type": "code",
      "metadata": {
        "colab": {
          "base_uri": "https://localhost:8080/"
        },
        "id": "1VpZ8EXzc1Gy",
        "outputId": "727429c1-489c-4322-d359-a65d560b3066"
      },
      "source": [
        "from tensorflow.keras.preprocessing import image_dataset_from_directory\r\n",
        "\r\n",
        "training_dataset = image_dataset_from_directory(\r\n",
        "    directory,\r\n",
        "    labels=\"inferred\",\r\n",
        "    label_mode=\"binary\",\r\n",
        "    class_names=['df', 'real'],\r\n",
        "    color_mode=\"rgb\",\r\n",
        "    batch_size=BATCH_SIZE,\r\n",
        "    image_size=(SIZE, SIZE),\r\n",
        "    shuffle=True,\r\n",
        "    seed=123,\r\n",
        "    validation_split=0.2,\r\n",
        "    subset=\"training\",\r\n",
        "    interpolation=\"bilinear\",\r\n",
        ")\r\n",
        "\r\n",
        "validation_dataset = image_dataset_from_directory(\r\n",
        "    directory,\r\n",
        "    labels=\"inferred\",\r\n",
        "    label_mode=\"binary\",\r\n",
        "    class_names=['df', 'real'],\r\n",
        "    color_mode=\"rgb\",\r\n",
        "    batch_size=BATCH_SIZE,\r\n",
        "    image_size=(SIZE, SIZE),\r\n",
        "    shuffle=True,\r\n",
        "    seed=123,\r\n",
        "    validation_split=0.2,\r\n",
        "    subset=\"validation\",\r\n",
        "    interpolation=\"bilinear\",\r\n",
        ")\r\n"
      ],
      "execution_count": 5,
      "outputs": [
        {
          "output_type": "stream",
          "text": [
            "Found 12353 files belonging to 2 classes.\n",
            "Using 9883 files for training.\n",
            "Found 12353 files belonging to 2 classes.\n",
            "Using 2470 files for validation.\n"
          ],
          "name": "stdout"
        }
      ]
    },
    {
      "cell_type": "markdown",
      "metadata": {
        "id": "ouvv-1iUZ4S1"
      },
      "source": [
        "## Data Augmentation"
      ]
    },
    {
      "cell_type": "code",
      "metadata": {
        "id": "MqPxOw_MSUV-"
      },
      "source": [
        "import tensorflow as tf\r\n",
        "\r\n",
        "def augment(image, label):\r\n",
        "    image = tf.image.random_brightness(image, max_delta=0.3)\r\n",
        "    image = tf.image.random_contrast(image, lower=0.1, upper=0.3)\r\n",
        "    image = tf.image.random_flip_left_right(image)\r\n",
        "    image = tf.image.random_hue(image, max_delta=0.3)\r\n",
        "    return image, label\r\n",
        "\r\n",
        "training_dataset = training_dataset.map(augment)"
      ],
      "execution_count": 6,
      "outputs": []
    },
    {
      "cell_type": "markdown",
      "metadata": {
        "id": "RJQmz1iYiJMf"
      },
      "source": [
        "## Store into DataGenerator"
      ]
    },
    {
      "cell_type": "code",
      "metadata": {
        "colab": {
          "base_uri": "https://localhost:8080/",
          "height": 135
        },
        "id": "4-vC-QTaiJMj",
        "outputId": "f86c26c1-2d7e-466f-d2c0-e44aad0e971d"
      },
      "source": [
        "from tensorflow.keras.preprocessing.image import ImageDataGenerator\r\n",
        "'''\r\n",
        "trainingGenerator = ImageDataGenerator(\r\n",
        "    rotation_range=10,\r\n",
        "    brightness_range= [0.5, 1.5],\r\n",
        "    shear_range=0.2,\r\n",
        "    zoom_range=[1.0, 1.3],\r\n",
        "    channel_shift_range=0.2,\r\n",
        "    horizontal_flip=True,\r\n",
        "    vertical_flip=False,\r\n",
        "    rescale=1./255,\r\n",
        "    fill_mode=\"constant\",\r\n",
        "    cval=0.0,\r\n",
        "    data_format=\"channels_last\",\r\n",
        "    validation_split=0.2,\r\n",
        ")\r\n",
        "\r\n",
        "validationGenerator = ImageDataGenerator(\r\n",
        "    rescale=1./255,\r\n",
        "    data_format=\"channels_last\",\r\n",
        "    validation_split=0.3,\r\n",
        ")\r\n",
        "\r\n",
        "training_dataset = trainingGenerator.flow_from_directory(\r\n",
        "    directory,\r\n",
        "    target_size=(SIZE, SIZE),\r\n",
        "    color_mode=\"rgb\",\r\n",
        "    classes=['df', 'real'],\r\n",
        "    class_mode=\"binary\",\r\n",
        "    batch_size=BATCH_SIZE,\r\n",
        "    shuffle=True,\r\n",
        "    seed=123,\r\n",
        "    subset=\"training\",\r\n",
        "    interpolation=\"nearest\",\r\n",
        ")\r\n",
        "\r\n",
        "validation_dataset = validationGenerator.flow_from_directory(\r\n",
        "    directory,\r\n",
        "    target_size=(SIZE, SIZE),\r\n",
        "    color_mode=\"rgb\",\r\n",
        "    classes=['df', 'real'],\r\n",
        "    class_mode=\"binary\",\r\n",
        "    batch_size=BATCH_SIZE,\r\n",
        "    shuffle=True,\r\n",
        "    seed=123,\r\n",
        "    subset=\"validation\",\r\n",
        "    interpolation=\"nearest\",\r\n",
        ")\r\n",
        "\r\n",
        "validation_gen = dataGenerator.flow(\r\n",
        "    validation_dataset,\r\n",
        "    target_size=(256, 256),\r\n",
        "    color_mode=\"rgb\",\r\n",
        "    classes=['df', 'real'],\r\n",
        "    class_mode=\"binary\",\r\n",
        "    batch_size=BATCH_SIZE,\r\n",
        "    shuffle=True,\r\n",
        "    seed=123,\r\n",
        "    save_to_dir=None,\r\n",
        "    subset=\"validation\",\r\n",
        ")\r\n",
        "'''"
      ],
      "execution_count": 7,
      "outputs": [
        {
          "output_type": "execute_result",
          "data": {
            "application/vnd.google.colaboratory.intrinsic+json": {
              "type": "string"
            },
            "text/plain": [
              "'\\ntrainingGenerator = ImageDataGenerator(\\n    rotation_range=10,\\n    brightness_range= [0.5, 1.5],\\n    shear_range=0.2,\\n    zoom_range=[1.0, 1.3],\\n    channel_shift_range=0.2,\\n    horizontal_flip=True,\\n    vertical_flip=False,\\n    rescale=1./255,\\n    fill_mode=\"constant\",\\n    cval=0.0,\\n    data_format=\"channels_last\",\\n    validation_split=0.2,\\n)\\n\\nvalidationGenerator = ImageDataGenerator(\\n    rescale=1./255,\\n    data_format=\"channels_last\",\\n    validation_split=0.3,\\n)\\n\\ntraining_dataset = trainingGenerator.flow_from_directory(\\n    directory,\\n    target_size=(SIZE, SIZE),\\n    color_mode=\"rgb\",\\n    classes=[\\'df\\', \\'real\\'],\\n    class_mode=\"binary\",\\n    batch_size=BATCH_SIZE,\\n    shuffle=True,\\n    seed=123,\\n    subset=\"training\",\\n    interpolation=\"nearest\",\\n)\\n\\nvalidation_dataset = validationGenerator.flow_from_directory(\\n    directory,\\n    target_size=(SIZE, SIZE),\\n    color_mode=\"rgb\",\\n    classes=[\\'df\\', \\'real\\'],\\n    class_mode=\"binary\",\\n    batch_size=BATCH_SIZE,\\n    shuffle=True,\\n    seed=123,\\n    subset=\"validation\",\\n    interpolation=\"nearest\",\\n)\\n\\nvalidation_gen = dataGenerator.flow(\\n    validation_dataset,\\n    target_size=(256, 256),\\n    color_mode=\"rgb\",\\n    classes=[\\'df\\', \\'real\\'],\\n    class_mode=\"binary\",\\n    batch_size=BATCH_SIZE,\\n    shuffle=True,\\n    seed=123,\\n    save_to_dir=None,\\n    subset=\"validation\",\\n)\\n'"
            ]
          },
          "metadata": {
            "tags": []
          },
          "execution_count": 7
        }
      ]
    },
    {
      "cell_type": "markdown",
      "metadata": {
        "id": "GoKLp9K-8y5h"
      },
      "source": [
        "# Model"
      ]
    },
    {
      "cell_type": "markdown",
      "metadata": {
        "id": "a1gIgLtx9E6R"
      },
      "source": [
        "## Model Params"
      ]
    },
    {
      "cell_type": "code",
      "metadata": {
        "id": "SvKbFuWL12jf",
        "colab": {
          "base_uri": "https://localhost:8080/"
        },
        "outputId": "a0f85bb5-62f4-4529-a6a6-53613d274e07"
      },
      "source": [
        "input_shape = (SIZE, SIZE, 3)\n",
        "learning_rate = 0.001\n",
        "dl_rate = 1\n",
        "EPOCHS = 50\n",
        "ITERATIONS = len(training_dataset) * EPOCHS\n",
        "print(ITERATIONS)"
      ],
      "execution_count": 8,
      "outputs": [
        {
          "output_type": "stream",
          "text": [
            "7750\n"
          ],
          "name": "stdout"
        }
      ]
    },
    {
      "cell_type": "markdown",
      "metadata": {
        "id": "JQmxao2Y7lU0"
      },
      "source": [
        "## LR Decay"
      ]
    },
    {
      "cell_type": "code",
      "metadata": {
        "id": "KAqFOJ3i7n85",
        "colab": {
          "base_uri": "https://localhost:8080/",
          "height": 68
        },
        "outputId": "f337b40e-54cf-4c8f-8529-3ccebd82c5b2"
      },
      "source": [
        "'''\r\n",
        "import tensorflow as tf\r\n",
        "from keras.optimizers.schedules import PiecewiseConstantDecay\r\n",
        "step = tf.Variable(0, trainable=False)\r\n",
        "boundaries = [1000, 1000, 1000]\r\n",
        "values = [0.001, 0.0001, 0.00001, 0.000001]\r\n",
        "learning_rate_fn = PiecewiseConstantDecay(boundaries, values)\r\n",
        "\r\n",
        "# Later, whenever we perform an optimization step, we pass in the step.\r\n",
        "learning_rate = learning_rate_fn(step)\r\n",
        "\r\n",
        "'''"
      ],
      "execution_count": 9,
      "outputs": [
        {
          "output_type": "execute_result",
          "data": {
            "application/vnd.google.colaboratory.intrinsic+json": {
              "type": "string"
            },
            "text/plain": [
              "'\\nimport tensorflow as tf\\nfrom keras.optimizers.schedules import PiecewiseConstantDecay\\nstep = tf.Variable(0, trainable=False)\\nboundaries = [1000, 1000, 1000]\\nvalues = [0.001, 0.0001, 0.00001, 0.000001]\\nlearning_rate_fn = PiecewiseConstantDecay(boundaries, values)\\n\\n# Later, whenever we perform an optimization step, we pass in the step.\\nlearning_rate = learning_rate_fn(step)\\n\\n'"
            ]
          },
          "metadata": {
            "tags": []
          },
          "execution_count": 9
        }
      ]
    },
    {
      "cell_type": "code",
      "metadata": {
        "id": "gEIpLlfDAQV3"
      },
      "source": [
        "# This function keeps the initial learning rate for the first ten epochs  \r\n",
        "# and decreases it exponentially after that.  \r\n",
        "def scheduler(epoch, lr):\r\n",
        "    print(\"{0:.8f}\".format(lr))\r\n",
        "    if epoch < 20:\r\n",
        "        return 0.001 # lr = 0.001\r\n",
        "    elif epoch >= 20 and epoch < 30:\r\n",
        "        return 0.001 # lr = 0.00001\r\n",
        "    elif epoch >= 30 and epoch < 40:\r\n",
        "        return 0.0001 # lr = 0.00001\r\n",
        "    elif epoch >= 40:\r\n",
        "        return 0.0001 # lr = 0.000001"
      ],
      "execution_count": 10,
      "outputs": []
    },
    {
      "cell_type": "markdown",
      "metadata": {
        "id": "zrFN4dtH_KE0"
      },
      "source": [
        "## Custom Callback"
      ]
    },
    {
      "cell_type": "markdown",
      "metadata": {
        "id": "VJ3ZUFXa9HOI"
      },
      "source": [
        "## Compile Model"
      ]
    },
    {
      "cell_type": "code",
      "metadata": {
        "colab": {
          "base_uri": "https://localhost:8080/"
        },
        "id": "7KtJAfOWjQm2",
        "outputId": "9fe90ab9-037f-4d3f-f5d1-a3a8593ea86d"
      },
      "source": [
        "from keras.models import Model as KerasModel\n",
        "from keras.models import Sequential\n",
        "from keras.layers import Input, Dense, Flatten, Conv2D, MaxPooling2D, BatchNormalization, Dropout, Reshape, Concatenate, LeakyReLU\n",
        "from keras.optimizers import Adam\n",
        "\n",
        "%run -i 'classifiers.py'\n",
        "\n",
        "model, modelName = Meso4(input_shape)\n",
        "optimizer = Adam(lr = learning_rate)\n",
        "model.compile(optimizer = optimizer, loss = 'mean_squared_error', metrics = ['accuracy'])\n",
        "# round(model.optimizer.lr.numpy(), 5)\n",
        "# model.summary()\n",
        "print(modelName)"
      ],
      "execution_count": 11,
      "outputs": [
        {
          "output_type": "stream",
          "text": [
            "Meso4\n"
          ],
          "name": "stdout"
        }
      ]
    },
    {
      "cell_type": "markdown",
      "metadata": {
        "id": "ndb3w9pB9LB2"
      },
      "source": [
        "# Training"
      ]
    },
    {
      "cell_type": "markdown",
      "metadata": {
        "id": "1yAJ1a-e9djn"
      },
      "source": [
        "## Fit Model"
      ]
    },
    {
      "cell_type": "code",
      "metadata": {
        "colab": {
          "base_uri": "https://localhost:8080/"
        },
        "id": "-8Fwh4Gx12j7",
        "outputId": "51e8f8f5-a949-4225-dbf8-1cedabded28e"
      },
      "source": [
        "from tensorflow import keras\n",
        "import keras.backend as K\n",
        "\n",
        "callback = keras.callbacks.LearningRateScheduler(scheduler)\n",
        "\n",
        "history = model.fit(\n",
        "    training_dataset, \n",
        "    epochs=EPOCHS, \n",
        "    validation_data=validation_dataset, \n",
        "    verbose = 1, \n",
        "    callbacks=[callback], \n",
        "    workers=4,\n",
        "    use_multiprocessing=True,)\n",
        "\n",
        "round(model.optimizer.lr.numpy(), 5)\n"
      ],
      "execution_count": 12,
      "outputs": [
        {
          "output_type": "stream",
          "text": [
            "Epoch 1/50\n",
            "0.00100000\n",
            "155/155 [==============================] - 56s 338ms/step - loss: 0.2929 - accuracy: 0.5625 - val_loss: 0.3793 - val_accuracy: 0.5955\n",
            "Epoch 2/50\n",
            "0.00100000\n",
            "155/155 [==============================] - 51s 326ms/step - loss: 0.2199 - accuracy: 0.6447 - val_loss: 0.2695 - val_accuracy: 0.6457\n",
            "Epoch 3/50\n",
            "0.00100000\n",
            "155/155 [==============================] - 52s 331ms/step - loss: 0.1904 - accuracy: 0.7153 - val_loss: 0.1710 - val_accuracy: 0.7773\n",
            "Epoch 4/50\n",
            "0.00100000\n",
            "155/155 [==============================] - 52s 334ms/step - loss: 0.1504 - accuracy: 0.7789 - val_loss: 0.1506 - val_accuracy: 0.8178\n",
            "Epoch 5/50\n",
            "0.00100000\n",
            "155/155 [==============================] - 52s 331ms/step - loss: 0.1264 - accuracy: 0.8240 - val_loss: 0.1434 - val_accuracy: 0.8227\n",
            "Epoch 6/50\n",
            "0.00100000\n",
            "155/155 [==============================] - 52s 331ms/step - loss: 0.1072 - accuracy: 0.8510 - val_loss: 0.1421 - val_accuracy: 0.8275\n",
            "Epoch 7/50\n",
            "0.00100000\n",
            "155/155 [==============================] - 52s 329ms/step - loss: 0.0955 - accuracy: 0.8678 - val_loss: 0.1705 - val_accuracy: 0.7955\n",
            "Epoch 8/50\n",
            "0.00100000\n",
            "155/155 [==============================] - 52s 331ms/step - loss: 0.0897 - accuracy: 0.8816 - val_loss: 0.1152 - val_accuracy: 0.8583\n",
            "Epoch 9/50\n",
            "0.00100000\n",
            "155/155 [==============================] - 52s 329ms/step - loss: 0.0806 - accuracy: 0.8924 - val_loss: 0.0866 - val_accuracy: 0.8895\n",
            "Epoch 10/50\n",
            "0.00100000\n",
            "155/155 [==============================] - 52s 330ms/step - loss: 0.0774 - accuracy: 0.8966 - val_loss: 0.1628 - val_accuracy: 0.7858\n",
            "Epoch 11/50\n",
            "0.00100000\n",
            "155/155 [==============================] - 51s 328ms/step - loss: 0.0777 - accuracy: 0.8939 - val_loss: 0.0764 - val_accuracy: 0.8984\n",
            "Epoch 12/50\n",
            "0.00100000\n",
            "155/155 [==============================] - 52s 329ms/step - loss: 0.0680 - accuracy: 0.9119 - val_loss: 0.0698 - val_accuracy: 0.9138\n",
            "Epoch 13/50\n",
            "0.00100000\n",
            "155/155 [==============================] - 51s 328ms/step - loss: 0.0688 - accuracy: 0.9079 - val_loss: 0.0731 - val_accuracy: 0.9020\n",
            "Epoch 14/50\n",
            "0.00100000\n",
            "155/155 [==============================] - 52s 329ms/step - loss: 0.0635 - accuracy: 0.9140 - val_loss: 0.0820 - val_accuracy: 0.8915\n",
            "Epoch 15/50\n",
            "0.00100000\n",
            "155/155 [==============================] - 51s 328ms/step - loss: 0.0730 - accuracy: 0.8992 - val_loss: 0.0740 - val_accuracy: 0.9040\n",
            "Epoch 16/50\n",
            "0.00100000\n",
            "155/155 [==============================] - 51s 328ms/step - loss: 0.0584 - accuracy: 0.9249 - val_loss: 0.0668 - val_accuracy: 0.9117\n",
            "Epoch 17/50\n",
            "0.00100000\n",
            "155/155 [==============================] - 51s 328ms/step - loss: 0.0529 - accuracy: 0.9302 - val_loss: 0.0966 - val_accuracy: 0.8854\n",
            "Epoch 18/50\n",
            "0.00100000\n",
            "155/155 [==============================] - 51s 328ms/step - loss: 0.0496 - accuracy: 0.9339 - val_loss: 0.0831 - val_accuracy: 0.8960\n",
            "Epoch 19/50\n",
            "0.00100000\n",
            "155/155 [==============================] - 51s 326ms/step - loss: 0.0498 - accuracy: 0.9340 - val_loss: 0.1017 - val_accuracy: 0.8717\n",
            "Epoch 20/50\n",
            "0.00100000\n",
            "155/155 [==============================] - 51s 326ms/step - loss: 0.0517 - accuracy: 0.9334 - val_loss: 0.0928 - val_accuracy: 0.8862\n",
            "Epoch 21/50\n",
            "0.00100000\n",
            "155/155 [==============================] - 51s 323ms/step - loss: 0.0486 - accuracy: 0.9375 - val_loss: 0.1233 - val_accuracy: 0.8559\n",
            "Epoch 22/50\n",
            "0.00100000\n",
            "155/155 [==============================] - 51s 328ms/step - loss: 0.0455 - accuracy: 0.9412 - val_loss: 0.1170 - val_accuracy: 0.8611\n",
            "Epoch 23/50\n",
            "0.00100000\n",
            "155/155 [==============================] - 51s 327ms/step - loss: 0.0435 - accuracy: 0.9440 - val_loss: 0.0629 - val_accuracy: 0.9211\n",
            "Epoch 24/50\n",
            "0.00100000\n",
            "155/155 [==============================] - 51s 326ms/step - loss: 0.0449 - accuracy: 0.9410 - val_loss: 0.0968 - val_accuracy: 0.8729\n",
            "Epoch 25/50\n",
            "0.00100000\n",
            "155/155 [==============================] - 51s 327ms/step - loss: 0.0538 - accuracy: 0.9305 - val_loss: 0.0999 - val_accuracy: 0.8810\n",
            "Epoch 26/50\n",
            "0.00100000\n",
            "155/155 [==============================] - 51s 326ms/step - loss: 0.0393 - accuracy: 0.9488 - val_loss: 0.0791 - val_accuracy: 0.9053\n",
            "Epoch 27/50\n",
            "0.00100000\n",
            "155/155 [==============================] - 51s 327ms/step - loss: 0.0416 - accuracy: 0.9456 - val_loss: 0.0504 - val_accuracy: 0.9377\n",
            "Epoch 28/50\n",
            "0.00100000\n",
            "155/155 [==============================] - 52s 330ms/step - loss: 0.0426 - accuracy: 0.9427 - val_loss: 0.1204 - val_accuracy: 0.8595\n",
            "Epoch 29/50\n",
            "0.00100000\n",
            "155/155 [==============================] - 52s 328ms/step - loss: 0.0373 - accuracy: 0.9522 - val_loss: 0.0893 - val_accuracy: 0.8923\n",
            "Epoch 30/50\n",
            "0.00100000\n",
            "155/155 [==============================] - 51s 328ms/step - loss: 0.0383 - accuracy: 0.9476 - val_loss: 0.0881 - val_accuracy: 0.8907\n",
            "Epoch 31/50\n",
            "0.00100000\n",
            "155/155 [==============================] - 52s 328ms/step - loss: 0.0335 - accuracy: 0.9551 - val_loss: 0.0755 - val_accuracy: 0.9081\n",
            "Epoch 32/50\n",
            "0.00010000\n",
            "155/155 [==============================] - 51s 327ms/step - loss: 0.0290 - accuracy: 0.9610 - val_loss: 0.0699 - val_accuracy: 0.9162\n",
            "Epoch 33/50\n",
            "0.00010000\n",
            "155/155 [==============================] - 52s 328ms/step - loss: 0.0272 - accuracy: 0.9661 - val_loss: 0.0796 - val_accuracy: 0.9032\n",
            "Epoch 34/50\n",
            "0.00010000\n",
            "155/155 [==============================] - 52s 328ms/step - loss: 0.0304 - accuracy: 0.9601 - val_loss: 0.0781 - val_accuracy: 0.9061\n",
            "Epoch 35/50\n",
            "0.00010000\n",
            "155/155 [==============================] - 52s 329ms/step - loss: 0.0305 - accuracy: 0.9632 - val_loss: 0.0769 - val_accuracy: 0.9081\n",
            "Epoch 36/50\n",
            "0.00010000\n",
            "155/155 [==============================] - 52s 330ms/step - loss: 0.0272 - accuracy: 0.9648 - val_loss: 0.0750 - val_accuracy: 0.9126\n",
            "Epoch 37/50\n",
            "0.00010000\n",
            "155/155 [==============================] - 52s 332ms/step - loss: 0.0276 - accuracy: 0.9638 - val_loss: 0.0710 - val_accuracy: 0.9158\n",
            "Epoch 38/50\n",
            "0.00010000\n",
            "155/155 [==============================] - 52s 329ms/step - loss: 0.0253 - accuracy: 0.9684 - val_loss: 0.0768 - val_accuracy: 0.9089\n",
            "Epoch 39/50\n",
            "0.00010000\n",
            "155/155 [==============================] - 52s 329ms/step - loss: 0.0275 - accuracy: 0.9663 - val_loss: 0.0786 - val_accuracy: 0.9077\n",
            "Epoch 40/50\n",
            "0.00010000\n",
            "155/155 [==============================] - 52s 330ms/step - loss: 0.0258 - accuracy: 0.9675 - val_loss: 0.0850 - val_accuracy: 0.9000\n",
            "Epoch 41/50\n",
            "0.00010000\n",
            "155/155 [==============================] - 52s 329ms/step - loss: 0.0261 - accuracy: 0.9662 - val_loss: 0.0881 - val_accuracy: 0.8951\n",
            "Epoch 42/50\n",
            "0.00010000\n",
            "155/155 [==============================] - 51s 328ms/step - loss: 0.0251 - accuracy: 0.9682 - val_loss: 0.0835 - val_accuracy: 0.9061\n",
            "Epoch 43/50\n",
            "0.00010000\n",
            "155/155 [==============================] - 52s 329ms/step - loss: 0.0219 - accuracy: 0.9734 - val_loss: 0.0994 - val_accuracy: 0.8818\n",
            "Epoch 44/50\n",
            "0.00010000\n",
            "155/155 [==============================] - 52s 329ms/step - loss: 0.0237 - accuracy: 0.9711 - val_loss: 0.0906 - val_accuracy: 0.8964\n",
            "Epoch 45/50\n",
            "0.00010000\n",
            "155/155 [==============================] - 52s 329ms/step - loss: 0.0237 - accuracy: 0.9706 - val_loss: 0.0751 - val_accuracy: 0.9126\n",
            "Epoch 46/50\n",
            "0.00010000\n",
            "155/155 [==============================] - 52s 329ms/step - loss: 0.0246 - accuracy: 0.9696 - val_loss: 0.0925 - val_accuracy: 0.8927\n",
            "Epoch 47/50\n",
            "0.00010000\n",
            "155/155 [==============================] - 52s 329ms/step - loss: 0.0238 - accuracy: 0.9718 - val_loss: 0.0770 - val_accuracy: 0.9101\n",
            "Epoch 48/50\n",
            "0.00010000\n",
            "155/155 [==============================] - 52s 329ms/step - loss: 0.0262 - accuracy: 0.9685 - val_loss: 0.0862 - val_accuracy: 0.9020\n",
            "Epoch 49/50\n",
            "0.00010000\n",
            "155/155 [==============================] - 52s 329ms/step - loss: 0.0238 - accuracy: 0.9693 - val_loss: 0.0805 - val_accuracy: 0.9097\n",
            "Epoch 50/50\n",
            "0.00010000\n",
            "155/155 [==============================] - 51s 327ms/step - loss: 0.0255 - accuracy: 0.9676 - val_loss: 0.0814 - val_accuracy: 0.9061\n"
          ],
          "name": "stdout"
        },
        {
          "output_type": "execute_result",
          "data": {
            "text/plain": [
              "1e-04"
            ]
          },
          "metadata": {
            "tags": []
          },
          "execution_count": 12
        }
      ]
    },
    {
      "cell_type": "markdown",
      "metadata": {
        "id": "4aFK3oTaWIaR"
      },
      "source": [
        ""
      ]
    },
    {
      "cell_type": "markdown",
      "metadata": {
        "id": "Vafzh39d9VZ2"
      },
      "source": [
        "## Training and Validation Graphs"
      ]
    },
    {
      "cell_type": "code",
      "metadata": {
        "colab": {
          "base_uri": "https://localhost:8080/",
          "height": 308
        },
        "id": "JmIarIkj3Dn8",
        "outputId": "e67ad866-d5ff-4f46-8a91-fc3ce5ddf80e"
      },
      "source": [
        "import matplotlib.pyplot as plt\n",
        "import numpy as np\n",
        "\n",
        "f, (ax1, ax2) = plt.subplots(1, 2, figsize=(20, 4))\n",
        "t = f.suptitle('Training and Validation Performance for ' + modelName, fontsize=12)\n",
        "f.subplots_adjust(top=0.85, wspace=0.3)\n",
        "\n",
        "epoch_list = list(range(1,EPOCHS+1))\n",
        "ax1.plot(epoch_list, history.history['accuracy'], label='Train Accuracy')\n",
        "ax1.plot(epoch_list, history.history['val_accuracy'], label='Validation Accuracy')\n",
        "ax1.set_xticks(np.arange(0, EPOCHS+1, 1))\n",
        "ax1.set_ylabel('Accuracy Value')\n",
        "ax1.set_xlabel('Epoch #')\n",
        "ax1.set_title('Accuracy')\n",
        "l1 = ax1.legend(loc=\"best\")\n",
        "\n",
        "ax2.plot(epoch_list, history.history['loss'], label='Train Loss')\n",
        "ax2.plot(epoch_list, history.history['val_loss'], label='Validation Loss')\n",
        "ax2.set_xticks(np.arange(0, EPOCHS+1, 1))\n",
        "ax2.set_ylabel('Loss Value')\n",
        "ax2.set_xlabel('Epoch #')\n",
        "ax2.set_title('Loss')\n",
        "l2 = ax2.legend(loc=\"best\")"
      ],
      "execution_count": 13,
      "outputs": [
        {
          "output_type": "display_data",
          "data": {
            "image/png": "[encoded data removed]",
            "text/plain": [
              "<Figure size 1440x288 with 2 Axes>"
            ]
          },
          "metadata": {
            "tags": [],
            "needs_background": "light"
          }
        }
      ]
    },
    {
      "cell_type": "markdown",
      "metadata": {
        "id": "GSyUbKcWMWrB"
      },
      "source": [
        "# Prediction"
      ]
    },
    {
      "cell_type": "markdown",
      "metadata": {
        "id": "HuYpoWhHb7Kc"
      },
      "source": [
        "## Folder Paths"
      ]
    },
    {
      "cell_type": "code",
      "metadata": {
        "id": "fipmUqa-b7Kh"
      },
      "source": [
        "import os\n",
        "directory = os.path.join('deepfake_database', 'validation')\n",
        "image_format = '.jpg'"
      ],
      "execution_count": 14,
      "outputs": []
    },
    {
      "cell_type": "markdown",
      "metadata": {
        "id": "rgnjCQe-MjLH"
      },
      "source": [
        "## Store into tf.data.Dataset"
      ]
    },
    {
      "cell_type": "code",
      "metadata": {
        "colab": {
          "base_uri": "https://localhost:8080/"
        },
        "id": "VUP8SY_lMUdG",
        "outputId": "d797c74f-2b0f-44a5-f443-b4fa330a5c6a"
      },
      "source": [
        "from tensorflow.keras.preprocessing import image_dataset_from_directory\r\n",
        "\r\n",
        "test_dataset = image_dataset_from_directory(\r\n",
        "    directory,\r\n",
        "    labels=\"inferred\",\r\n",
        "    label_mode=\"binary\",\r\n",
        "    class_names=['df', 'real'],\r\n",
        "    color_mode=\"rgb\",\r\n",
        "    batch_size=BATCH_SIZE,\r\n",
        "    image_size=(SIZE, SIZE),\r\n",
        "    shuffle=False,\r\n",
        "    interpolation=\"bilinear\",\r\n",
        ")"
      ],
      "execution_count": 15,
      "outputs": [
        {
          "output_type": "stream",
          "text": [
            "Found 7104 files belonging to 2 classes.\n"
          ],
          "name": "stdout"
        }
      ]
    },
    {
      "cell_type": "markdown",
      "metadata": {
        "id": "oAqU-RLekwDI"
      },
      "source": [
        "## Make Prediction"
      ]
    },
    {
      "cell_type": "code",
      "metadata": {
        "colab": {
          "base_uri": "https://localhost:8080/"
        },
        "id": "EYf9QXMNbkcB",
        "outputId": "71c8a2d7-f5c6-4bbc-8014-9ffb122c4035"
      },
      "source": [
        "import numpy as np\r\n",
        "Y_pred = (model.predict(test_dataset, verbose=1) > 0.5).astype(\"int32\")"
      ],
      "execution_count": 16,
      "outputs": [
        {
          "output_type": "stream",
          "text": [
            "111/111 [==============================] - 13s 120ms/step\n"
          ],
          "name": "stdout"
        }
      ]
    },
    {
      "cell_type": "markdown",
      "metadata": {
        "id": "GUFjwc-Nk3ZR"
      },
      "source": [
        "## Read Original Labels"
      ]
    },
    {
      "cell_type": "code",
      "metadata": {
        "id": "sgCeGiX-ewNd"
      },
      "source": [
        "Y_test = []\r\n",
        "for img_array, label in (test_dataset.as_numpy_iterator()):\r\n",
        "    Y_test.append(label)"
      ],
      "execution_count": 17,
      "outputs": []
    },
    {
      "cell_type": "markdown",
      "metadata": {
        "id": "hy-gsprKk-u9"
      },
      "source": [
        "## Flatten Original and Prediction label arrays"
      ]
    },
    {
      "cell_type": "code",
      "metadata": {
        "id": "KBayYJHCtFsX"
      },
      "source": [
        "import numpy as np\r\n",
        "\r\n",
        "original_labels = []\r\n",
        "original_labels = list(np.concatenate(Y_test).flat)\r\n",
        "original_labels = np.array(original_labels)\r\n",
        "\r\n",
        "predicted_labels = []\r\n",
        "predicted_labels = list(np.concatenate(Y_pred).flat)\r\n",
        "predicted_labels = np.array(predicted_labels)"
      ],
      "execution_count": 18,
      "outputs": []
    },
    {
      "cell_type": "markdown",
      "metadata": {
        "id": "fnPxkC2timnb"
      },
      "source": [
        "## Classification Report"
      ]
    },
    {
      "cell_type": "code",
      "metadata": {
        "id": "VKztxwp4ibct",
        "colab": {
          "base_uri": "https://localhost:8080/"
        },
        "outputId": "1747c15b-ec27-4efe-9c11-f0512e022bf1"
      },
      "source": [
        "from sklearn.metrics import classification_report\n",
        "classificationReport = classification_report(original_labels, predicted_labels, target_names=test_dataset.class_names)\n",
        "print(classificationReport)"
      ],
      "execution_count": 19,
      "outputs": [
        {
          "output_type": "stream",
          "text": [
            "              precision    recall  f1-score   support\n",
            "\n",
            "          df       0.94      0.79      0.86      2845\n",
            "        real       0.87      0.97      0.92      4259\n",
            "\n",
            "    accuracy                           0.90      7104\n",
            "   macro avg       0.91      0.88      0.89      7104\n",
            "weighted avg       0.90      0.90      0.89      7104\n",
            "\n"
          ],
          "name": "stdout"
        }
      ]
    },
    {
      "cell_type": "markdown",
      "metadata": {
        "id": "lZI6-stDS_ol"
      },
      "source": [
        "## Confusion Matrix"
      ]
    },
    {
      "cell_type": "code",
      "metadata": {
        "id": "_l-PorZI3DoB",
        "colab": {
          "base_uri": "https://localhost:8080/",
          "height": 402
        },
        "outputId": "fe97a544-b14e-404b-c01e-70f7d6dc5a2d"
      },
      "source": [
        "#Output confusion matrix\n",
        "from sklearn.metrics import confusion_matrix\n",
        "import pandas as pd\n",
        "import seaborn as sn\n",
        "import matplotlib.pyplot as plt\n",
        "\n",
        "def print_confusion_matrix(y_true, y_pred):\n",
        "    cm = confusion_matrix(y_true, y_pred)\n",
        "    print('True positive = ', cm[0][0])\n",
        "    print('False positive = ', cm[0][1])\n",
        "    print('False negative = ', cm[1][0])\n",
        "    print('True negative = ', cm[1][1])\n",
        "    print('\\n')\n",
        "    df_cm = pd.DataFrame(cm, range(2), range(2))\n",
        "    sn.set(font_scale=1.4) # for label size\n",
        "    sn.heatmap(df_cm, annot=True, annot_kws={\"size\": 16}, cmap=\"YlGnBu\") # font size\n",
        "    plt.ylabel('Actual label', size = 20)\n",
        "    plt.xlabel('Predicted label', size = 20)\n",
        "    plt.xticks(np.arange(2), test_dataset.class_names, size = 16)\n",
        "    plt.yticks(np.arange(2), test_dataset.class_names, size = 16)\n",
        "    plt.ylim([2, 0])\n",
        "    plt.show()\n",
        "    return cm\n",
        "    \n",
        "confusionMatrix = print_confusion_matrix(original_labels, predicted_labels)"
      ],
      "execution_count": 20,
      "outputs": [
        {
          "output_type": "stream",
          "text": [
            "True positive =  2253\n",
            "False positive =  592\n",
            "False negative =  147\n",
            "True negative =  4112\n",
            "\n",
            "\n"
          ],
          "name": "stdout"
        },
        {
          "output_type": "display_data",
          "data": {
            "image/png": "[encoded data removed]",
            "text/plain": [
              "<Figure size 432x288 with 2 Axes>"
            ]
          },
          "metadata": {
            "tags": []
          }
        }
      ]
    },
    {
      "cell_type": "markdown",
      "metadata": {
        "id": "Go_uGCTqU5XR"
      },
      "source": [
        "# Write to File"
      ]
    },
    {
      "cell_type": "code",
      "metadata": {
        "id": "9W4SCXEZU7SB"
      },
      "source": [
        "import os\r\n",
        "\r\n",
        "tp = str('True positive = '+ str(confusionMatrix[0][0]) + '\\n')\r\n",
        "fp = str('False positive = '+ str(confusionMatrix[0][1]) + '\\n')\r\n",
        "fn = str('False negative = '+ str(confusionMatrix[1][0]) + '\\n')\r\n",
        "tn = str('True negative = '+ str(confusionMatrix[1][1]) + '\\n')\r\n",
        "\r\n",
        "data = (\r\n",
        "    'Model Name: ' + str(modelName) + '\\n' +\r\n",
        "    'Batch Size: ' + str(BATCH_SIZE) + '\\n' +\r\n",
        "    'Image Size: ' + str(SIZE) + '\\n' +\r\n",
        "    'Epochs: ' + str(EPOCHS) + '\\n' +\r\n",
        "    'Iterations: ' + str(ITERATIONS) + '\\n' +\r\n",
        "    '===================================================== \\n\\n' +\r\n",
        "    str(classificationReport) + '\\n' + str(tp + fp + fn + tn)\r\n",
        ")\r\n",
        "\r\n",
        "from datetime import datetime \r\n",
        "import pytz \r\n",
        "  \r\n",
        "# get the standard UTC time  \r\n",
        "UTC = pytz.utc \r\n",
        "  \r\n",
        "# it will get the time zone  \r\n",
        "# of the specified location \r\n",
        "IST = pytz.timezone('Asia/Kolkata') \r\n",
        "  \r\n",
        "datetime_ist = datetime.now(IST) \r\n",
        "filename = ('Report ' + datetime_ist.strftime('%Y-%m-%d %H%M') + ' ' + modelName + 'WithAugmentation' + '.txt')\r\n",
        "\r\n",
        "myFile = open(filename, 'w')\r\n",
        "myFile.write(data)\r\n",
        "myFile.close()\r\n",
        "\r\n",
        "model.save(modelName + ' ' + datetime_ist.strftime('%Y-%m-%d %H%M') + '.h5')"
      ],
      "execution_count": 21,
      "outputs": []
    }
  ]
}