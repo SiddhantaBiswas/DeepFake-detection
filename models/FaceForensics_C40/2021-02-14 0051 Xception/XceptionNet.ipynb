{
  "nbformat": 4,
  "nbformat_minor": 0,
  "metadata": {
    "colab": {
      "name": "XceptionNet.ipynb",
      "provenance": [],
      "toc_visible": true
    },
    "kernelspec": {
      "name": "python3",
      "display_name": "Python 3"
    },
    "accelerator": "GPU"
  },
  "cells": [
    {
      "cell_type": "markdown",
      "metadata": {
        "id": "mL5YWlcaRUmV"
      },
      "source": [
        "# Preprocessing"
      ]
    },
    {
      "cell_type": "code",
      "metadata": {
        "id": "N-9RKWkoMMVH"
      },
      "source": [
        "import os\r\n",
        "#os.environ['PYTHONHASHSEED'] = '0'\r\n",
        "\r\n",
        "import tensorflow as tf\r\n",
        "#tf.random.set_seed(89)\r\n",
        "\r\n",
        "import numpy as np\r\n",
        "#np.random.seed(42)\r\n",
        "\r\n",
        "import random as rn\r\n",
        "#rn.seed(1254)"
      ],
      "execution_count": 1,
      "outputs": []
    },
    {
      "cell_type": "code",
      "metadata": {
        "colab": {
          "base_uri": "https://localhost:8080/"
        },
        "id": "eEgqKYL6RwWG",
        "outputId": "e6e59f81-021d-45ab-8856-3c5dba24d7b5"
      },
      "source": [
        "from google.colab import drive\r\n",
        "drive.mount('/content/drive')"
      ],
      "execution_count": 2,
      "outputs": [
        {
          "output_type": "stream",
          "text": [
            "Drive already mounted at /content/drive; to attempt to forcibly remount, call drive.mount(\"/content/drive\", force_remount=True).\n"
          ],
          "name": "stdout"
        }
      ]
    },
    {
      "cell_type": "code",
      "metadata": {
        "id": "n74vJZ9TSM6o"
      },
      "source": [
        "%%capture\r\n",
        "!unzip -o \"/content/drive/My Drive/Thesis/deepfake-detection-master/ff_dataset.zip\" -d /content/"
      ],
      "execution_count": 3,
      "outputs": []
    },
    {
      "cell_type": "markdown",
      "metadata": {
        "id": "rLcO1jsj59Z3"
      },
      "source": [
        "## Parameters"
      ]
    },
    {
      "cell_type": "code",
      "metadata": {
        "id": "tflJn6S__MzJ"
      },
      "source": [
        "BATCH_SIZE = 32\r\n",
        "SIZE = 224\r\n",
        "EPOCHS = 50\r\n",
        "\r\n",
        "input_shape = (SIZE, SIZE, 3)\r\n",
        "learning_rate = 0.0002\r\n",
        "dl_rate = 1"
      ],
      "execution_count": 4,
      "outputs": []
    },
    {
      "cell_type": "markdown",
      "metadata": {
        "id": "gI_DMsLa8lql"
      },
      "source": [
        "## Store into tf.data.Dataset"
      ]
    },
    {
      "cell_type": "markdown",
      "metadata": {
        "id": "ptstd7Es1wWZ"
      },
      "source": [
        "### FaceForensics++"
      ]
    },
    {
      "cell_type": "code",
      "metadata": {
        "colab": {
          "base_uri": "https://localhost:8080/"
        },
        "id": "C-oy8_ylz5Y2",
        "outputId": "52f0ad46-b822-4161-d8b5-919a03a97a0f"
      },
      "source": [
        "from tensorflow.keras.preprocessing import image_dataset_from_directory\r\n",
        "\r\n",
        "dir_train = os.path.join('ff_dataset', 'Frames_train')\r\n",
        "dir_val = os.path.join('ff_dataset', 'Frames_validation')\r\n",
        "dir_test = os.path.join('ff_dataset', 'Frames_test')\r\n",
        "image_format = '.jpg'\r\n",
        "\r\n",
        "training_dataset = image_dataset_from_directory(\r\n",
        "    dir_train,\r\n",
        "    labels=\"inferred\",\r\n",
        "    label_mode=\"binary\",\r\n",
        "    class_names=['df', 'real'],\r\n",
        "    color_mode=\"rgb\",\r\n",
        "    batch_size=BATCH_SIZE,\r\n",
        "    image_size=(SIZE, SIZE),\r\n",
        "    shuffle=True,\r\n",
        "    seed=42\r\n",
        ")\r\n",
        "\r\n",
        "validation_dataset = image_dataset_from_directory(\r\n",
        "    dir_val,\r\n",
        "    labels=\"inferred\",\r\n",
        "    label_mode=\"binary\",\r\n",
        "    class_names=['df', 'real'],\r\n",
        "    color_mode=\"rgb\",\r\n",
        "    batch_size=BATCH_SIZE,\r\n",
        "    image_size=(SIZE, SIZE),\r\n",
        "    shuffle=True,\r\n",
        "    seed=42\r\n",
        ")\r\n"
      ],
      "execution_count": 5,
      "outputs": [
        {
          "output_type": "stream",
          "text": [
            "Found 46402 files belonging to 2 classes.\n",
            "Found 15407 files belonging to 2 classes.\n"
          ],
          "name": "stdout"
        }
      ]
    },
    {
      "cell_type": "markdown",
      "metadata": {
        "id": "GoKLp9K-8y5h"
      },
      "source": [
        "# Model\r\n",
        "\r\n",
        "XceptionNet [14] is a traditional CNN trained on ImageNet based on separable convolutions with residual connections. We transfer it to our task by replacing the final\r\n",
        "fully connected layer with two outputs. The other layers are\r\n",
        "initialized with the ImageNet weights. To set up the newly\r\n",
        "inserted fully connected layer, we fix all weights up to the final layers and pre-train the network for 3 epochs. After this\r\n",
        "step, we train the network for 15 more epochs and choose\r\n",
        "the best performing model based on validation accuracy."
      ]
    },
    {
      "cell_type": "markdown",
      "metadata": {
        "id": "JQmxao2Y7lU0"
      },
      "source": [
        "## Callbacks"
      ]
    },
    {
      "cell_type": "code",
      "metadata": {
        "id": "gEIpLlfDAQV3"
      },
      "source": [
        "from tensorflow import keras\r\n",
        "\r\n",
        "# This function keeps the initial learning rate for the first ten epochs  \r\n",
        "# and decreases it exponentially after that.  \r\n",
        "def scheduler(epoch):\r\n",
        "    lr = 1e-3\r\n",
        "    if epoch < 10:\r\n",
        "        lr = 0.005 \r\n",
        "    if epoch >= 10 and epoch< 20:\r\n",
        "        lr = 0.001 \r\n",
        "    elif epoch >= 20 and epoch < 30:\r\n",
        "        lr = 0.001\r\n",
        "    elif epoch >= 30 and epoch < 40:\r\n",
        "        lr = 0.0001\r\n",
        "    elif epoch >= 40:\r\n",
        "        lr = 0.0001\r\n",
        "    print(\"{0:.8f}\".format(lr))\r\n",
        "    return lr\r\n",
        "\r\n",
        "lr_scheduler = keras.callbacks.LearningRateScheduler(scheduler)\r\n",
        "\r\n",
        "early_stopping = tf.keras.callbacks.EarlyStopping(\r\n",
        "    monitor=\"val_binary_accuracy\",\r\n",
        "    min_delta=0,\r\n",
        "    patience=10,\r\n",
        "    verbose=1,\r\n",
        "    mode=\"auto\",\r\n",
        "    baseline=None,\r\n",
        "    restore_best_weights=True,\r\n",
        ")"
      ],
      "execution_count": 6,
      "outputs": []
    },
    {
      "cell_type": "markdown",
      "metadata": {
        "id": "VJ3ZUFXa9HOI"
      },
      "source": [
        "## Compile Model"
      ]
    },
    {
      "cell_type": "code",
      "metadata": {
        "colab": {
          "base_uri": "https://localhost:8080/"
        },
        "id": "7KtJAfOWjQm2",
        "outputId": "a872c9b5-1e3b-4307-ad0e-c8995d53a5af"
      },
      "source": [
        "''' Instantiate a base model with pre-trained weights. '''\n",
        "base_model = keras.applications.Xception(\n",
        "    weights='imagenet',  # Load weights pre-trained on ImageNet.\n",
        "    input_shape=input_shape,\n",
        "    include_top=False)  # Do not include the ImageNet classifier at the top.\n",
        "\n",
        "''' Then, freeze the base model. '''\n",
        "base_model.trainable = False\n",
        "\n",
        "''' Create a new model on top. '''\n",
        "inputs = keras.Input(shape=input_shape)\n",
        "# We make sure that the base_model is running in inference mode here,\n",
        "# by passing `training=False`. This is important for fine-tuning, as you will\n",
        "# learn in a few paragraphs.\n",
        "x = base_model(inputs, training=False)\n",
        "# A Dense classifier with a single unit (binary classification)\n",
        "x = keras.layers.GlobalAveragePooling2D()(x)\n",
        "# A Dense classifier with a single unit (binary classification)\n",
        "outputs = keras.layers.Dense(1)(x)\n",
        "model = keras.Model(inputs, outputs)\n",
        "\n",
        "''' Compile model '''\n",
        "model.compile(\n",
        "    optimizer=keras.optimizers.Adam(lr = learning_rate),  # Low learning rate\n",
        "    loss=tf.keras.losses.MeanSquaredError(),\n",
        "    metrics=[tf.keras.metrics.BinaryAccuracy()],\n",
        ")\n",
        "model.summary()"
      ],
      "execution_count": 7,
      "outputs": [
        {
          "output_type": "stream",
          "text": [
            "Model: \"model\"\n",
            "_________________________________________________________________\n",
            "Layer (type)                 Output Shape              Param #   \n",
            "=================================================================\n",
            "input_2 (InputLayer)         [(None, 224, 224, 3)]     0         \n",
            "_________________________________________________________________\n",
            "xception (Functional)        (None, 7, 7, 2048)        20861480  \n",
            "_________________________________________________________________\n",
            "global_average_pooling2d (Gl (None, 2048)              0         \n",
            "_________________________________________________________________\n",
            "dense (Dense)                (None, 1)                 2049      \n",
            "=================================================================\n",
            "Total params: 20,863,529\n",
            "Trainable params: 2,049\n",
            "Non-trainable params: 20,861,480\n",
            "_________________________________________________________________\n"
          ],
          "name": "stdout"
        }
      ]
    },
    {
      "cell_type": "markdown",
      "metadata": {
        "id": "ndb3w9pB9LB2"
      },
      "source": [
        "# Training\r\n",
        "\r\n",
        "XceptionNet [14]-\r\n",
        "based approach is trained with a learning-rate of 0:0002 and\r\n",
        "a batch-size of 32. All detection methods are trained with\r\n",
        "the Adam optimizer using the default values for the moments (β1 = 0:9, β2 = 0:999, \u000f = 10−8).\r\n",
        "We compute validation accuracies ten times per epoch\r\n",
        "and stop the training process if the validation accuracy does\r\n",
        "not change for 10 consecutive checks. Validation and test\r\n",
        "accuracies are computed on 100 images per video, training\r\n",
        "is evaluated on 270 images per video to account for frame\r\n",
        "count imbalance in our videos. Finally, we solve the imbalance between real and fake images in the binary task (i.e.,\r\n",
        "the number of fake images being roughly four times as large\r\n",
        "as the number of pristine images) by weighing the training\r\n",
        "images correspondingly."
      ]
    },
    {
      "cell_type": "markdown",
      "metadata": {
        "id": "1yAJ1a-e9djn"
      },
      "source": [
        "## Train the top layer"
      ]
    },
    {
      "cell_type": "code",
      "metadata": {
        "id": "-8Fwh4Gx12j7",
        "colab": {
          "base_uri": "https://localhost:8080/"
        },
        "outputId": "006a94f9-e573-4606-cda2-a6fbebf739ef"
      },
      "source": [
        "history = model.fit(training_dataset,\n",
        "                    epochs=3,\n",
        "                    validation_data=validation_dataset,\n",
        "                    callbacks=[early_stopping],\n",
        "                    workers=4)\n"
      ],
      "execution_count": 8,
      "outputs": [
        {
          "output_type": "stream",
          "text": [
            "Epoch 1/3\n",
            "1451/1451 [==============================] - 315s 214ms/step - loss: 24.1939 - binary_accuracy: 0.4955 - val_loss: 2.5222 - val_binary_accuracy: 0.5541\n",
            "WARNING:tensorflow:Early stopping conditioned on metric `val_accuracy` which is not available. Available metrics are: loss,binary_accuracy,val_loss,val_binary_accuracy\n",
            "Epoch 2/3\n",
            "1451/1451 [==============================] - 316s 218ms/step - loss: 2.2050 - binary_accuracy: 0.5327 - val_loss: 1.5259 - val_binary_accuracy: 0.5583\n",
            "WARNING:tensorflow:Early stopping conditioned on metric `val_accuracy` which is not available. Available metrics are: loss,binary_accuracy,val_loss,val_binary_accuracy\n",
            "Epoch 3/3\n",
            "1451/1451 [==============================] - 316s 218ms/step - loss: 1.3193 - binary_accuracy: 0.5492 - val_loss: 1.0179 - val_binary_accuracy: 0.5790\n",
            "WARNING:tensorflow:Early stopping conditioned on metric `val_accuracy` which is not available. Available metrics are: loss,binary_accuracy,val_loss,val_binary_accuracy\n"
          ],
          "name": "stdout"
        }
      ]
    },
    {
      "cell_type": "markdown",
      "metadata": {
        "id": "Vafzh39d9VZ2"
      },
      "source": [
        "## Training and Validation Graphs"
      ]
    },
    {
      "cell_type": "code",
      "metadata": {
        "id": "JmIarIkj3Dn8",
        "colab": {
          "base_uri": "https://localhost:8080/",
          "height": 308
        },
        "outputId": "b825aa72-bbcf-4b27-b846-0af1cf99c062"
      },
      "source": [
        "import matplotlib.pyplot as plt\n",
        "\n",
        "f, (ax1, ax2) = plt.subplots(1, 2, figsize=(20, 4))\n",
        "t = f.suptitle('Training and Validation Performance', fontsize=12)\n",
        "f.subplots_adjust(top=0.85, wspace=0.3)\n",
        "\n",
        "epoch_list = list(range(1,3+1))\n",
        "ax1.plot(epoch_list, history.history['binary_accuracy'], label='Train Accuracy')\n",
        "ax1.plot(epoch_list, history.history['val_binary_accuracy'], label='Validation Accuracy')\n",
        "ax1.set_xticks(np.arange(0, 3+1, 1))\n",
        "ax1.set_ylabel('Accuracy Value')\n",
        "ax1.set_xlabel('Epoch #')\n",
        "ax1.set_title('Accuracy')\n",
        "l1 = ax1.legend(loc=\"best\")\n",
        "\n",
        "ax2.plot(epoch_list, history.history['loss'], label='Train Loss')\n",
        "ax2.plot(epoch_list, history.history['val_loss'], label='Validation Loss')\n",
        "ax2.set_xticks(np.arange(0, 3+1, 1))\n",
        "ax2.set_ylabel('Loss Value')\n",
        "ax2.set_xlabel('Epoch #')\n",
        "ax2.set_title('Loss')\n",
        "l2 = ax2.legend(loc=\"best\")"
      ],
      "execution_count": 10,
      "outputs": [
        {
          "output_type": "display_data",
          "data": {
            "image/png": "[encoded data removed]",
            "text/plain": [
              "<Figure size 1440x288 with 2 Axes>"
            ]
          },
          "metadata": {
            "tags": [],
            "needs_background": "light"
          }
        }
      ]
    },
    {
      "cell_type": "markdown",
      "metadata": {
        "id": "tiyRFAFYyPFs"
      },
      "source": [
        "## Do a round of fine-tuning of the entire model\r\n",
        "\r\n",
        "Finally, let's unfreeze the base model and train the entire model end-to-end with a low learning rate.\r\n",
        "\r\n",
        "Importantly, although the base model becomes trainable, it is still running in inference mode since we passed training=False when calling it when we built the model. This means that the batch normalization layers inside won't update their batch statistics. If they did, they would wreck havoc on the representations learned by the model so far."
      ]
    },
    {
      "cell_type": "code",
      "metadata": {
        "colab": {
          "base_uri": "https://localhost:8080/"
        },
        "id": "xNVU-Z2syQvT",
        "outputId": "887b41d6-9795-49b5-e56e-6ddcda8e20ee"
      },
      "source": [
        "# Unfreeze the base_model. Note that it keeps running in inference mode\r\n",
        "# since we passed `training=False` when calling it. This means that\r\n",
        "# the batchnorm layers will not update their batch statistics.\r\n",
        "# This prevents the batchnorm layers from undoing all the training\r\n",
        "# we've done so far.\r\n",
        "base_model.trainable = True\r\n",
        "model.summary()\r\n",
        "\r\n",
        "model.compile(\r\n",
        "    optimizer=keras.optimizers.Adam(lr = learning_rate),  # Low learning rate\r\n",
        "    loss=tf.keras.losses.MeanSquaredError(),\r\n",
        "    metrics=[tf.keras.metrics.BinaryAccuracy()],\r\n",
        ")\r\n"
      ],
      "execution_count": 11,
      "outputs": [
        {
          "output_type": "stream",
          "text": [
            "Model: \"model\"\n",
            "_________________________________________________________________\n",
            "Layer (type)                 Output Shape              Param #   \n",
            "=================================================================\n",
            "input_2 (InputLayer)         [(None, 224, 224, 3)]     0         \n",
            "_________________________________________________________________\n",
            "xception (Functional)        (None, 7, 7, 2048)        20861480  \n",
            "_________________________________________________________________\n",
            "global_average_pooling2d (Gl (None, 2048)              0         \n",
            "_________________________________________________________________\n",
            "dense (Dense)                (None, 1)                 2049      \n",
            "=================================================================\n",
            "Total params: 20,863,529\n",
            "Trainable params: 20,809,001\n",
            "Non-trainable params: 54,528\n",
            "_________________________________________________________________\n"
          ],
          "name": "stdout"
        }
      ]
    },
    {
      "cell_type": "code",
      "metadata": {
        "colab": {
          "base_uri": "https://localhost:8080/"
        },
        "id": "-EGJZONYz4kj",
        "outputId": "023c8420-a152-48e1-db96-b2514c9ce209"
      },
      "source": [
        "history = model.fit(training_dataset,\r\n",
        "                    epochs=15,\r\n",
        "                    validation_data=validation_dataset,\r\n",
        "                    callbacks=[early_stopping],\r\n",
        "                    workers=4)"
      ],
      "execution_count": 12,
      "outputs": [
        {
          "output_type": "stream",
          "text": [
            "Epoch 1/15\n",
            "1451/1451 [==============================] - 1038s 713ms/step - loss: 176.5786 - binary_accuracy: 0.6776 - val_loss: 0.2804 - val_binary_accuracy: 0.6073\n",
            "WARNING:tensorflow:Early stopping conditioned on metric `val_accuracy` which is not available. Available metrics are: loss,binary_accuracy,val_loss,val_binary_accuracy\n",
            "Epoch 2/15\n",
            "1451/1451 [==============================] - 1010s 696ms/step - loss: 0.1038 - binary_accuracy: 0.8735 - val_loss: 0.1522 - val_binary_accuracy: 0.7844\n",
            "WARNING:tensorflow:Early stopping conditioned on metric `val_accuracy` which is not available. Available metrics are: loss,binary_accuracy,val_loss,val_binary_accuracy\n",
            "Epoch 3/15\n",
            "1451/1451 [==============================] - 1011s 697ms/step - loss: 0.0587 - binary_accuracy: 0.9488 - val_loss: 0.1928 - val_binary_accuracy: 0.7334\n",
            "WARNING:tensorflow:Early stopping conditioned on metric `val_accuracy` which is not available. Available metrics are: loss,binary_accuracy,val_loss,val_binary_accuracy\n",
            "Epoch 4/15\n",
            "1451/1451 [==============================] - 1036s 714ms/step - loss: 0.0434 - binary_accuracy: 0.9689 - val_loss: 0.1472 - val_binary_accuracy: 0.7991\n",
            "WARNING:tensorflow:Early stopping conditioned on metric `val_accuracy` which is not available. Available metrics are: loss,binary_accuracy,val_loss,val_binary_accuracy\n",
            "Epoch 5/15\n",
            "1451/1451 [==============================] - 1011s 697ms/step - loss: 0.0305 - binary_accuracy: 0.9814 - val_loss: 0.1996 - val_binary_accuracy: 0.7345\n",
            "WARNING:tensorflow:Early stopping conditioned on metric `val_accuracy` which is not available. Available metrics are: loss,binary_accuracy,val_loss,val_binary_accuracy\n",
            "Epoch 6/15\n",
            "1451/1451 [==============================] - 1014s 699ms/step - loss: 0.0364 - binary_accuracy: 0.9687 - val_loss: 0.1344 - val_binary_accuracy: 0.8249\n",
            "WARNING:tensorflow:Early stopping conditioned on metric `val_accuracy` which is not available. Available metrics are: loss,binary_accuracy,val_loss,val_binary_accuracy\n",
            "Epoch 7/15\n",
            "1451/1451 [==============================] - 1014s 699ms/step - loss: 0.0216 - binary_accuracy: 0.9832 - val_loss: 0.1740 - val_binary_accuracy: 0.8205\n",
            "WARNING:tensorflow:Early stopping conditioned on metric `val_accuracy` which is not available. Available metrics are: loss,binary_accuracy,val_loss,val_binary_accuracy\n",
            "Epoch 8/15\n",
            "1451/1451 [==============================] - 1015s 699ms/step - loss: 0.0244 - binary_accuracy: 0.9775 - val_loss: 0.1430 - val_binary_accuracy: 0.8271\n",
            "WARNING:tensorflow:Early stopping conditioned on metric `val_accuracy` which is not available. Available metrics are: loss,binary_accuracy,val_loss,val_binary_accuracy\n",
            "Epoch 9/15\n",
            "1451/1451 [==============================] - 1016s 700ms/step - loss: 0.0188 - binary_accuracy: 0.9828 - val_loss: 0.1317 - val_binary_accuracy: 0.8316\n",
            "WARNING:tensorflow:Early stopping conditioned on metric `val_accuracy` which is not available. Available metrics are: loss,binary_accuracy,val_loss,val_binary_accuracy\n",
            "Epoch 10/15\n",
            "1451/1451 [==============================] - 1017s 701ms/step - loss: 0.0164 - binary_accuracy: 0.9853 - val_loss: 0.1702 - val_binary_accuracy: 0.8035\n",
            "WARNING:tensorflow:Early stopping conditioned on metric `val_accuracy` which is not available. Available metrics are: loss,binary_accuracy,val_loss,val_binary_accuracy\n",
            "Epoch 11/15\n",
            "1451/1451 [==============================] - 1021s 703ms/step - loss: 0.0158 - binary_accuracy: 0.9847 - val_loss: 0.1337 - val_binary_accuracy: 0.8341\n",
            "WARNING:tensorflow:Early stopping conditioned on metric `val_accuracy` which is not available. Available metrics are: loss,binary_accuracy,val_loss,val_binary_accuracy\n",
            "Epoch 12/15\n",
            "1451/1451 [==============================] - 1067s 735ms/step - loss: 0.0153 - binary_accuracy: 0.9844 - val_loss: 0.1378 - val_binary_accuracy: 0.8313\n",
            "WARNING:tensorflow:Early stopping conditioned on metric `val_accuracy` which is not available. Available metrics are: loss,binary_accuracy,val_loss,val_binary_accuracy\n",
            "Epoch 13/15\n",
            "1451/1451 [==============================] - 1074s 740ms/step - loss: 0.0137 - binary_accuracy: 0.9874 - val_loss: 0.1498 - val_binary_accuracy: 0.8366\n",
            "WARNING:tensorflow:Early stopping conditioned on metric `val_accuracy` which is not available. Available metrics are: loss,binary_accuracy,val_loss,val_binary_accuracy\n",
            "Epoch 14/15\n",
            "1451/1451 [==============================] - 1023s 705ms/step - loss: 0.0120 - binary_accuracy: 0.9889 - val_loss: 0.1817 - val_binary_accuracy: 0.7935\n",
            "WARNING:tensorflow:Early stopping conditioned on metric `val_accuracy` which is not available. Available metrics are: loss,binary_accuracy,val_loss,val_binary_accuracy\n",
            "Epoch 15/15\n",
            "1451/1451 [==============================] - 1021s 704ms/step - loss: 0.0136 - binary_accuracy: 0.9875 - val_loss: 0.1312 - val_binary_accuracy: 0.8459\n",
            "WARNING:tensorflow:Early stopping conditioned on metric `val_accuracy` which is not available. Available metrics are: loss,binary_accuracy,val_loss,val_binary_accuracy\n"
          ],
          "name": "stdout"
        }
      ]
    },
    {
      "cell_type": "markdown",
      "metadata": {
        "id": "gSe11_Tl0CA0"
      },
      "source": [
        "## Training and Validation Graphs"
      ]
    },
    {
      "cell_type": "code",
      "metadata": {
        "colab": {
          "base_uri": "https://localhost:8080/",
          "height": 308
        },
        "id": "NYaGlNs50CA1",
        "outputId": "cbfe087a-d263-48f4-9108-e950f68e0664"
      },
      "source": [
        "import matplotlib.pyplot as plt\n",
        "\n",
        "f, (ax1, ax2) = plt.subplots(1, 2, figsize=(20, 4))\n",
        "t = f.suptitle('Training and Validation Performance', fontsize=12)\n",
        "f.subplots_adjust(top=0.85, wspace=0.3)\n",
        "\n",
        "epoch_list = list(range(1,15+1))\n",
        "ax1.plot(epoch_list, history.history['binary_accuracy'], label='Train Accuracy')\n",
        "ax1.plot(epoch_list, history.history['val_binary_accuracy'], label='Validation Accuracy')\n",
        "ax1.set_xticks(np.arange(0, 15+1, 1))\n",
        "ax1.set_ylabel('Accuracy Value')\n",
        "ax1.set_xlabel('Epoch #')\n",
        "ax1.set_title('Accuracy')\n",
        "l1 = ax1.legend(loc=\"best\")\n",
        "\n",
        "ax2.plot(epoch_list, history.history['loss'], label='Train Loss')\n",
        "ax2.plot(epoch_list, history.history['val_loss'], label='Validation Loss')\n",
        "ax2.set_xticks(np.arange(0, 15+1, 1))\n",
        "ax2.set_ylabel('Loss Value')\n",
        "ax2.set_xlabel('Epoch #')\n",
        "ax2.set_title('Loss')\n",
        "l2 = ax2.legend(loc=\"best\")"
      ],
      "execution_count": 14,
      "outputs": [
        {
          "output_type": "display_data",
          "data": {
            "image/png": "[encoded data removed]",
            "text/plain": [
              "<Figure size 1440x288 with 2 Axes>"
            ]
          },
          "metadata": {
            "tags": [],
            "needs_background": "light"
          }
        }
      ]
    },
    {
      "cell_type": "markdown",
      "metadata": {
        "id": "GSyUbKcWMWrB"
      },
      "source": [
        "# Prediction"
      ]
    },
    {
      "cell_type": "markdown",
      "metadata": {
        "id": "rgnjCQe-MjLH"
      },
      "source": [
        "## Store into tf.data.Dataset"
      ]
    },
    {
      "cell_type": "code",
      "metadata": {
        "colab": {
          "base_uri": "https://localhost:8080/"
        },
        "id": "xJQQItI-0Q5m",
        "outputId": "b4116dbd-9ca4-4a65-979b-e456dd2080b9"
      },
      "source": [
        "from tensorflow.keras.preprocessing import image_dataset_from_directory\r\n",
        "\r\n",
        "dir_train = os.path.join('ff_dataset', 'Frames_train')\r\n",
        "dir_val = os.path.join('ff_dataset', 'Frames_validation')\r\n",
        "dir_test = os.path.join('ff_dataset', 'Frames_test')\r\n",
        "image_format = '.jpg'\r\n",
        "\r\n",
        "test_dataset = image_dataset_from_directory(\r\n",
        "    dir_test,\r\n",
        "    labels=\"inferred\",\r\n",
        "    label_mode=\"binary\",\r\n",
        "    class_names=['fake', 'real'],\r\n",
        "    color_mode=\"rgb\",\r\n",
        "    batch_size=BATCH_SIZE,\r\n",
        "    image_size=(SIZE, SIZE),\r\n",
        "    shuffle=False,\r\n",
        ")\r\n"
      ],
      "execution_count": 15,
      "outputs": [
        {
          "output_type": "stream",
          "text": [
            "Found 15667 files belonging to 2 classes.\n"
          ],
          "name": "stdout"
        }
      ]
    },
    {
      "cell_type": "markdown",
      "metadata": {
        "id": "oAqU-RLekwDI"
      },
      "source": [
        "## Make Prediction"
      ]
    },
    {
      "cell_type": "code",
      "metadata": {
        "id": "EYf9QXMNbkcB",
        "colab": {
          "base_uri": "https://localhost:8080/"
        },
        "outputId": "00a999fb-8316-4702-940c-d33fd04c0d36"
      },
      "source": [
        "Y_pred = (model.predict(test_dataset, verbose=1) > 0.5).astype(\"int32\")"
      ],
      "execution_count": 16,
      "outputs": [
        {
          "output_type": "stream",
          "text": [
            "490/490 [==============================] - 76s 153ms/step\n"
          ],
          "name": "stdout"
        }
      ]
    },
    {
      "cell_type": "markdown",
      "metadata": {
        "id": "GUFjwc-Nk3ZR"
      },
      "source": [
        "### Read Original Labels"
      ]
    },
    {
      "cell_type": "code",
      "metadata": {
        "id": "sgCeGiX-ewNd"
      },
      "source": [
        "Y_test = []\r\n",
        "for img_array, label in (test_dataset.as_numpy_iterator()):\r\n",
        "    Y_test.append(label)"
      ],
      "execution_count": 17,
      "outputs": []
    },
    {
      "cell_type": "markdown",
      "metadata": {
        "id": "hy-gsprKk-u9"
      },
      "source": [
        "### Flatten Original and Prediction label arrays"
      ]
    },
    {
      "cell_type": "code",
      "metadata": {
        "id": "KBayYJHCtFsX"
      },
      "source": [
        "original_labels = []\r\n",
        "original_labels = list(np.concatenate(Y_test).flat)\r\n",
        "original_labels = np.array(original_labels)\r\n",
        "\r\n",
        "predicted_labels = []\r\n",
        "predicted_labels = list(np.concatenate(Y_pred).flat)\r\n",
        "predicted_labels = np.array(predicted_labels)"
      ],
      "execution_count": 18,
      "outputs": []
    },
    {
      "cell_type": "markdown",
      "metadata": {
        "id": "fnPxkC2timnb"
      },
      "source": [
        "## Classification Report"
      ]
    },
    {
      "cell_type": "code",
      "metadata": {
        "id": "VKztxwp4ibct",
        "colab": {
          "base_uri": "https://localhost:8080/"
        },
        "outputId": "3d279016-d8b9-4a39-f1f2-4346cbf50661"
      },
      "source": [
        "from sklearn.metrics import classification_report\n",
        "classificationReport = classification_report(original_labels, predicted_labels, target_names=test_dataset.class_names, digits=5)\n",
        "print(classificationReport)"
      ],
      "execution_count": 21,
      "outputs": [
        {
          "output_type": "stream",
          "text": [
            "              precision    recall  f1-score   support\n",
            "\n",
            "        fake    0.87905   0.75748   0.81375      7983\n",
            "        real    0.77970   0.89172   0.83196      7684\n",
            "\n",
            "    accuracy                        0.82332     15667\n",
            "   macro avg    0.82938   0.82460   0.82286     15667\n",
            "weighted avg    0.83032   0.82332   0.82268     15667\n",
            "\n"
          ],
          "name": "stdout"
        }
      ]
    },
    {
      "cell_type": "markdown",
      "metadata": {
        "id": "lZI6-stDS_ol"
      },
      "source": [
        "## Confusion Matrix"
      ]
    },
    {
      "cell_type": "code",
      "metadata": {
        "id": "_l-PorZI3DoB",
        "colab": {
          "base_uri": "https://localhost:8080/",
          "height": 402
        },
        "outputId": "06121057-89f8-4151-9563-2e232f04cda7"
      },
      "source": [
        "#Output confusion matrix\n",
        "from sklearn.metrics import confusion_matrix\n",
        "import pandas as pd\n",
        "import seaborn as sn\n",
        "import matplotlib.pyplot as plt\n",
        "\n",
        "def print_confusion_matrix(y_true, y_pred):\n",
        "    cm = confusion_matrix(y_true, y_pred)\n",
        "    print('True positive = ', cm[0][0])\n",
        "    print('False positive = ', cm[0][1])\n",
        "    print('False negative = ', cm[1][0])\n",
        "    print('True negative = ', cm[1][1])\n",
        "    print('\\n')\n",
        "    df_cm = pd.DataFrame(cm, range(2), range(2))\n",
        "    sn.set(font_scale=1.4) # for label size\n",
        "    sn.heatmap(df_cm, annot=True, annot_kws={\"size\": 16}, cmap=\"YlGnBu\") # font size\n",
        "    plt.ylabel('Actual label', size = 20)\n",
        "    plt.xlabel('Predicted label', size = 20)\n",
        "    plt.xticks(np.arange(2), test_dataset.class_names, size = 16)\n",
        "    plt.yticks(np.arange(2), test_dataset.class_names, size = 16)\n",
        "    plt.ylim([2, 0])\n",
        "    plt.show()\n",
        "    return cm\n",
        "    \n",
        "confusionMatrix = print_confusion_matrix(original_labels, predicted_labels)"
      ],
      "execution_count": 22,
      "outputs": [
        {
          "output_type": "stream",
          "text": [
            "True positive =  6047\n",
            "False positive =  1936\n",
            "False negative =  832\n",
            "True negative =  6852\n",
            "\n",
            "\n"
          ],
          "name": "stdout"
        },
        {
          "output_type": "display_data",
          "data": {
            "image/png": "[encoded data removed]",
            "text/plain": [
              "<Figure size 432x288 with 2 Axes>"
            ]
          },
          "metadata": {
            "tags": []
          }
        }
      ]
    },
    {
      "cell_type": "markdown",
      "metadata": {
        "id": "Go_uGCTqU5XR"
      },
      "source": [
        "# Write to File"
      ]
    },
    {
      "cell_type": "code",
      "metadata": {
        "id": "9W4SCXEZU7SB"
      },
      "source": [
        "import os\r\n",
        "\r\n",
        "tp = str('True positive = '+ str(confusionMatrix[0][0]) + '\\n')\r\n",
        "fp = str('False positive = '+ str(confusionMatrix[0][1]) + '\\n')\r\n",
        "fn = str('False negative = '+ str(confusionMatrix[1][0]) + '\\n')\r\n",
        "tn = str('True negative = '+ str(confusionMatrix[1][1]) + '\\n')\r\n",
        "\r\n",
        "data = (\r\n",
        "    'Model Name: ' + 'XceptionNet' + '\\n' +\r\n",
        "    'Batch Size: ' + str(BATCH_SIZE) + '\\n' +\r\n",
        "    'Image Size: ' + str(SIZE) + '\\n' +\r\n",
        "    'Epochs: ' + str(EPOCHS) + '\\n' +\r\n",
        "    '===================================================== \\n\\n' +\r\n",
        "    str(classificationReport) + '\\n' + str(tp + fp + fn + tn)\r\n",
        ")\r\n",
        "\r\n",
        "from datetime import datetime \r\n",
        "import pytz \r\n",
        "  \r\n",
        "# get the standard UTC time  \r\n",
        "UTC = pytz.utc \r\n",
        "  \r\n",
        "# it will get the time zone  \r\n",
        "# of the specified location \r\n",
        "IST = pytz.timezone('Asia/Kolkata') \r\n",
        "  \r\n",
        "datetime_ist = datetime.now(IST) \r\n",
        "filename = ('Report ' + datetime_ist.strftime('%Y-%m-%d %H%M') + ' Xception' + '.txt')\r\n",
        "\r\n",
        "myFile = open(filename, 'w')\r\n",
        "myFile.write(data)\r\n",
        "myFile.close()\r\n",
        "\r\n",
        "model.save('Xception ' + datetime_ist.strftime('%Y-%m-%d %H%M') + '.h5')"
      ],
      "execution_count": 24,
      "outputs": []
    }
  ]
}