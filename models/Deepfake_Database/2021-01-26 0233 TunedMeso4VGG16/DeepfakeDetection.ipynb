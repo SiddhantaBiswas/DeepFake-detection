{
  "nbformat": 4,
  "nbformat_minor": 0,
  "metadata": {
    "accelerator": "GPU",
    "colab": {
      "name": "DeepfakeDetection.ipynb",
      "provenance": [],
      "collapsed_sections": [],
      "toc_visible": true
    },
    "kernelspec": {
      "display_name": "Python 3",
      "name": "python3"
    }
  },
  "cells": [
    {
      "cell_type": "code",
      "metadata": {
        "id": "N-9RKWkoMMVH"
      },
      "source": [
        "import os\r\n",
        "#os.environ['PYTHONHASHSEED'] = '0'\r\n",
        "\r\n",
        "import tensorflow as tf\r\n",
        "#tf.random.set_seed(89)\r\n",
        "\r\n",
        "import numpy as np\r\n",
        "#np.random.seed(42)\r\n",
        "\r\n",
        "import random as rn\r\n",
        "#rn.seed(1254)"
      ],
      "execution_count": 1,
      "outputs": []
    },
    {
      "cell_type": "markdown",
      "metadata": {
        "id": "mL5YWlcaRUmV"
      },
      "source": [
        "# Preprocessing"
      ]
    },
    {
      "cell_type": "markdown",
      "metadata": {
        "id": "GMORKBUzCvVi"
      },
      "source": [
        "## Drive Mount"
      ]
    },
    {
      "cell_type": "code",
      "metadata": {
        "colab": {
          "base_uri": "https://localhost:8080/"
        },
        "id": "eEgqKYL6RwWG",
        "outputId": "5d89e57c-2a49-4c25-87ff-818559c15469"
      },
      "source": [
        "from google.colab import drive\r\n",
        "drive.mount('/content/drive')"
      ],
      "execution_count": 2,
      "outputs": [
        {
          "output_type": "stream",
          "text": [
            "Drive already mounted at /content/drive; to attempt to forcibly remount, call drive.mount(\"/content/drive\", force_remount=True).\n"
          ],
          "name": "stdout"
        }
      ]
    },
    {
      "cell_type": "markdown",
      "metadata": {
        "id": "vZzkKFyDSLjQ"
      },
      "source": [
        "## Extract dataset"
      ]
    },
    {
      "cell_type": "code",
      "metadata": {
        "id": "n74vJZ9TSM6o"
      },
      "source": [
        "%%capture\r\n",
        "!unzip -o \"/content/drive/My Drive/Thesis/deepfake-detection-master/deepfake_database.zip\" -d /content/"
      ],
      "execution_count": 3,
      "outputs": []
    },
    {
      "cell_type": "markdown",
      "metadata": {
        "id": "rLcO1jsj59Z3"
      },
      "source": [
        "## Parameters"
      ]
    },
    {
      "cell_type": "code",
      "metadata": {
        "id": "tflJn6S__MzJ"
      },
      "source": [
        "BATCH_SIZE = 64\r\n",
        "SIZE = 256\r\n",
        "EPOCHS = 50\r\n",
        "\r\n",
        "input_shape = (SIZE, SIZE, 3)\r\n",
        "learning_rate = 0.001\r\n",
        "dl_rate = 1"
      ],
      "execution_count": 4,
      "outputs": []
    },
    {
      "cell_type": "markdown",
      "metadata": {
        "id": "gI_DMsLa8lql"
      },
      "source": [
        "## Store into tf.data.Dataset"
      ]
    },
    {
      "cell_type": "code",
      "metadata": {
        "colab": {
          "base_uri": "https://localhost:8080/"
        },
        "id": "1VpZ8EXzc1Gy",
        "outputId": "4d327c42-5dec-4c71-fdaf-7e65285db9a9"
      },
      "source": [
        "from tensorflow.keras.preprocessing import image_dataset_from_directory\r\n",
        "\r\n",
        "directory = os.path.join('deepfake_database', 'train_test')\r\n",
        "image_format = '.jpg'\r\n",
        "\r\n",
        "training_dataset = image_dataset_from_directory(\r\n",
        "    directory,\r\n",
        "    labels=\"inferred\",\r\n",
        "    label_mode=\"binary\",\r\n",
        "    class_names=['df', 'real'],\r\n",
        "    color_mode=\"rgb\",\r\n",
        "    batch_size=BATCH_SIZE,\r\n",
        "    image_size=(SIZE, SIZE),\r\n",
        "    shuffle=True,\r\n",
        "    validation_split=0.1,\r\n",
        "    subset=\"training\",\r\n",
        "    seed=42\r\n",
        ")\r\n",
        "\r\n",
        "validation_dataset = image_dataset_from_directory(\r\n",
        "    directory,\r\n",
        "    labels=\"inferred\",\r\n",
        "    label_mode=\"binary\",\r\n",
        "    class_names=['df', 'real'],\r\n",
        "    color_mode=\"rgb\",\r\n",
        "    batch_size=BATCH_SIZE,\r\n",
        "    image_size=(SIZE, SIZE),\r\n",
        "    shuffle=True,\r\n",
        "    validation_split=0.1,\r\n",
        "    subset=\"validation\",\r\n",
        "    seed=42\r\n",
        ")\r\n"
      ],
      "execution_count": 5,
      "outputs": [
        {
          "output_type": "stream",
          "text": [
            "Found 12353 files belonging to 2 classes.\n",
            "Using 11118 files for training.\n",
            "Found 12353 files belonging to 2 classes.\n",
            "Using 1235 files for validation.\n"
          ],
          "name": "stdout"
        }
      ]
    },
    {
      "cell_type": "code",
      "metadata": {
        "colab": {
          "base_uri": "https://localhost:8080/"
        },
        "id": "-3a1TWu5q5oM",
        "outputId": "bcc05171-3464-4467-9eb5-352c0f9b4f54"
      },
      "source": [
        "steps_per_epoch=len(training_dataset)\r\n",
        "print(steps_per_epoch)"
      ],
      "execution_count": 6,
      "outputs": [
        {
          "output_type": "stream",
          "text": [
            "174\n"
          ],
          "name": "stdout"
        }
      ]
    },
    {
      "cell_type": "markdown",
      "metadata": {
        "id": "GoKLp9K-8y5h"
      },
      "source": [
        "# Model"
      ]
    },
    {
      "cell_type": "markdown",
      "metadata": {
        "id": "JQmxao2Y7lU0"
      },
      "source": [
        "## LR Decay"
      ]
    },
    {
      "cell_type": "code",
      "metadata": {
        "id": "gEIpLlfDAQV3"
      },
      "source": [
        "# This function keeps the initial learning rate for the first ten epochs  \r\n",
        "# and decreases it exponentially after that.  \r\n",
        "def scheduler(epoch):\r\n",
        "    lr = 1e-3\r\n",
        "    if epoch < 20:\r\n",
        "        lr = 0.001 \r\n",
        "    elif epoch >= 20 and epoch < 30:\r\n",
        "        lr = 0.0001\r\n",
        "    elif epoch >= 30 and epoch < 40:\r\n",
        "        lr = 0.0001\r\n",
        "    elif epoch >= 40:\r\n",
        "        lr = 0.00001\r\n",
        "    print(\"{0:.8f}\".format(lr))\r\n",
        "    return lr"
      ],
      "execution_count": 7,
      "outputs": []
    },
    {
      "cell_type": "code",
      "metadata": {
        "id": "fIgSQDRYVetW"
      },
      "source": [
        "def InceptionLayer(f1, f2, f3, f4):\r\n",
        "    def func(x):\r\n",
        "        x1 = Conv2D(f1, (1, 1), padding='same', activation='relu')(x)     \r\n",
        "        x2 = Conv2D(f2, (3, 3), padding='same', activation='relu')(x)       \r\n",
        "        x3 = Conv2D(f3, (5, 5), padding='same', activation='relu')(x)       \r\n",
        "        x4 = Conv2D(f4, (7, 7), padding='same', activation='relu')(x)\r\n",
        "        y = Concatenate(axis = -1)([x1, x2, x3, x4])        \r\n",
        "        return y\r\n",
        "    return func\r\n",
        "    \r\n",
        "def CustomInception(input_shape):\r\n",
        "    x = Input(shape = input_shape)\r\n",
        "    \r\n",
        "    x1 = InceptionLayer(1, 4, 4, 2)(x)\r\n",
        "    x1 = BatchNormalization()(x1)\r\n",
        "    x1 = MaxPooling2D(pool_size=(2, 2), padding='same')(x1)\r\n",
        "    \r\n",
        "    x2 = InceptionLayer(2, 4, 4, 2)(x1)\r\n",
        "    x2 = InceptionLayer(2, 4, 4, 2)(x2)\r\n",
        "    x2 = BatchNormalization()(x2)\r\n",
        "    x2 = MaxPooling2D(pool_size=(2, 2), padding='same')(x2)        \r\n",
        "    \r\n",
        "    x3 = InceptionLayer(4, 8, 8, 4)(x2)\r\n",
        "    x3 = InceptionLayer(4, 8, 8, 4)(x3)\r\n",
        "    x3 = InceptionLayer(4, 8, 8, 4)(x3)\r\n",
        "    x3 = BatchNormalization()(x3)\r\n",
        "    x3 = MaxPooling2D(pool_size=(2, 2), padding='same')(x3)  \r\n",
        "\r\n",
        "    x4 = Conv2D(16, (5, 5), padding='same', activation = 'relu')(x3)\r\n",
        "    x4 = Conv2D(16, (5, 5), padding='same', activation = 'relu')(x4)\r\n",
        "    x4 = BatchNormalization()(x4)\r\n",
        "    x4 = MaxPooling2D(pool_size=(4, 4), padding='same')(x4)  \r\n",
        "\r\n",
        "    x5 = Conv2D(32, (3, 3), padding='same', activation = 'relu')(x4)\r\n",
        "    x5 = Conv2D(32, (3, 3), padding='same', activation = 'relu')(x5)\r\n",
        "    x5 = Conv2D(32, (3, 3), padding='same', activation = 'relu')(x5)\r\n",
        "    x5 = BatchNormalization()(x5)\r\n",
        "    x5 = MaxPooling2D(pool_size=(4, 4), padding='same')(x5) \r\n",
        "\r\n",
        "    x6 = Conv2D(64, (3, 3), padding='same', activation = 'relu')(x5)\r\n",
        "    x6 = Conv2D(64, (3, 3), padding='same', activation = 'relu')(x6)\r\n",
        "    x6 = Conv2D(64, (3, 3), padding='same', activation = 'relu')(x6)\r\n",
        "    x6 = Conv2D(64, (3, 3), padding='same', activation = 'relu')(x6)\r\n",
        "    x6 = BatchNormalization()(x6)\r\n",
        "    x6 = MaxPooling2D(pool_size=(4, 4), padding='same')(x6) \r\n",
        "    \r\n",
        "    y = Flatten()(x6)\r\n",
        "    y = Dropout(0.5)(y)\r\n",
        "    y = Dense(16)(y)\r\n",
        "    y = LeakyReLU(alpha=0.1)(y)\r\n",
        "    y = Dropout(0.5)(y)\r\n",
        "    y = Dense(1, activation = 'sigmoid')(y)\r\n",
        "\r\n",
        "    return KerasModel(inputs = x, outputs = y), 'CustomInception'"
      ],
      "execution_count": 8,
      "outputs": []
    },
    {
      "cell_type": "markdown",
      "metadata": {
        "id": "VJ3ZUFXa9HOI"
      },
      "source": [
        "## Compile Model"
      ]
    },
    {
      "cell_type": "code",
      "metadata": {
        "colab": {
          "base_uri": "https://localhost:8080/"
        },
        "id": "7KtJAfOWjQm2",
        "outputId": "cba0bbc5-5a55-4700-a1b3-9b47f97cc3b0"
      },
      "source": [
        "from keras.models import Model as KerasModel\n",
        "from keras.models import Sequential\n",
        "from keras.layers import Input, Dense, Flatten, Conv2D, MaxPooling2D, BatchNormalization, Dropout, Reshape, Concatenate, LeakyReLU, Embedding, LSTM\n",
        "from keras.optimizers import Adam\n",
        "\n",
        "%run -i 'TunedMeso4VGG16.py'\n",
        "\n",
        "model, modelName = TunedMeso4VGG16(input_shape)\n",
        "optimizer = Adam(lr = learning_rate)\n",
        "model.compile(optimizer = optimizer, loss = 'mean_squared_error', metrics = ['accuracy'])\n",
        "print(modelName)"
      ],
      "execution_count": 10,
      "outputs": [
        {
          "output_type": "stream",
          "text": [
            "TunedMeso4VGG16\n"
          ],
          "name": "stdout"
        }
      ]
    },
    {
      "cell_type": "markdown",
      "metadata": {
        "id": "ndb3w9pB9LB2"
      },
      "source": [
        "# Training"
      ]
    },
    {
      "cell_type": "markdown",
      "metadata": {
        "id": "1yAJ1a-e9djn"
      },
      "source": [
        "## Fit Model"
      ]
    },
    {
      "cell_type": "code",
      "metadata": {
        "id": "-8Fwh4Gx12j7",
        "colab": {
          "base_uri": "https://localhost:8080/"
        },
        "outputId": "148f4257-091b-4e91-ad06-1ebdf6ff04f2"
      },
      "source": [
        "from tensorflow import keras\n",
        "import keras.backend as K\n",
        "\n",
        "callback = keras.callbacks.LearningRateScheduler(scheduler)\n",
        "\n",
        "history = model.fit(training_dataset,\n",
        "                    epochs=EPOCHS,\n",
        "                    validation_data=validation_dataset,\n",
        "                    steps_per_epoch=steps_per_epoch,\n",
        "                    callbacks=[callback],\n",
        "                    workers=4)\n",
        "round(model.optimizer.lr.numpy(), 5)\n"
      ],
      "execution_count": 11,
      "outputs": [
        {
          "output_type": "stream",
          "text": [
            "Epoch 1/50\n",
            "0.00100000\n",
            "174/174 [==============================] - 224s 1s/step - loss: 0.2646 - accuracy: 0.5877 - val_loss: 0.3192 - val_accuracy: 0.6211\n",
            "Epoch 2/50\n",
            "0.00100000\n",
            "174/174 [==============================] - 203s 1s/step - loss: 0.1804 - accuracy: 0.7384 - val_loss: 0.3927 - val_accuracy: 0.6073\n",
            "Epoch 3/50\n",
            "0.00100000\n",
            "174/174 [==============================] - 204s 1s/step - loss: 0.1398 - accuracy: 0.8183 - val_loss: 0.1660 - val_accuracy: 0.7644\n",
            "Epoch 4/50\n",
            "0.00100000\n",
            "174/174 [==============================] - 203s 1s/step - loss: 0.1119 - accuracy: 0.8568 - val_loss: 0.0893 - val_accuracy: 0.8818\n",
            "Epoch 5/50\n",
            "0.00100000\n",
            "174/174 [==============================] - 203s 1s/step - loss: 0.0803 - accuracy: 0.8968 - val_loss: 0.2105 - val_accuracy: 0.7490\n",
            "Epoch 6/50\n",
            "0.00100000\n",
            "174/174 [==============================] - 203s 1s/step - loss: 0.0776 - accuracy: 0.9010 - val_loss: 0.1114 - val_accuracy: 0.8510\n",
            "Epoch 7/50\n",
            "0.00100000\n",
            "174/174 [==============================] - 202s 1s/step - loss: 0.0602 - accuracy: 0.9260 - val_loss: 0.1210 - val_accuracy: 0.8551\n",
            "Epoch 8/50\n",
            "0.00100000\n",
            "174/174 [==============================] - 202s 1s/step - loss: 0.0676 - accuracy: 0.9134 - val_loss: 0.0675 - val_accuracy: 0.9117\n",
            "Epoch 9/50\n",
            "0.00100000\n",
            "174/174 [==============================] - 202s 1s/step - loss: 0.0554 - accuracy: 0.9291 - val_loss: 0.0976 - val_accuracy: 0.8818\n",
            "Epoch 10/50\n",
            "0.00100000\n",
            "174/174 [==============================] - 201s 1s/step - loss: 0.0525 - accuracy: 0.9372 - val_loss: 0.0683 - val_accuracy: 0.9206\n",
            "Epoch 11/50\n",
            "0.00100000\n",
            "174/174 [==============================] - 203s 1s/step - loss: 0.0506 - accuracy: 0.9350 - val_loss: 0.0659 - val_accuracy: 0.9231\n",
            "Epoch 12/50\n",
            "0.00100000\n",
            "174/174 [==============================] - 203s 1s/step - loss: 0.0381 - accuracy: 0.9512 - val_loss: 0.0586 - val_accuracy: 0.9247\n",
            "Epoch 13/50\n",
            "0.00100000\n",
            "174/174 [==============================] - 201s 1s/step - loss: 0.0309 - accuracy: 0.9608 - val_loss: 0.0509 - val_accuracy: 0.9344\n",
            "Epoch 14/50\n",
            "0.00100000\n",
            "174/174 [==============================] - 202s 1s/step - loss: 0.0337 - accuracy: 0.9584 - val_loss: 0.0804 - val_accuracy: 0.8972\n",
            "Epoch 15/50\n",
            "0.00100000\n",
            "174/174 [==============================] - 202s 1s/step - loss: 0.0409 - accuracy: 0.9486 - val_loss: 0.0320 - val_accuracy: 0.9636\n",
            "Epoch 16/50\n",
            "0.00100000\n",
            "174/174 [==============================] - 202s 1s/step - loss: 0.0262 - accuracy: 0.9665 - val_loss: 0.0611 - val_accuracy: 0.9166\n",
            "Epoch 17/50\n",
            "0.00100000\n",
            "174/174 [==============================] - 202s 1s/step - loss: 0.0314 - accuracy: 0.9619 - val_loss: 0.0510 - val_accuracy: 0.9352\n",
            "Epoch 18/50\n",
            "0.00100000\n",
            "174/174 [==============================] - 202s 1s/step - loss: 0.0258 - accuracy: 0.9687 - val_loss: 0.1193 - val_accuracy: 0.8591\n",
            "Epoch 19/50\n",
            "0.00100000\n",
            "174/174 [==============================] - 202s 1s/step - loss: 0.0264 - accuracy: 0.9651 - val_loss: 0.1220 - val_accuracy: 0.8534\n",
            "Epoch 20/50\n",
            "0.00100000\n",
            "174/174 [==============================] - 202s 1s/step - loss: 0.0235 - accuracy: 0.9702 - val_loss: 0.0464 - val_accuracy: 0.9377\n",
            "Epoch 21/50\n",
            "0.00010000\n",
            "174/174 [==============================] - 201s 1s/step - loss: 0.0165 - accuracy: 0.9793 - val_loss: 0.0183 - val_accuracy: 0.9765\n",
            "Epoch 22/50\n",
            "0.00010000\n",
            "174/174 [==============================] - 201s 1s/step - loss: 0.0121 - accuracy: 0.9844 - val_loss: 0.0184 - val_accuracy: 0.9757\n",
            "Epoch 23/50\n",
            "0.00010000\n",
            "174/174 [==============================] - 202s 1s/step - loss: 0.0109 - accuracy: 0.9862 - val_loss: 0.0200 - val_accuracy: 0.9789\n",
            "Epoch 24/50\n",
            "0.00010000\n",
            "174/174 [==============================] - 202s 1s/step - loss: 0.0094 - accuracy: 0.9872 - val_loss: 0.0159 - val_accuracy: 0.9814\n",
            "Epoch 25/50\n",
            "0.00010000\n",
            "174/174 [==============================] - 202s 1s/step - loss: 0.0088 - accuracy: 0.9899 - val_loss: 0.0183 - val_accuracy: 0.9789\n",
            "Epoch 26/50\n",
            "0.00010000\n",
            "174/174 [==============================] - 201s 1s/step - loss: 0.0098 - accuracy: 0.9886 - val_loss: 0.0162 - val_accuracy: 0.9806\n",
            "Epoch 27/50\n",
            "0.00010000\n",
            "174/174 [==============================] - 201s 1s/step - loss: 0.0071 - accuracy: 0.9920 - val_loss: 0.0172 - val_accuracy: 0.9798\n",
            "Epoch 28/50\n",
            "0.00010000\n",
            "174/174 [==============================] - 202s 1s/step - loss: 0.0065 - accuracy: 0.9927 - val_loss: 0.0157 - val_accuracy: 0.9822\n",
            "Epoch 29/50\n",
            "0.00010000\n",
            "174/174 [==============================] - 202s 1s/step - loss: 0.0065 - accuracy: 0.9919 - val_loss: 0.0205 - val_accuracy: 0.9741\n",
            "Epoch 30/50\n",
            "0.00010000\n",
            "174/174 [==============================] - 202s 1s/step - loss: 0.0073 - accuracy: 0.9910 - val_loss: 0.0178 - val_accuracy: 0.9781\n",
            "Epoch 31/50\n",
            "0.00010000\n",
            "174/174 [==============================] - 202s 1s/step - loss: 0.0057 - accuracy: 0.9933 - val_loss: 0.0180 - val_accuracy: 0.9798\n",
            "Epoch 32/50\n",
            "0.00010000\n",
            "174/174 [==============================] - 202s 1s/step - loss: 0.0059 - accuracy: 0.9931 - val_loss: 0.0201 - val_accuracy: 0.9765\n",
            "Epoch 33/50\n",
            "0.00010000\n",
            "174/174 [==============================] - 201s 1s/step - loss: 0.0057 - accuracy: 0.9929 - val_loss: 0.0164 - val_accuracy: 0.9806\n",
            "Epoch 34/50\n",
            "0.00010000\n",
            "174/174 [==============================] - 203s 1s/step - loss: 0.0056 - accuracy: 0.9931 - val_loss: 0.0174 - val_accuracy: 0.9773\n",
            "Epoch 35/50\n",
            "0.00010000\n",
            "174/174 [==============================] - 203s 1s/step - loss: 0.0043 - accuracy: 0.9950 - val_loss: 0.0228 - val_accuracy: 0.9725\n",
            "Epoch 36/50\n",
            "0.00010000\n",
            "174/174 [==============================] - 200s 1s/step - loss: 0.0058 - accuracy: 0.9930 - val_loss: 0.0145 - val_accuracy: 0.9822\n",
            "Epoch 37/50\n",
            "0.00010000\n",
            "174/174 [==============================] - 203s 1s/step - loss: 0.0044 - accuracy: 0.9948 - val_loss: 0.0119 - val_accuracy: 0.9838\n",
            "Epoch 38/50\n",
            "0.00010000\n",
            "174/174 [==============================] - 201s 1s/step - loss: 0.0042 - accuracy: 0.9948 - val_loss: 0.0127 - val_accuracy: 0.9854\n",
            "Epoch 39/50\n",
            "0.00010000\n",
            "174/174 [==============================] - 201s 1s/step - loss: 0.0042 - accuracy: 0.9950 - val_loss: 0.0170 - val_accuracy: 0.9798\n",
            "Epoch 40/50\n",
            "0.00010000\n",
            "174/174 [==============================] - 201s 1s/step - loss: 0.0037 - accuracy: 0.9955 - val_loss: 0.0196 - val_accuracy: 0.9765\n",
            "Epoch 41/50\n",
            "0.00001000\n",
            "174/174 [==============================] - 200s 1s/step - loss: 0.0041 - accuracy: 0.9957 - val_loss: 0.0141 - val_accuracy: 0.9830\n",
            "Epoch 42/50\n",
            "0.00001000\n",
            "174/174 [==============================] - 201s 1s/step - loss: 0.0036 - accuracy: 0.9964 - val_loss: 0.0132 - val_accuracy: 0.9846\n",
            "Epoch 43/50\n",
            "0.00001000\n",
            "174/174 [==============================] - 200s 1s/step - loss: 0.0034 - accuracy: 0.9960 - val_loss: 0.0131 - val_accuracy: 0.9846\n",
            "Epoch 44/50\n",
            "0.00001000\n",
            "174/174 [==============================] - 201s 1s/step - loss: 0.0024 - accuracy: 0.9973 - val_loss: 0.0129 - val_accuracy: 0.9846\n",
            "Epoch 45/50\n",
            "0.00001000\n",
            "174/174 [==============================] - 200s 1s/step - loss: 0.0024 - accuracy: 0.9971 - val_loss: 0.0123 - val_accuracy: 0.9862\n",
            "Epoch 46/50\n",
            "0.00001000\n",
            "174/174 [==============================] - 201s 1s/step - loss: 0.0025 - accuracy: 0.9972 - val_loss: 0.0128 - val_accuracy: 0.9846\n",
            "Epoch 47/50\n",
            "0.00001000\n",
            "174/174 [==============================] - 201s 1s/step - loss: 0.0026 - accuracy: 0.9971 - val_loss: 0.0121 - val_accuracy: 0.9854\n",
            "Epoch 48/50\n",
            "0.00001000\n",
            "174/174 [==============================] - 200s 1s/step - loss: 0.0023 - accuracy: 0.9973 - val_loss: 0.0119 - val_accuracy: 0.9854\n",
            "Epoch 49/50\n",
            "0.00001000\n",
            "174/174 [==============================] - 201s 1s/step - loss: 0.0022 - accuracy: 0.9978 - val_loss: 0.0122 - val_accuracy: 0.9854\n",
            "Epoch 50/50\n",
            "0.00001000\n",
            "174/174 [==============================] - 201s 1s/step - loss: 0.0025 - accuracy: 0.9969 - val_loss: 0.0111 - val_accuracy: 0.9879\n"
          ],
          "name": "stdout"
        },
        {
          "output_type": "execute_result",
          "data": {
            "text/plain": [
              "1e-05"
            ]
          },
          "metadata": {
            "tags": []
          },
          "execution_count": 11
        }
      ]
    },
    {
      "cell_type": "markdown",
      "metadata": {
        "id": "Vafzh39d9VZ2"
      },
      "source": [
        "## Training and Validation Graphs"
      ]
    },
    {
      "cell_type": "code",
      "metadata": {
        "id": "JmIarIkj3Dn8",
        "colab": {
          "base_uri": "https://localhost:8080/",
          "height": 308
        },
        "outputId": "856101e6-8cc3-4551-d479-f7ef796db0e4"
      },
      "source": [
        "import matplotlib.pyplot as plt\n",
        "\n",
        "f, (ax1, ax2) = plt.subplots(1, 2, figsize=(20, 4))\n",
        "t = f.suptitle('Training and Validation Performance for ' + modelName, fontsize=12)\n",
        "f.subplots_adjust(top=0.85, wspace=0.3)\n",
        "\n",
        "epoch_list = list(range(1,EPOCHS+1))\n",
        "ax1.plot(epoch_list, history.history['accuracy'], label='Train Accuracy')\n",
        "ax1.plot(epoch_list, history.history['val_accuracy'], label='Validation Accuracy')\n",
        "ax1.set_xticks(np.arange(0, EPOCHS+1, 1))\n",
        "ax1.set_ylabel('Accuracy Value')\n",
        "ax1.set_xlabel('Epoch #')\n",
        "ax1.set_title('Accuracy')\n",
        "l1 = ax1.legend(loc=\"best\")\n",
        "\n",
        "ax2.plot(epoch_list, history.history['loss'], label='Train Loss')\n",
        "ax2.plot(epoch_list, history.history['val_loss'], label='Validation Loss')\n",
        "ax2.set_xticks(np.arange(0, EPOCHS+1, 1))\n",
        "ax2.set_ylabel('Loss Value')\n",
        "ax2.set_xlabel('Epoch #')\n",
        "ax2.set_title('Loss')\n",
        "l2 = ax2.legend(loc=\"best\")"
      ],
      "execution_count": 12,
      "outputs": [
        {
          "output_type": "display_data",
          "data": {
            "image/png": "[encoded data removed]",
            "text/plain": [
              "<Figure size 1440x288 with 2 Axes>"
            ]
          },
          "metadata": {
            "tags": [],
            "needs_background": "light"
          }
        }
      ]
    },
    {
      "cell_type": "markdown",
      "metadata": {
        "id": "GSyUbKcWMWrB"
      },
      "source": [
        "# Prediction"
      ]
    },
    {
      "cell_type": "code",
      "metadata": {
        "id": "cwsjUXonudzY"
      },
      "source": [
        "# model = keras.models.load_model('Meso4VGG16 2021-01-16 0134.h5')"
      ],
      "execution_count": null,
      "outputs": []
    },
    {
      "cell_type": "markdown",
      "metadata": {
        "id": "rgnjCQe-MjLH"
      },
      "source": [
        "## Store into tf.data.Dataset"
      ]
    },
    {
      "cell_type": "code",
      "metadata": {
        "id": "VUP8SY_lMUdG",
        "colab": {
          "base_uri": "https://localhost:8080/"
        },
        "outputId": "0778262e-c444-4c20-eab9-6c34cccd1823"
      },
      "source": [
        "from tensorflow.keras.preprocessing import image_dataset_from_directory\r\n",
        "\r\n",
        "directory = os.path.join('deepfake_database', 'validation')\r\n",
        "image_format = '.jpg'\r\n",
        "\r\n",
        "test_dataset = image_dataset_from_directory(\r\n",
        "    directory,\r\n",
        "    labels=\"inferred\",\r\n",
        "    label_mode=\"binary\",\r\n",
        "    class_names=['df', 'real'],\r\n",
        "    color_mode=\"rgb\",\r\n",
        "    batch_size=BATCH_SIZE,\r\n",
        "    image_size=(SIZE, SIZE),\r\n",
        "    shuffle=False,\r\n",
        ")"
      ],
      "execution_count": 13,
      "outputs": [
        {
          "output_type": "stream",
          "text": [
            "Found 7104 files belonging to 2 classes.\n"
          ],
          "name": "stdout"
        }
      ]
    },
    {
      "cell_type": "markdown",
      "metadata": {
        "id": "oAqU-RLekwDI"
      },
      "source": [
        "## Make Prediction"
      ]
    },
    {
      "cell_type": "code",
      "metadata": {
        "id": "EYf9QXMNbkcB",
        "colab": {
          "base_uri": "https://localhost:8080/"
        },
        "outputId": "a140a764-98b2-49f5-fccc-22d1759e06b3"
      },
      "source": [
        "Y_pred = (model.predict(test_dataset, verbose=1) > 0.5).astype(\"int32\")"
      ],
      "execution_count": 14,
      "outputs": [
        {
          "output_type": "stream",
          "text": [
            "111/111 [==============================] - 27s 243ms/step\n"
          ],
          "name": "stdout"
        }
      ]
    },
    {
      "cell_type": "markdown",
      "metadata": {
        "id": "GUFjwc-Nk3ZR"
      },
      "source": [
        "### Read Original Labels"
      ]
    },
    {
      "cell_type": "code",
      "metadata": {
        "id": "sgCeGiX-ewNd"
      },
      "source": [
        "Y_test = []\r\n",
        "for img_array, label in (test_dataset.as_numpy_iterator()):\r\n",
        "    Y_test.append(label)"
      ],
      "execution_count": 15,
      "outputs": []
    },
    {
      "cell_type": "markdown",
      "metadata": {
        "id": "hy-gsprKk-u9"
      },
      "source": [
        "### Flatten Original and Prediction label arrays"
      ]
    },
    {
      "cell_type": "code",
      "metadata": {
        "id": "KBayYJHCtFsX"
      },
      "source": [
        "original_labels = []\r\n",
        "original_labels = list(np.concatenate(Y_test).flat)\r\n",
        "original_labels = np.array(original_labels)\r\n",
        "\r\n",
        "predicted_labels = []\r\n",
        "predicted_labels = list(np.concatenate(Y_pred).flat)\r\n",
        "predicted_labels = np.array(predicted_labels)"
      ],
      "execution_count": 16,
      "outputs": []
    },
    {
      "cell_type": "markdown",
      "metadata": {
        "id": "fnPxkC2timnb"
      },
      "source": [
        "## Classification Report"
      ]
    },
    {
      "cell_type": "code",
      "metadata": {
        "id": "VKztxwp4ibct",
        "colab": {
          "base_uri": "https://localhost:8080/"
        },
        "outputId": "9613a119-53fb-4aab-fc14-4e11d32fcbcd"
      },
      "source": [
        "from sklearn.metrics import classification_report\n",
        "classificationReport = classification_report(original_labels, predicted_labels, target_names=test_dataset.class_names)\n",
        "print(classificationReport)"
      ],
      "execution_count": 17,
      "outputs": [
        {
          "output_type": "stream",
          "text": [
            "              precision    recall  f1-score   support\n",
            "\n",
            "          df       0.83      0.94      0.89      2845\n",
            "        real       0.96      0.88      0.91      4259\n",
            "\n",
            "    accuracy                           0.90      7104\n",
            "   macro avg       0.90      0.91      0.90      7104\n",
            "weighted avg       0.91      0.90      0.90      7104\n",
            "\n"
          ],
          "name": "stdout"
        }
      ]
    },
    {
      "cell_type": "markdown",
      "metadata": {
        "id": "lZI6-stDS_ol"
      },
      "source": [
        "## Confusion Matrix"
      ]
    },
    {
      "cell_type": "code",
      "metadata": {
        "id": "_l-PorZI3DoB",
        "colab": {
          "base_uri": "https://localhost:8080/",
          "height": 402
        },
        "outputId": "e53b6153-5057-498b-e48a-f8a2d23cf1d1"
      },
      "source": [
        "#Output confusion matrix\n",
        "from sklearn.metrics import confusion_matrix\n",
        "import pandas as pd\n",
        "import seaborn as sn\n",
        "import matplotlib.pyplot as plt\n",
        "\n",
        "def print_confusion_matrix(y_true, y_pred):\n",
        "    cm = confusion_matrix(y_true, y_pred)\n",
        "    print('True positive = ', cm[0][0])\n",
        "    print('False positive = ', cm[0][1])\n",
        "    print('False negative = ', cm[1][0])\n",
        "    print('True negative = ', cm[1][1])\n",
        "    print('\\n')\n",
        "    df_cm = pd.DataFrame(cm, range(2), range(2))\n",
        "    sn.set(font_scale=1.4) # for label size\n",
        "    sn.heatmap(df_cm, annot=True, annot_kws={\"size\": 16}, cmap=\"YlGnBu\") # font size\n",
        "    plt.ylabel('Actual label', size = 20)\n",
        "    plt.xlabel('Predicted label', size = 20)\n",
        "    plt.xticks(np.arange(2), test_dataset.class_names, size = 16)\n",
        "    plt.yticks(np.arange(2), test_dataset.class_names, size = 16)\n",
        "    plt.ylim([2, 0])\n",
        "    plt.show()\n",
        "    return cm\n",
        "    \n",
        "confusionMatrix = print_confusion_matrix(original_labels, predicted_labels)"
      ],
      "execution_count": 18,
      "outputs": [
        {
          "output_type": "stream",
          "text": [
            "True positive =  2683\n",
            "False positive =  162\n",
            "False negative =  532\n",
            "True negative =  3727\n",
            "\n",
            "\n"
          ],
          "name": "stdout"
        },
        {
          "output_type": "display_data",
          "data": {
            "image/png": "[encoded data removed]",
            "text/plain": [
              "<Figure size 432x288 with 2 Axes>"
            ]
          },
          "metadata": {
            "tags": []
          }
        }
      ]
    },
    {
      "cell_type": "markdown",
      "metadata": {
        "id": "Go_uGCTqU5XR"
      },
      "source": [
        "# Write to File"
      ]
    },
    {
      "cell_type": "code",
      "metadata": {
        "id": "9W4SCXEZU7SB"
      },
      "source": [
        "import os\r\n",
        "\r\n",
        "tp = str('True positive = '+ str(confusionMatrix[0][0]) + '\\n')\r\n",
        "fp = str('False positive = '+ str(confusionMatrix[0][1]) + '\\n')\r\n",
        "fn = str('False negative = '+ str(confusionMatrix[1][0]) + '\\n')\r\n",
        "tn = str('True negative = '+ str(confusionMatrix[1][1]) + '\\n')\r\n",
        "\r\n",
        "data = (\r\n",
        "    'Model Name: ' + str(modelName) + '\\n' +\r\n",
        "    'Batch Size: ' + str(BATCH_SIZE) + '\\n' +\r\n",
        "    'Image Size: ' + str(SIZE) + '\\n' +\r\n",
        "    'Epochs: ' + str(EPOCHS) + '\\n' +\r\n",
        "    '===================================================== \\n\\n' +\r\n",
        "    str(classificationReport) + '\\n' + str(tp + fp + fn + tn)\r\n",
        ")\r\n",
        "\r\n",
        "from datetime import datetime \r\n",
        "import pytz \r\n",
        "  \r\n",
        "# get the standard UTC time  \r\n",
        "UTC = pytz.utc \r\n",
        "  \r\n",
        "# it will get the time zone  \r\n",
        "# of the specified location \r\n",
        "IST = pytz.timezone('Asia/Kolkata') \r\n",
        "  \r\n",
        "datetime_ist = datetime.now(IST) \r\n",
        "filename = ('Report ' + datetime_ist.strftime('%Y-%m-%d %H%M') + ' ' + modelName + '.txt')\r\n",
        "\r\n",
        "myFile = open(filename, 'w')\r\n",
        "myFile.write(data)\r\n",
        "myFile.close()\r\n",
        "\r\n",
        "model.save(modelName + ' ' + datetime_ist.strftime('%Y-%m-%d %H%M') + '.h5')"
      ],
      "execution_count": 19,
      "outputs": []
    },
    {
      "cell_type": "code",
      "metadata": {
        "id": "zvhQukiisK6w"
      },
      "source": [
        "'''\r\n",
        "from tensorflow import keras\r\n",
        "\r\n",
        "loaded_model = keras.models.load_model('Meso4VGG16 2021-01-16 0134.h5')\r\n",
        "loaded_model.summary()\r\n",
        "'''"
      ],
      "execution_count": null,
      "outputs": []
    }
  ]
}