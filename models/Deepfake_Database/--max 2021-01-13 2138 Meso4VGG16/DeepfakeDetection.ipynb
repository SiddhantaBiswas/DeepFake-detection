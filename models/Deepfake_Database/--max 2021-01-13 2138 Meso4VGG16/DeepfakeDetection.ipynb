{
  "nbformat": 4,
  "nbformat_minor": 0,
  "metadata": {
    "accelerator": "GPU",
    "colab": {
      "name": "DeepfakeDetection.ipynb",
      "provenance": [],
      "collapsed_sections": [],
      "toc_visible": true
    },
    "kernelspec": {
      "display_name": "Python 3",
      "name": "python3"
    }
  },
  "cells": [
    {
      "cell_type": "markdown",
      "metadata": {
        "id": "GMORKBUzCvVi"
      },
      "source": [
        "# Drive Mount"
      ]
    },
    {
      "cell_type": "code",
      "metadata": {
        "colab": {
          "base_uri": "https://localhost:8080/"
        },
        "id": "eEgqKYL6RwWG",
        "outputId": "ffa0ac42-29da-4352-9d86-bbd0d9db9576"
      },
      "source": [
        "\r\n",
        "from google.colab import drive\r\n",
        "drive.mount('/content/drive')\r\n",
        "\r\n",
        "dataset = \"/content/drive/My Drive/Thesis/deepfake-detection-master/deepfake_database.zip\"\r\n"
      ],
      "execution_count": 1,
      "outputs": [
        {
          "output_type": "stream",
          "text": [
            "Drive already mounted at /content/drive; to attempt to forcibly remount, call drive.mount(\"/content/drive\", force_remount=True).\n"
          ],
          "name": "stdout"
        }
      ]
    },
    {
      "cell_type": "markdown",
      "metadata": {
        "id": "vZzkKFyDSLjQ"
      },
      "source": [
        "## Extract dataset"
      ]
    },
    {
      "cell_type": "code",
      "metadata": {
        "id": "n74vJZ9TSM6o"
      },
      "source": [
        "%%capture\r\n",
        "!unzip -o \"/content/drive/My Drive/Thesis/deepfake-detection-master/deepfake_database.zip\" -d /content/"
      ],
      "execution_count": 2,
      "outputs": []
    },
    {
      "cell_type": "markdown",
      "metadata": {
        "id": "mL5YWlcaRUmV"
      },
      "source": [
        "# Preprocessing"
      ]
    },
    {
      "cell_type": "markdown",
      "metadata": {
        "id": "2IzxfOtWRXh_"
      },
      "source": [
        "## Folder Paths"
      ]
    },
    {
      "cell_type": "code",
      "metadata": {
        "id": "swQ3QKBB3Dnm"
      },
      "source": [
        "import os\n",
        "#directory = \"Desktop/Thesis/datasets/deepfake_database/deepfake_database/deepfake_database/train_test\"\n",
        "directory = os.path.join('deepfake_database', 'train_test')\n",
        "image_format = '.jpg'"
      ],
      "execution_count": 3,
      "outputs": []
    },
    {
      "cell_type": "markdown",
      "metadata": {
        "id": "UyLM4ImV_OGT"
      },
      "source": [
        "## Data Params"
      ]
    },
    {
      "cell_type": "code",
      "metadata": {
        "id": "tflJn6S__MzJ"
      },
      "source": [
        "BATCH_SIZE = 75\r\n",
        "SIZE = 256"
      ],
      "execution_count": 4,
      "outputs": []
    },
    {
      "cell_type": "markdown",
      "metadata": {
        "id": "gI_DMsLa8lql"
      },
      "source": [
        "## Store into tf.data.Dataset"
      ]
    },
    {
      "cell_type": "code",
      "metadata": {
        "colab": {
          "base_uri": "https://localhost:8080/"
        },
        "id": "1VpZ8EXzc1Gy",
        "outputId": "9c6e79f9-c249-4ed8-caa3-7262e089f114"
      },
      "source": [
        "from tensorflow.keras.preprocessing import image_dataset_from_directory\r\n",
        "\r\n",
        "training_dataset = image_dataset_from_directory(\r\n",
        "    directory,\r\n",
        "    labels=\"inferred\",\r\n",
        "    label_mode=\"binary\",\r\n",
        "    class_names=['df', 'real'],\r\n",
        "    color_mode=\"rgb\",\r\n",
        "    batch_size=BATCH_SIZE,\r\n",
        "    image_size=(SIZE, SIZE),\r\n",
        "    shuffle=True,\r\n",
        "    seed=123,\r\n",
        "    validation_split=0.3,\r\n",
        "    subset=\"training\",\r\n",
        "    interpolation=\"bilinear\",\r\n",
        ")\r\n",
        "\r\n",
        "validation_dataset = image_dataset_from_directory(\r\n",
        "    directory,\r\n",
        "    labels=\"inferred\",\r\n",
        "    label_mode=\"binary\",\r\n",
        "    class_names=['df', 'real'],\r\n",
        "    color_mode=\"rgb\",\r\n",
        "    batch_size=BATCH_SIZE,\r\n",
        "    image_size=(SIZE, SIZE),\r\n",
        "    shuffle=True,\r\n",
        "    seed=123,\r\n",
        "    validation_split=0.3,\r\n",
        "    subset=\"validation\",\r\n",
        "    interpolation=\"bilinear\",\r\n",
        ")"
      ],
      "execution_count": 5,
      "outputs": [
        {
          "output_type": "stream",
          "text": [
            "Found 12353 files belonging to 2 classes.\n",
            "Using 8648 files for training.\n",
            "Found 12353 files belonging to 2 classes.\n",
            "Using 3705 files for validation.\n"
          ],
          "name": "stdout"
        }
      ]
    },
    {
      "cell_type": "markdown",
      "metadata": {
        "id": "GoKLp9K-8y5h"
      },
      "source": [
        "# Model"
      ]
    },
    {
      "cell_type": "markdown",
      "metadata": {
        "id": "a1gIgLtx9E6R"
      },
      "source": [
        "## Model Params"
      ]
    },
    {
      "cell_type": "code",
      "metadata": {
        "id": "SvKbFuWL12jf",
        "colab": {
          "base_uri": "https://localhost:8080/"
        },
        "outputId": "600ac23a-eeb1-4730-fbd3-a40328838a08"
      },
      "source": [
        "input_shape = (SIZE, SIZE, 3)\n",
        "learning_rate = 0.001\n",
        "dl_rate = 1\n",
        "EPOCHS = 50\n",
        "ITERATIONS = len(training_dataset) * EPOCHS\n",
        "print(ITERATIONS)"
      ],
      "execution_count": 6,
      "outputs": [
        {
          "output_type": "stream",
          "text": [
            "5800\n"
          ],
          "name": "stdout"
        }
      ]
    },
    {
      "cell_type": "markdown",
      "metadata": {
        "id": "JQmxao2Y7lU0"
      },
      "source": [
        "## LR Decay"
      ]
    },
    {
      "cell_type": "code",
      "metadata": {
        "id": "KAqFOJ3i7n85",
        "colab": {
          "base_uri": "https://localhost:8080/",
          "height": 68
        },
        "outputId": "82994687-4a9f-4152-b7a0-4165efa94c9b"
      },
      "source": [
        "'''\r\n",
        "import tensorflow as tf\r\n",
        "from keras.optimizers.schedules import PiecewiseConstantDecay\r\n",
        "step = tf.Variable(0, trainable=False)\r\n",
        "boundaries = [1000, 1000, 1000]\r\n",
        "values = [0.001, 0.0001, 0.00001, 0.000001]\r\n",
        "learning_rate_fn = PiecewiseConstantDecay(boundaries, values)\r\n",
        "\r\n",
        "# Later, whenever we perform an optimization step, we pass in the step.\r\n",
        "learning_rate = learning_rate_fn(step)\r\n",
        "\r\n",
        "'''"
      ],
      "execution_count": 7,
      "outputs": [
        {
          "output_type": "execute_result",
          "data": {
            "application/vnd.google.colaboratory.intrinsic+json": {
              "type": "string"
            },
            "text/plain": [
              "'\\nimport tensorflow as tf\\nfrom keras.optimizers.schedules import PiecewiseConstantDecay\\nstep = tf.Variable(0, trainable=False)\\nboundaries = [1000, 1000, 1000]\\nvalues = [0.001, 0.0001, 0.00001, 0.000001]\\nlearning_rate_fn = PiecewiseConstantDecay(boundaries, values)\\n\\n# Later, whenever we perform an optimization step, we pass in the step.\\nlearning_rate = learning_rate_fn(step)\\n\\n'"
            ]
          },
          "metadata": {
            "tags": []
          },
          "execution_count": 7
        }
      ]
    },
    {
      "cell_type": "code",
      "metadata": {
        "id": "gEIpLlfDAQV3"
      },
      "source": [
        "# This function keeps the initial learning rate for the first ten epochs  \r\n",
        "# and decreases it exponentially after that.  \r\n",
        "def scheduler(epoch, lr):\r\n",
        "    print(\"{0:.8f}\".format(lr))\r\n",
        "    if epoch < 20:\r\n",
        "        return 0.001 # lr = 0.001\r\n",
        "    elif epoch >= 20 and epoch < 30:\r\n",
        "        return 0.001 # lr = 0.00001\r\n",
        "    elif epoch >= 30 and epoch < 40:\r\n",
        "        return 0.0001 # lr = 0.00001\r\n",
        "    elif epoch >= 40:\r\n",
        "        return 0.0001 # lr = 0.000001"
      ],
      "execution_count": 8,
      "outputs": []
    },
    {
      "cell_type": "markdown",
      "metadata": {
        "id": "zrFN4dtH_KE0"
      },
      "source": [
        "## Custom Callback"
      ]
    },
    {
      "cell_type": "markdown",
      "metadata": {
        "id": "VJ3ZUFXa9HOI"
      },
      "source": [
        "## Compile Model"
      ]
    },
    {
      "cell_type": "code",
      "metadata": {
        "colab": {
          "base_uri": "https://localhost:8080/"
        },
        "id": "7KtJAfOWjQm2",
        "outputId": "64ef633f-5352-4876-8d9e-e60677b0bc74"
      },
      "source": [
        "from keras.models import Model as KerasModel\n",
        "from keras.models import Sequential\n",
        "from keras.layers import Input, Dense, Flatten, Conv2D, MaxPooling2D, BatchNormalization, Dropout, Reshape, Concatenate, LeakyReLU\n",
        "from keras.optimizers import Adam\n",
        "\n",
        "%run -i 'classifiers.py'\n",
        "\n",
        "model, modelName = Meso4VGG16(input_shape)\n",
        "optimizer = Adam(lr = learning_rate)\n",
        "model.compile(optimizer = optimizer, loss = 'mean_squared_error', metrics = ['accuracy'])\n",
        "# round(model.optimizer.lr.numpy(), 5)\n",
        "# model.summary()\n",
        "print(modelName)"
      ],
      "execution_count": 10,
      "outputs": [
        {
          "output_type": "stream",
          "text": [
            "Meso4VGG16\n"
          ],
          "name": "stdout"
        }
      ]
    },
    {
      "cell_type": "markdown",
      "metadata": {
        "id": "ndb3w9pB9LB2"
      },
      "source": [
        "# Training"
      ]
    },
    {
      "cell_type": "markdown",
      "metadata": {
        "id": "1yAJ1a-e9djn"
      },
      "source": [
        "## Fit Model"
      ]
    },
    {
      "cell_type": "code",
      "metadata": {
        "colab": {
          "base_uri": "https://localhost:8080/"
        },
        "id": "-8Fwh4Gx12j7",
        "outputId": "14d59ae9-3513-43c5-b640-0467574efebf"
      },
      "source": [
        "from tensorflow import keras\n",
        "import keras.backend as K\n",
        "\n",
        "callback = keras.callbacks.LearningRateScheduler(scheduler)\n",
        "\n",
        "history = model.fit(training_dataset, epochs=EPOCHS, validation_data=validation_dataset, verbose = 1, callbacks=[callback])\n",
        "round(model.optimizer.lr.numpy(), 5)\n"
      ],
      "execution_count": 12,
      "outputs": [
        {
          "output_type": "stream",
          "text": [
            "Epoch 1/50\n",
            "0.00100000\n",
            "116/116 [==============================] - 35s 265ms/step - loss: 0.2545 - accuracy: 0.6212 - val_loss: 0.2792 - val_accuracy: 0.4524\n",
            "Epoch 2/50\n",
            "0.00100000\n",
            "116/116 [==============================] - 30s 256ms/step - loss: 0.1556 - accuracy: 0.7951 - val_loss: 0.3264 - val_accuracy: 0.5900\n",
            "Epoch 3/50\n",
            "0.00100000\n",
            "116/116 [==============================] - 31s 257ms/step - loss: 0.1415 - accuracy: 0.8165 - val_loss: 0.4093 - val_accuracy: 0.5463\n",
            "Epoch 4/50\n",
            "0.00100000\n",
            "116/116 [==============================] - 30s 257ms/step - loss: 0.1198 - accuracy: 0.8477 - val_loss: 0.1042 - val_accuracy: 0.8653\n",
            "Epoch 5/50\n",
            "0.00100000\n",
            "116/116 [==============================] - 30s 257ms/step - loss: 0.0870 - accuracy: 0.8877 - val_loss: 0.1712 - val_accuracy: 0.8043\n",
            "Epoch 6/50\n",
            "0.00100000\n",
            "116/116 [==============================] - 30s 257ms/step - loss: 0.0889 - accuracy: 0.8895 - val_loss: 0.2817 - val_accuracy: 0.6947\n",
            "Epoch 7/50\n",
            "0.00100000\n",
            "116/116 [==============================] - 30s 256ms/step - loss: 0.0599 - accuracy: 0.9232 - val_loss: 0.1488 - val_accuracy: 0.7833\n",
            "Epoch 8/50\n",
            "0.00100000\n",
            "116/116 [==============================] - 30s 256ms/step - loss: 0.0736 - accuracy: 0.9022 - val_loss: 0.1541 - val_accuracy: 0.8116\n",
            "Epoch 9/50\n",
            "0.00100000\n",
            "116/116 [==============================] - 30s 256ms/step - loss: 0.0492 - accuracy: 0.9384 - val_loss: 0.1014 - val_accuracy: 0.8537\n",
            "Epoch 10/50\n",
            "0.00100000\n",
            "116/116 [==============================] - 30s 256ms/step - loss: 0.0460 - accuracy: 0.9423 - val_loss: 0.2728 - val_accuracy: 0.7090\n",
            "Epoch 11/50\n",
            "0.00100000\n",
            "116/116 [==============================] - 30s 255ms/step - loss: 0.0732 - accuracy: 0.9076 - val_loss: 0.1223 - val_accuracy: 0.8402\n",
            "Epoch 12/50\n",
            "0.00100000\n",
            "116/116 [==============================] - 30s 256ms/step - loss: 0.0374 - accuracy: 0.9532 - val_loss: 0.0816 - val_accuracy: 0.8947\n",
            "Epoch 13/50\n",
            "0.00100000\n",
            "116/116 [==============================] - 30s 257ms/step - loss: 0.0423 - accuracy: 0.9463 - val_loss: 0.0789 - val_accuracy: 0.8823\n",
            "Epoch 14/50\n",
            "0.00100000\n",
            "116/116 [==============================] - 30s 255ms/step - loss: 0.0304 - accuracy: 0.9598 - val_loss: 0.1877 - val_accuracy: 0.7784\n",
            "Epoch 15/50\n",
            "0.00100000\n",
            "116/116 [==============================] - 30s 255ms/step - loss: 0.0344 - accuracy: 0.9601 - val_loss: 0.0381 - val_accuracy: 0.9493\n",
            "Epoch 16/50\n",
            "0.00100000\n",
            "116/116 [==============================] - 30s 255ms/step - loss: 0.0333 - accuracy: 0.9597 - val_loss: 0.0397 - val_accuracy: 0.9503\n",
            "Epoch 17/50\n",
            "0.00100000\n",
            "116/116 [==============================] - 30s 255ms/step - loss: 0.0228 - accuracy: 0.9735 - val_loss: 0.0386 - val_accuracy: 0.9552\n",
            "Epoch 18/50\n",
            "0.00100000\n",
            "116/116 [==============================] - 30s 255ms/step - loss: 0.0322 - accuracy: 0.9632 - val_loss: 0.1330 - val_accuracy: 0.8575\n",
            "Epoch 19/50\n",
            "0.00100000\n",
            "116/116 [==============================] - 30s 254ms/step - loss: 0.0275 - accuracy: 0.9636 - val_loss: 0.0356 - val_accuracy: 0.9555\n",
            "Epoch 20/50\n",
            "0.00100000\n",
            "116/116 [==============================] - 30s 257ms/step - loss: 0.0265 - accuracy: 0.9670 - val_loss: 0.1151 - val_accuracy: 0.8737\n",
            "Epoch 21/50\n",
            "0.00100000\n",
            "116/116 [==============================] - 30s 255ms/step - loss: 0.0597 - accuracy: 0.9301 - val_loss: 0.0361 - val_accuracy: 0.9571\n",
            "Epoch 22/50\n",
            "0.00100000\n",
            "116/116 [==============================] - 30s 255ms/step - loss: 0.0277 - accuracy: 0.9657 - val_loss: 0.0633 - val_accuracy: 0.9169\n",
            "Epoch 23/50\n",
            "0.00100000\n",
            "116/116 [==============================] - 31s 257ms/step - loss: 0.0214 - accuracy: 0.9738 - val_loss: 0.0215 - val_accuracy: 0.9735\n",
            "Epoch 24/50\n",
            "0.00100000\n",
            "116/116 [==============================] - 30s 255ms/step - loss: 0.0143 - accuracy: 0.9835 - val_loss: 0.0464 - val_accuracy: 0.9466\n",
            "Epoch 25/50\n",
            "0.00100000\n",
            "116/116 [==============================] - 30s 255ms/step - loss: 0.0216 - accuracy: 0.9739 - val_loss: 0.0479 - val_accuracy: 0.9436\n",
            "Epoch 26/50\n",
            "0.00100000\n",
            "116/116 [==============================] - 30s 255ms/step - loss: 0.0146 - accuracy: 0.9822 - val_loss: 0.0269 - val_accuracy: 0.9676\n",
            "Epoch 27/50\n",
            "0.00100000\n",
            "116/116 [==============================] - 30s 254ms/step - loss: 0.0135 - accuracy: 0.9827 - val_loss: 0.0510 - val_accuracy: 0.9425\n",
            "Epoch 28/50\n",
            "0.00100000\n",
            "116/116 [==============================] - 30s 256ms/step - loss: 0.0158 - accuracy: 0.9811 - val_loss: 0.1160 - val_accuracy: 0.8704\n",
            "Epoch 29/50\n",
            "0.00100000\n",
            "116/116 [==============================] - 30s 255ms/step - loss: 0.0160 - accuracy: 0.9809 - val_loss: 0.0256 - val_accuracy: 0.9684\n",
            "Epoch 30/50\n",
            "0.00100000\n",
            "116/116 [==============================] - 30s 256ms/step - loss: 0.0149 - accuracy: 0.9829 - val_loss: 0.1283 - val_accuracy: 0.8610\n",
            "Epoch 31/50\n",
            "0.00100000\n",
            "116/116 [==============================] - 30s 256ms/step - loss: 0.0155 - accuracy: 0.9789 - val_loss: 0.0210 - val_accuracy: 0.9760\n",
            "Epoch 32/50\n",
            "0.00010000\n",
            "116/116 [==============================] - 30s 256ms/step - loss: 0.0090 - accuracy: 0.9875 - val_loss: 0.0180 - val_accuracy: 0.9800\n",
            "Epoch 33/50\n",
            "0.00010000\n",
            "116/116 [==============================] - 30s 256ms/step - loss: 0.0083 - accuracy: 0.9893 - val_loss: 0.0162 - val_accuracy: 0.9811\n",
            "Epoch 34/50\n",
            "0.00010000\n",
            "116/116 [==============================] - 30s 256ms/step - loss: 0.0052 - accuracy: 0.9943 - val_loss: 0.0147 - val_accuracy: 0.9833\n",
            "Epoch 35/50\n",
            "0.00010000\n",
            "116/116 [==============================] - 30s 255ms/step - loss: 0.0058 - accuracy: 0.9936 - val_loss: 0.0160 - val_accuracy: 0.9816\n",
            "Epoch 36/50\n",
            "0.00010000\n",
            "116/116 [==============================] - 30s 256ms/step - loss: 0.0045 - accuracy: 0.9948 - val_loss: 0.0134 - val_accuracy: 0.9846\n",
            "Epoch 37/50\n",
            "0.00010000\n",
            "116/116 [==============================] - 30s 254ms/step - loss: 0.0054 - accuracy: 0.9941 - val_loss: 0.0171 - val_accuracy: 0.9803\n",
            "Epoch 38/50\n",
            "0.00010000\n",
            "116/116 [==============================] - 30s 255ms/step - loss: 0.0042 - accuracy: 0.9952 - val_loss: 0.0141 - val_accuracy: 0.9822\n",
            "Epoch 39/50\n",
            "0.00010000\n",
            "116/116 [==============================] - 30s 255ms/step - loss: 0.0039 - accuracy: 0.9960 - val_loss: 0.0144 - val_accuracy: 0.9825\n",
            "Epoch 40/50\n",
            "0.00010000\n",
            "116/116 [==============================] - 30s 256ms/step - loss: 0.0036 - accuracy: 0.9965 - val_loss: 0.0132 - val_accuracy: 0.9838\n",
            "Epoch 41/50\n",
            "0.00010000\n",
            "116/116 [==============================] - 30s 255ms/step - loss: 0.0045 - accuracy: 0.9945 - val_loss: 0.0136 - val_accuracy: 0.9854\n",
            "Epoch 42/50\n",
            "0.00010000\n",
            "116/116 [==============================] - 30s 255ms/step - loss: 0.0034 - accuracy: 0.9967 - val_loss: 0.0138 - val_accuracy: 0.9854\n",
            "Epoch 43/50\n",
            "0.00010000\n",
            "116/116 [==============================] - 30s 254ms/step - loss: 0.0033 - accuracy: 0.9966 - val_loss: 0.0129 - val_accuracy: 0.9854\n",
            "Epoch 44/50\n",
            "0.00010000\n",
            "116/116 [==============================] - 31s 258ms/step - loss: 0.0029 - accuracy: 0.9969 - val_loss: 0.0140 - val_accuracy: 0.9822\n",
            "Epoch 45/50\n",
            "0.00010000\n",
            "116/116 [==============================] - 30s 254ms/step - loss: 0.0025 - accuracy: 0.9974 - val_loss: 0.0151 - val_accuracy: 0.9819\n",
            "Epoch 46/50\n",
            "0.00010000\n",
            "116/116 [==============================] - 30s 255ms/step - loss: 0.0029 - accuracy: 0.9968 - val_loss: 0.0126 - val_accuracy: 0.9865\n",
            "Epoch 47/50\n",
            "0.00010000\n",
            "116/116 [==============================] - 30s 254ms/step - loss: 0.0020 - accuracy: 0.9981 - val_loss: 0.0124 - val_accuracy: 0.9852\n",
            "Epoch 48/50\n",
            "0.00010000\n",
            "116/116 [==============================] - 30s 254ms/step - loss: 0.0018 - accuracy: 0.9982 - val_loss: 0.0124 - val_accuracy: 0.9849\n",
            "Epoch 49/50\n",
            "0.00010000\n",
            "116/116 [==============================] - 30s 255ms/step - loss: 0.0029 - accuracy: 0.9968 - val_loss: 0.0118 - val_accuracy: 0.9868\n",
            "Epoch 50/50\n",
            "0.00010000\n",
            "116/116 [==============================] - 30s 255ms/step - loss: 0.0018 - accuracy: 0.9982 - val_loss: 0.0136 - val_accuracy: 0.9827\n"
          ],
          "name": "stdout"
        }
      ]
    },
    {
      "cell_type": "markdown",
      "metadata": {
        "id": "Vafzh39d9VZ2"
      },
      "source": [
        "## Training and Validation Graphs"
      ]
    },
    {
      "cell_type": "code",
      "metadata": {
        "colab": {
          "base_uri": "https://localhost:8080/",
          "height": 308
        },
        "id": "JmIarIkj3Dn8",
        "outputId": "8bcbec14-f34e-44a4-f683-c0d63a3826fa"
      },
      "source": [
        "import matplotlib.pyplot as plt\n",
        "import numpy as np\n",
        "\n",
        "f, (ax1, ax2) = plt.subplots(1, 2, figsize=(20, 4))\n",
        "t = f.suptitle('Training and Validation Performance for ' + modelName, fontsize=12)\n",
        "f.subplots_adjust(top=0.85, wspace=0.3)\n",
        "\n",
        "epoch_list = list(range(1,EPOCHS+1))\n",
        "ax1.plot(epoch_list, history.history['accuracy'], label='Train Accuracy')\n",
        "ax1.plot(epoch_list, history.history['val_accuracy'], label='Validation Accuracy')\n",
        "ax1.set_xticks(np.arange(0, EPOCHS+1, 1))\n",
        "ax1.set_ylabel('Accuracy Value')\n",
        "ax1.set_xlabel('Epoch #')\n",
        "ax1.set_title('Accuracy')\n",
        "l1 = ax1.legend(loc=\"best\")\n",
        "\n",
        "ax2.plot(epoch_list, history.history['loss'], label='Train Loss')\n",
        "ax2.plot(epoch_list, history.history['val_loss'], label='Validation Loss')\n",
        "ax2.set_xticks(np.arange(0, EPOCHS+1, 1))\n",
        "ax2.set_ylabel('Loss Value')\n",
        "ax2.set_xlabel('Epoch #')\n",
        "ax2.set_title('Loss')\n",
        "l2 = ax2.legend(loc=\"best\")"
      ],
      "execution_count": 13,
      "outputs": [
        {
          "output_type": "display_data",
          "data": {
            "image/png": "[encoded data removed]",
            "text/plain": [
              "<Figure size 1440x288 with 2 Axes>"
            ]
          },
          "metadata": {
            "tags": [],
            "needs_background": "light"
          }
        }
      ]
    },
    {
      "cell_type": "markdown",
      "metadata": {
        "id": "GSyUbKcWMWrB"
      },
      "source": [
        "# Prediction"
      ]
    },
    {
      "cell_type": "markdown",
      "metadata": {
        "id": "HuYpoWhHb7Kc"
      },
      "source": [
        "## Folder Paths"
      ]
    },
    {
      "cell_type": "code",
      "metadata": {
        "id": "fipmUqa-b7Kh"
      },
      "source": [
        "import os\n",
        "directory = os.path.join('deepfake_database', 'validation')\n",
        "image_format = '.jpg'"
      ],
      "execution_count": 14,
      "outputs": []
    },
    {
      "cell_type": "markdown",
      "metadata": {
        "id": "rgnjCQe-MjLH"
      },
      "source": [
        "## Store into tf.data.Dataset"
      ]
    },
    {
      "cell_type": "code",
      "metadata": {
        "colab": {
          "base_uri": "https://localhost:8080/"
        },
        "id": "VUP8SY_lMUdG",
        "outputId": "ece5ffce-cca5-4402-d7f9-9c43d77ec2f4"
      },
      "source": [
        "from tensorflow.keras.preprocessing import image_dataset_from_directory\r\n",
        "\r\n",
        "BATCH_SIZE = 75\r\n",
        "\r\n",
        "test_dataset = image_dataset_from_directory(\r\n",
        "    directory,\r\n",
        "    labels=\"inferred\",\r\n",
        "    label_mode=\"binary\",\r\n",
        "    class_names=['df', 'real'],\r\n",
        "    color_mode=\"rgb\",\r\n",
        "    batch_size=BATCH_SIZE,\r\n",
        "    image_size=(SIZE, SIZE),\r\n",
        "    shuffle=False,\r\n",
        "    interpolation=\"bilinear\",\r\n",
        ")"
      ],
      "execution_count": 15,
      "outputs": [
        {
          "output_type": "stream",
          "text": [
            "Found 7104 files belonging to 2 classes.\n"
          ],
          "name": "stdout"
        }
      ]
    },
    {
      "cell_type": "markdown",
      "metadata": {
        "id": "oAqU-RLekwDI"
      },
      "source": [
        "## Make Prediction"
      ]
    },
    {
      "cell_type": "code",
      "metadata": {
        "colab": {
          "base_uri": "https://localhost:8080/"
        },
        "id": "EYf9QXMNbkcB",
        "outputId": "e5948333-51a4-4970-bfea-5d35474486a4"
      },
      "source": [
        "import numpy as np\r\n",
        "Y_pred = (model.predict(test_dataset, verbose=1) > 0.5).astype(\"int32\")"
      ],
      "execution_count": 16,
      "outputs": [
        {
          "output_type": "stream",
          "text": [
            "95/95 [==============================] - 13s 139ms/step\n"
          ],
          "name": "stdout"
        }
      ]
    },
    {
      "cell_type": "markdown",
      "metadata": {
        "id": "GUFjwc-Nk3ZR"
      },
      "source": [
        "## Read Original Labels"
      ]
    },
    {
      "cell_type": "code",
      "metadata": {
        "id": "sgCeGiX-ewNd"
      },
      "source": [
        "Y_test = []\r\n",
        "for img_array, label in (test_dataset.as_numpy_iterator()):\r\n",
        "    Y_test.append(label)"
      ],
      "execution_count": 17,
      "outputs": []
    },
    {
      "cell_type": "markdown",
      "metadata": {
        "id": "hy-gsprKk-u9"
      },
      "source": [
        "## Flatten Original and Prediction label arrays"
      ]
    },
    {
      "cell_type": "code",
      "metadata": {
        "id": "KBayYJHCtFsX"
      },
      "source": [
        "import numpy as np\r\n",
        "\r\n",
        "original_labels = []\r\n",
        "original_labels = list(np.concatenate(Y_test).flat)\r\n",
        "original_labels = np.array(original_labels)\r\n",
        "\r\n",
        "predicted_labels = []\r\n",
        "predicted_labels = list(np.concatenate(Y_pred).flat)\r\n",
        "predicted_labels = np.array(predicted_labels)"
      ],
      "execution_count": 18,
      "outputs": []
    },
    {
      "cell_type": "markdown",
      "metadata": {
        "id": "fnPxkC2timnb"
      },
      "source": [
        "## Classification Report"
      ]
    },
    {
      "cell_type": "code",
      "metadata": {
        "id": "VKztxwp4ibct",
        "colab": {
          "base_uri": "https://localhost:8080/"
        },
        "outputId": "72eebdf6-c2ef-4435-bfea-6081cf0e2f8a"
      },
      "source": [
        "from sklearn.metrics import classification_report\n",
        "classificationReport = classification_report(original_labels, predicted_labels, target_names=test_dataset.class_names)\n",
        "print(classificationReport)"
      ],
      "execution_count": 21,
      "outputs": [
        {
          "output_type": "stream",
          "text": [
            "              precision    recall  f1-score   support\n",
            "\n",
            "          df       0.87      0.93      0.90      2845\n",
            "        real       0.95      0.90      0.93      4259\n",
            "\n",
            "    accuracy                           0.92      7104\n",
            "   macro avg       0.91      0.92      0.91      7104\n",
            "weighted avg       0.92      0.92      0.92      7104\n",
            "\n"
          ],
          "name": "stdout"
        }
      ]
    },
    {
      "cell_type": "markdown",
      "metadata": {
        "id": "lZI6-stDS_ol"
      },
      "source": [
        "## Confusion Matrix"
      ]
    },
    {
      "cell_type": "code",
      "metadata": {
        "id": "_l-PorZI3DoB",
        "colab": {
          "base_uri": "https://localhost:8080/",
          "height": 402
        },
        "outputId": "fd08ea35-6d6b-40bd-90f9-0697bc53245b"
      },
      "source": [
        "#Output confusion matrix\n",
        "from sklearn.metrics import confusion_matrix\n",
        "import pandas as pd\n",
        "import seaborn as sn\n",
        "import matplotlib.pyplot as plt\n",
        "\n",
        "def print_confusion_matrix(y_true, y_pred):\n",
        "    cm = confusion_matrix(y_true, y_pred)\n",
        "    print('True positive = ', cm[0][0])\n",
        "    print('False positive = ', cm[0][1])\n",
        "    print('False negative = ', cm[1][0])\n",
        "    print('True negative = ', cm[1][1])\n",
        "    print('\\n')\n",
        "    df_cm = pd.DataFrame(cm, range(2), range(2))\n",
        "    sn.set(font_scale=1.4) # for label size\n",
        "    sn.heatmap(df_cm, annot=True, annot_kws={\"size\": 16}, cmap=\"YlGnBu\") # font size\n",
        "    plt.ylabel('Actual label', size = 20)\n",
        "    plt.xlabel('Predicted label', size = 20)\n",
        "    plt.xticks(np.arange(2), test_dataset.class_names, size = 16)\n",
        "    plt.yticks(np.arange(2), test_dataset.class_names, size = 16)\n",
        "    plt.ylim([2, 0])\n",
        "    plt.show()\n",
        "    return cm\n",
        "    \n",
        "confusionMatrix = print_confusion_matrix(original_labels, predicted_labels)"
      ],
      "execution_count": 22,
      "outputs": [
        {
          "output_type": "stream",
          "text": [
            "True positive =  2654\n",
            "False positive =  191\n",
            "False negative =  409\n",
            "True negative =  3850\n",
            "\n",
            "\n"
          ],
          "name": "stdout"
        },
        {
          "output_type": "display_data",
          "data": {
            "image/png": "[encoded data removed]",
            "text/plain": [
              "<Figure size 432x288 with 2 Axes>"
            ]
          },
          "metadata": {
            "tags": []
          }
        }
      ]
    },
    {
      "cell_type": "markdown",
      "metadata": {
        "id": "Go_uGCTqU5XR"
      },
      "source": [
        "# Write to File"
      ]
    },
    {
      "cell_type": "code",
      "metadata": {
        "id": "9W4SCXEZU7SB"
      },
      "source": [
        "import os\r\n",
        "\r\n",
        "tp = str('True positive = '+ str(confusionMatrix[0][0]) + '\\n')\r\n",
        "fp = str('False positive = '+ str(confusionMatrix[0][1]) + '\\n')\r\n",
        "fn = str('False negative = '+ str(confusionMatrix[1][0]) + '\\n')\r\n",
        "tn = str('True negative = '+ str(confusionMatrix[1][1]) + '\\n')\r\n",
        "\r\n",
        "data = (\r\n",
        "    'Model Name: ' + str(modelName) + '\\n' +\r\n",
        "    'Batch Size: ' + str(BATCH_SIZE) + '\\n' +\r\n",
        "    'Image Size: ' + str(SIZE) + '\\n' +\r\n",
        "    'Epochs: ' + str(EPOCHS) + '\\n' +\r\n",
        "    'Iterations: ' + str(ITERATIONS) + '\\n' +\r\n",
        "    '===================================================== \\n\\n' +\r\n",
        "    str(classificationReport) + '\\n' + str(tp + fp + fn + tn)\r\n",
        ")\r\n",
        "\r\n",
        "from datetime import datetime \r\n",
        "import pytz \r\n",
        "  \r\n",
        "# get the standard UTC time  \r\n",
        "UTC = pytz.utc \r\n",
        "  \r\n",
        "# it will get the time zone  \r\n",
        "# of the specified location \r\n",
        "IST = pytz.timezone('Asia/Kolkata') \r\n",
        "  \r\n",
        "datetime_ist = datetime.now(IST) \r\n",
        "filename = ('Report ' + datetime_ist.strftime('%Y-%m-%d %H%M') + ' ' + modelName + '.txt')\r\n",
        "\r\n",
        "myFile = open(filename, 'w')\r\n",
        "myFile.write(data)\r\n",
        "myFile.close()\r\n",
        "\r\n",
        "model.save(modelName + ' ' + datetime_ist.strftime('%Y-%m-%d %H%M') + '.h5')"
      ],
      "execution_count": 61,
      "outputs": []
    }
  ]
}