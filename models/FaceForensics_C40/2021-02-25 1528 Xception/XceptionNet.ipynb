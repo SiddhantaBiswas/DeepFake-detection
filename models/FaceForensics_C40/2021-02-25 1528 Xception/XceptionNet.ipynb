{
  "nbformat": 4,
  "nbformat_minor": 0,
  "metadata": {
    "colab": {
      "name": "XceptionNet.ipynb",
      "provenance": [],
      "collapsed_sections": [],
      "toc_visible": true
    },
    "kernelspec": {
      "name": "python3",
      "display_name": "Python 3"
    },
    "accelerator": "GPU"
  },
  "cells": [
    {
      "cell_type": "markdown",
      "metadata": {
        "id": "mL5YWlcaRUmV"
      },
      "source": [
        "# Preprocessing"
      ]
    },
    {
      "cell_type": "code",
      "metadata": {
        "id": "N-9RKWkoMMVH"
      },
      "source": [
        "import os\r\n",
        "#os.environ['PYTHONHASHSEED'] = '0'\r\n",
        "\r\n",
        "import tensorflow as tf\r\n",
        "#tf.random.set_seed(89)\r\n",
        "\r\n",
        "import numpy as np\r\n",
        "#np.random.seed(42)\r\n",
        "\r\n",
        "import random as rn\r\n",
        "#rn.seed(1254)"
      ],
      "execution_count": 20,
      "outputs": []
    },
    {
      "cell_type": "code",
      "metadata": {
        "colab": {
          "base_uri": "https://localhost:8080/"
        },
        "id": "gWKstncVLScS",
        "outputId": "7b1c652a-80a9-43e0-b30a-2d8f50fd664f"
      },
      "source": [
        "from google.colab import drive\n",
        "drive.mount('/content/drive')"
      ],
      "execution_count": 21,
      "outputs": [
        {
          "output_type": "stream",
          "text": [
            "Drive already mounted at /content/drive; to attempt to forcibly remount, call drive.mount(\"/content/drive\", force_remount=True).\n"
          ],
          "name": "stdout"
        }
      ]
    },
    {
      "cell_type": "code",
      "metadata": {
        "id": "n74vJZ9TSM6o"
      },
      "source": [
        "%%capture\r\n",
        "!unzip -o \"/content/drive/My Drive/Thesis/deepfake-detection-master/ff_dataset.zip\" -d /content/"
      ],
      "execution_count": 22,
      "outputs": []
    },
    {
      "cell_type": "markdown",
      "metadata": {
        "id": "rLcO1jsj59Z3"
      },
      "source": [
        "## Parameters"
      ]
    },
    {
      "cell_type": "code",
      "metadata": {
        "id": "tflJn6S__MzJ"
      },
      "source": [
        "BATCH_SIZE = 64\r\n",
        "SIZE = 100\r\n",
        "TRAINING_EPOCHS = 10\r\n",
        "TUNING_EPOCHS = 30\r\n",
        "\r\n",
        "input_shape = (SIZE, SIZE, 3)\r\n",
        "learning_rate = 0.0002"
      ],
      "execution_count": 23,
      "outputs": []
    },
    {
      "cell_type": "markdown",
      "metadata": {
        "id": "gI_DMsLa8lql"
      },
      "source": [
        "## Store into tf.data.Dataset"
      ]
    },
    {
      "cell_type": "markdown",
      "metadata": {
        "id": "ptstd7Es1wWZ"
      },
      "source": [
        "### FaceForensics++"
      ]
    },
    {
      "cell_type": "markdown",
      "metadata": {
        "id": "55Ep3kV_ZPuC"
      },
      "source": [
        "# New Section"
      ]
    },
    {
      "cell_type": "code",
      "metadata": {
        "colab": {
          "base_uri": "https://localhost:8080/"
        },
        "id": "C-oy8_ylz5Y2",
        "outputId": "b9664a54-585a-4e94-f7de-d10f5c38edf0"
      },
      "source": [
        "from tensorflow.keras.preprocessing import image_dataset_from_directory\r\n",
        "\r\n",
        "dir_train = os.path.join('ff_dataset', 'Frames_train')\r\n",
        "dir_val = os.path.join('ff_dataset', 'Frames_validation')\r\n",
        "dir_test = os.path.join('ff_dataset', 'Frames_test')\r\n",
        "image_format = '.jpg'\r\n",
        "\r\n",
        "training_dataset = image_dataset_from_directory(\r\n",
        "    dir_train,\r\n",
        "    labels=\"inferred\",\r\n",
        "    label_mode=\"binary\",\r\n",
        "    class_names=['df', 'real'],\r\n",
        "    color_mode=\"rgb\",\r\n",
        "    batch_size=BATCH_SIZE,\r\n",
        "    image_size=(SIZE, SIZE),\r\n",
        "    shuffle=True,\r\n",
        "    seed=42\r\n",
        ")\r\n",
        "\r\n",
        "validation_dataset = image_dataset_from_directory(\r\n",
        "    dir_val,\r\n",
        "    labels=\"inferred\",\r\n",
        "    label_mode=\"binary\",\r\n",
        "    class_names=['df', 'real'],\r\n",
        "    color_mode=\"rgb\",\r\n",
        "    batch_size=BATCH_SIZE,\r\n",
        "    image_size=(SIZE, SIZE),\r\n",
        "    shuffle=True,\r\n",
        "    seed=42\r\n",
        ")\r\n"
      ],
      "execution_count": 24,
      "outputs": [
        {
          "output_type": "stream",
          "text": [
            "Found 46402 files belonging to 2 classes.\n",
            "Found 15407 files belonging to 2 classes.\n"
          ],
          "name": "stdout"
        }
      ]
    },
    {
      "cell_type": "markdown",
      "metadata": {
        "id": "GoKLp9K-8y5h"
      },
      "source": [
        "# Model\r\n",
        "\r\n",
        "XceptionNet [14] is a traditional CNN trained on ImageNet based on separable convolutions with residual connections. We transfer it to our task by replacing the final\r\n",
        "fully connected layer with two outputs. The other layers are\r\n",
        "initialized with the ImageNet weights. To set up the newly\r\n",
        "inserted fully connected layer, we fix all weights up to the final layers and pre-train the network for 3 epochs. After this\r\n",
        "step, we train the network for 15 more epochs and choose\r\n",
        "the best performing model based on validation accuracy."
      ]
    },
    {
      "cell_type": "markdown",
      "metadata": {
        "id": "JQmxao2Y7lU0"
      },
      "source": [
        "## Callbacks"
      ]
    },
    {
      "cell_type": "code",
      "metadata": {
        "id": "gEIpLlfDAQV3"
      },
      "source": [
        "from tensorflow import keras\r\n",
        "\r\n",
        "# This function keeps the initial learning rate for the first ten epochs  \r\n",
        "# and decreases it exponentially after that.  \r\n",
        "def scheduler(epoch):\r\n",
        "    lr = 1e-3\r\n",
        "    if epoch < 10:\r\n",
        "        lr = 0.005 \r\n",
        "    if epoch >= 10 and epoch< 20:\r\n",
        "        lr = 0.001 \r\n",
        "    elif epoch >= 20 and epoch < 30:\r\n",
        "        lr = 0.001\r\n",
        "    elif epoch >= 30 and epoch < 40:\r\n",
        "        lr = 0.0001\r\n",
        "    elif epoch >= 40:\r\n",
        "        lr = 0.0001\r\n",
        "    print(\"{0:.8f}\".format(lr))\r\n",
        "    return lr\r\n",
        "lr_scheduler = keras.callbacks.LearningRateScheduler(scheduler)\r\n",
        "\r\n",
        "early_stopping = tf.keras.callbacks.EarlyStopping(\r\n",
        "    monitor=\"val_binary_accuracy\",\r\n",
        "    min_delta=0,\r\n",
        "    patience=10,\r\n",
        "    verbose=1,\r\n",
        "    mode=\"auto\",\r\n",
        "    baseline=None,\r\n",
        "    restore_best_weights=True,\r\n",
        ")"
      ],
      "execution_count": 25,
      "outputs": []
    },
    {
      "cell_type": "markdown",
      "metadata": {
        "id": "VJ3ZUFXa9HOI"
      },
      "source": [
        "## Compile Model"
      ]
    },
    {
      "cell_type": "code",
      "metadata": {
        "colab": {
          "base_uri": "https://localhost:8080/"
        },
        "id": "7KtJAfOWjQm2",
        "outputId": "79cdebe1-625c-4f1c-d0bd-ac88e7889b58"
      },
      "source": [
        "''' Instantiate a base model with pre-trained weights. '''\n",
        "base_model = keras.applications.Xception(\n",
        "    weights='imagenet',  # Load weights pre-trained on ImageNet.\n",
        "    input_shape=input_shape,\n",
        "    include_top=False)  # Do not include the ImageNet classifier at the top.\n",
        "\n",
        "''' Then, freeze the base model. '''\n",
        "base_model.trainable = False\n",
        "\n",
        "''' Create a new model on top. '''\n",
        "inputs = keras.Input(shape=input_shape)\n",
        "# We make sure that the base_model is running in inference mode here,\n",
        "# by passing `training=False`. This is important for fine-tuning, as you will\n",
        "# learn in a few paragraphs.\n",
        "x = base_model(inputs, training=False)\n",
        "# A Dense classifier with a single unit (binary classification)\n",
        "x = keras.layers.GlobalAveragePooling2D()(x)\n",
        "# A Dense classifier with a single unit (binary classification)\n",
        "outputs = keras.layers.Dense(1)(x)\n",
        "model = keras.Model(inputs, outputs)\n",
        "\n",
        "''' Compile model '''\n",
        "model.compile(\n",
        "    optimizer=keras.optimizers.Adam(lr = learning_rate),  # Low learning rate\n",
        "    loss=tf.keras.losses.MeanSquaredError(),\n",
        "    metrics=[tf.keras.metrics.BinaryAccuracy()],\n",
        ")\n",
        "model.summary()"
      ],
      "execution_count": 26,
      "outputs": [
        {
          "output_type": "stream",
          "text": [
            "Model: \"model_2\"\n",
            "_________________________________________________________________\n",
            "Layer (type)                 Output Shape              Param #   \n",
            "=================================================================\n",
            "input_6 (InputLayer)         [(None, 100, 100, 3)]     0         \n",
            "_________________________________________________________________\n",
            "xception (Functional)        (None, 3, 3, 2048)        20861480  \n",
            "_________________________________________________________________\n",
            "global_average_pooling2d_2 ( (None, 2048)              0         \n",
            "_________________________________________________________________\n",
            "dense_2 (Dense)              (None, 1)                 2049      \n",
            "=================================================================\n",
            "Total params: 20,863,529\n",
            "Trainable params: 2,049\n",
            "Non-trainable params: 20,861,480\n",
            "_________________________________________________________________\n"
          ],
          "name": "stdout"
        }
      ]
    },
    {
      "cell_type": "markdown",
      "metadata": {
        "id": "ndb3w9pB9LB2"
      },
      "source": [
        "# Training\r\n",
        "\r\n",
        "XceptionNet [14]-\r\n",
        "based approach is trained with a learning-rate of 0:0002 and\r\n",
        "a batch-size of 32. All detection methods are trained with\r\n",
        "the Adam optimizer using the default values for the moments (β1 = 0:9, β2 = 0:999, \u000f = 10−8).\r\n",
        "We compute validation accuracies ten times per epoch\r\n",
        "and stop the training process if the validation accuracy does\r\n",
        "not change for 10 consecutive checks. Validation and test\r\n",
        "accuracies are computed on 100 images per video, training\r\n",
        "is evaluated on 270 images per video to account for frame\r\n",
        "count imbalance in our videos. Finally, we solve the imbalance between real and fake images in the binary task (i.e.,\r\n",
        "the number of fake images being roughly four times as large\r\n",
        "as the number of pristine images) by weighing the training\r\n",
        "images correspondingly."
      ]
    },
    {
      "cell_type": "markdown",
      "metadata": {
        "id": "1yAJ1a-e9djn"
      },
      "source": [
        "## Train the top layer"
      ]
    },
    {
      "cell_type": "code",
      "metadata": {
        "id": "-8Fwh4Gx12j7",
        "colab": {
          "base_uri": "https://localhost:8080/"
        },
        "outputId": "5f644ec9-5d3f-4f5f-855f-a9ff45ec9918"
      },
      "source": [
        "history = model.fit(training_dataset,\n",
        "                    epochs=TRAINING_EPOCHS,\n",
        "                    validation_data=validation_dataset,\n",
        "                    callbacks=[early_stopping],\n",
        "                    workers=4)\n"
      ],
      "execution_count": 27,
      "outputs": [
        {
          "output_type": "stream",
          "text": [
            "Epoch 1/10\n",
            "726/726 [==============================] - 92s 115ms/step - loss: 4.2193 - binary_accuracy: 0.5119 - val_loss: 1.0319 - val_binary_accuracy: 0.5428\n",
            "Epoch 2/10\n",
            "726/726 [==============================] - 80s 110ms/step - loss: 0.8015 - binary_accuracy: 0.5619 - val_loss: 0.7724 - val_binary_accuracy: 0.5413\n",
            "Epoch 3/10\n",
            "726/726 [==============================] - 80s 110ms/step - loss: 0.5520 - binary_accuracy: 0.5868 - val_loss: 0.7511 - val_binary_accuracy: 0.5385\n",
            "Epoch 4/10\n",
            "726/726 [==============================] - 81s 112ms/step - loss: 0.4596 - binary_accuracy: 0.6106 - val_loss: 0.6376 - val_binary_accuracy: 0.5541\n",
            "Epoch 5/10\n",
            "726/726 [==============================] - 79s 108ms/step - loss: 0.3986 - binary_accuracy: 0.6260 - val_loss: 0.5659 - val_binary_accuracy: 0.5678\n",
            "Epoch 6/10\n",
            "726/726 [==============================] - 78s 107ms/step - loss: 0.3528 - binary_accuracy: 0.6442 - val_loss: 0.5429 - val_binary_accuracy: 0.5723\n",
            "Epoch 7/10\n",
            "726/726 [==============================] - 78s 107ms/step - loss: 0.3155 - binary_accuracy: 0.6613 - val_loss: 0.6572 - val_binary_accuracy: 0.5592\n",
            "Epoch 8/10\n",
            "726/726 [==============================] - 78s 107ms/step - loss: 0.3076 - binary_accuracy: 0.6633 - val_loss: 0.6507 - val_binary_accuracy: 0.5560\n",
            "Epoch 9/10\n",
            "726/726 [==============================] - 78s 107ms/step - loss: 0.2953 - binary_accuracy: 0.6712 - val_loss: 0.4811 - val_binary_accuracy: 0.5738\n",
            "Epoch 10/10\n",
            "726/726 [==============================] - 78s 108ms/step - loss: 0.2674 - binary_accuracy: 0.6870 - val_loss: 0.3375 - val_binary_accuracy: 0.6180\n"
          ],
          "name": "stdout"
        }
      ]
    },
    {
      "cell_type": "markdown",
      "metadata": {
        "id": "Vafzh39d9VZ2"
      },
      "source": [
        "## Training and Validation Graphs"
      ]
    },
    {
      "cell_type": "code",
      "metadata": {
        "id": "JmIarIkj3Dn8",
        "colab": {
          "base_uri": "https://localhost:8080/",
          "height": 308
        },
        "outputId": "90594540-4fca-400f-f4d0-37a0a8ee8202"
      },
      "source": [
        "import matplotlib.pyplot as plt\n",
        "\n",
        "f, (ax1, ax2) = plt.subplots(1, 2, figsize=(20, 4))\n",
        "t = f.suptitle('Training and Validation Performance', fontsize=12)\n",
        "f.subplots_adjust(top=0.85, wspace=0.3)\n",
        "\n",
        "epoch_list = list(range(1, TRAINING_EPOCHS+1))\n",
        "ax1.plot(epoch_list, history.history['binary_accuracy'], label='Train Accuracy')\n",
        "ax1.plot(epoch_list, history.history['val_binary_accuracy'], label='Validation Accuracy')\n",
        "ax1.set_xticks(np.arange(0, 3+1, 1))\n",
        "ax1.set_ylabel('Accuracy Value')\n",
        "ax1.set_xlabel('Epoch #')\n",
        "ax1.set_title('Accuracy')\n",
        "l1 = ax1.legend(loc=\"best\")\n",
        "\n",
        "ax2.plot(epoch_list, history.history['loss'], label='Train Loss')\n",
        "ax2.plot(epoch_list, history.history['val_loss'], label='Validation Loss')\n",
        "ax2.set_xticks(np.arange(0, TRAINING_EPOCHS+1, 1))\n",
        "ax2.set_ylabel('Loss Value')\n",
        "ax2.set_xlabel('Epoch #')\n",
        "ax2.set_title('Loss')\n",
        "l2 = ax2.legend(loc=\"best\")"
      ],
      "execution_count": 28,
      "outputs": [
        {
          "output_type": "display_data",
          "data": {
            "image/png": "[encoded data removed]",
            "text/plain": [
              "<Figure size 1440x288 with 2 Axes>"
            ]
          },
          "metadata": {
            "tags": [],
            "needs_background": "light"
          }
        }
      ]
    },
    {
      "cell_type": "markdown",
      "metadata": {
        "id": "tiyRFAFYyPFs"
      },
      "source": [
        "## Do a round of fine-tuning of the entire model\r\n",
        "\r\n",
        "Finally, let's unfreeze the base model and train the entire model end-to-end with a low learning rate.\r\n",
        "\r\n",
        "Importantly, although the base model becomes trainable, it is still running in inference mode since we passed training=False when calling it when we built the model. This means that the batch normalization layers inside won't update their batch statistics. If they did, they would wreck havoc on the representations learned by the model so far."
      ]
    },
    {
      "cell_type": "code",
      "metadata": {
        "colab": {
          "base_uri": "https://localhost:8080/"
        },
        "id": "xNVU-Z2syQvT",
        "outputId": "551046dc-a607-49f1-f0dd-1880d062c7a4"
      },
      "source": [
        "# Unfreeze the base_model. Note that it keeps running in inference mode\r\n",
        "# since we passed `training=False` when calling it. This means that\r\n",
        "# the batchnorm layers will not update their batch statistics.\r\n",
        "# This prevents the batchnorm layers from undoing all the training\r\n",
        "# we've done so far.\r\n",
        "base_model.trainable = True\r\n",
        "model.summary()\r\n",
        "\r\n",
        "model.compile(\r\n",
        "    optimizer=keras.optimizers.Adam(lr = learning_rate),  # Low learning rate\r\n",
        "    loss=tf.keras.losses.MeanSquaredError(),\r\n",
        "    metrics=[tf.keras.metrics.BinaryAccuracy()],\r\n",
        ")\r\n"
      ],
      "execution_count": 29,
      "outputs": [
        {
          "output_type": "stream",
          "text": [
            "Model: \"model_2\"\n",
            "_________________________________________________________________\n",
            "Layer (type)                 Output Shape              Param #   \n",
            "=================================================================\n",
            "input_6 (InputLayer)         [(None, 100, 100, 3)]     0         \n",
            "_________________________________________________________________\n",
            "xception (Functional)        (None, 3, 3, 2048)        20861480  \n",
            "_________________________________________________________________\n",
            "global_average_pooling2d_2 ( (None, 2048)              0         \n",
            "_________________________________________________________________\n",
            "dense_2 (Dense)              (None, 1)                 2049      \n",
            "=================================================================\n",
            "Total params: 20,863,529\n",
            "Trainable params: 20,809,001\n",
            "Non-trainable params: 54,528\n",
            "_________________________________________________________________\n"
          ],
          "name": "stdout"
        }
      ]
    },
    {
      "cell_type": "code",
      "metadata": {
        "colab": {
          "base_uri": "https://localhost:8080/"
        },
        "id": "-EGJZONYz4kj",
        "outputId": "df0cfa76-400a-47a9-deef-8093db71185b"
      },
      "source": [
        "history = model.fit(training_dataset,\r\n",
        "                    epochs=TUNING_EPOCHS,\r\n",
        "                    validation_data=validation_dataset,\r\n",
        "                    callbacks=[early_stopping],\r\n",
        "                    workers=4)"
      ],
      "execution_count": 30,
      "outputs": [
        {
          "output_type": "stream",
          "text": [
            "Epoch 1/30\n",
            "726/726 [==============================] - 226s 306ms/step - loss: 29.3245 - binary_accuracy: 0.6519 - val_loss: 0.1841 - val_binary_accuracy: 0.7360\n",
            "Epoch 2/30\n",
            "726/726 [==============================] - 213s 293ms/step - loss: 0.1137 - binary_accuracy: 0.8600 - val_loss: 0.1862 - val_binary_accuracy: 0.7556\n",
            "Epoch 3/30\n",
            "726/726 [==============================] - 214s 295ms/step - loss: 0.0640 - binary_accuracy: 0.9410 - val_loss: 0.1903 - val_binary_accuracy: 0.7591\n",
            "Epoch 4/30\n",
            "726/726 [==============================] - 213s 292ms/step - loss: 0.0418 - binary_accuracy: 0.9652 - val_loss: 0.1946 - val_binary_accuracy: 0.7685\n",
            "Epoch 5/30\n",
            "726/726 [==============================] - 214s 294ms/step - loss: 0.0337 - binary_accuracy: 0.9696 - val_loss: 0.1765 - val_binary_accuracy: 0.7790\n",
            "Epoch 6/30\n",
            "726/726 [==============================] - 213s 292ms/step - loss: 0.0209 - binary_accuracy: 0.9828 - val_loss: 0.2238 - val_binary_accuracy: 0.7132\n",
            "Epoch 7/30\n",
            "726/726 [==============================] - 212s 292ms/step - loss: 0.0240 - binary_accuracy: 0.9767 - val_loss: 0.2008 - val_binary_accuracy: 0.7605\n",
            "Epoch 8/30\n",
            "726/726 [==============================] - 214s 294ms/step - loss: 0.0150 - binary_accuracy: 0.9871 - val_loss: 0.1882 - val_binary_accuracy: 0.7846\n",
            "Epoch 9/30\n",
            "726/726 [==============================] - 214s 294ms/step - loss: 0.0117 - binary_accuracy: 0.9904 - val_loss: 0.2433 - val_binary_accuracy: 0.7532\n",
            "Epoch 10/30\n",
            "726/726 [==============================] - 213s 294ms/step - loss: 0.0140 - binary_accuracy: 0.9874 - val_loss: 0.1883 - val_binary_accuracy: 0.7824\n",
            "Epoch 11/30\n",
            "726/726 [==============================] - 213s 293ms/step - loss: 0.0119 - binary_accuracy: 0.9886 - val_loss: 0.2007 - val_binary_accuracy: 0.7606\n",
            "Epoch 12/30\n",
            "726/726 [==============================] - 212s 292ms/step - loss: 0.0109 - binary_accuracy: 0.9898 - val_loss: 0.1815 - val_binary_accuracy: 0.7885\n",
            "Epoch 13/30\n",
            "726/726 [==============================] - 214s 294ms/step - loss: 0.0076 - binary_accuracy: 0.9933 - val_loss: 0.1932 - val_binary_accuracy: 0.7760\n",
            "Epoch 14/30\n",
            "726/726 [==============================] - 214s 294ms/step - loss: 0.0108 - binary_accuracy: 0.9902 - val_loss: 0.1673 - val_binary_accuracy: 0.8037\n",
            "Epoch 15/30\n",
            "726/726 [==============================] - 214s 294ms/step - loss: 0.0103 - binary_accuracy: 0.9905 - val_loss: 0.1875 - val_binary_accuracy: 0.8037\n",
            "Epoch 16/30\n",
            "726/726 [==============================] - 213s 293ms/step - loss: 0.0077 - binary_accuracy: 0.9929 - val_loss: 0.2560 - val_binary_accuracy: 0.7201\n",
            "Epoch 17/30\n",
            "726/726 [==============================] - 214s 294ms/step - loss: 0.0090 - binary_accuracy: 0.9917 - val_loss: 0.1741 - val_binary_accuracy: 0.8044\n",
            "Epoch 18/30\n",
            "726/726 [==============================] - 215s 296ms/step - loss: 0.0090 - binary_accuracy: 0.9922 - val_loss: 0.1683 - val_binary_accuracy: 0.7993\n",
            "Epoch 19/30\n",
            "726/726 [==============================] - 214s 294ms/step - loss: 0.0088 - binary_accuracy: 0.9916 - val_loss: 0.1958 - val_binary_accuracy: 0.7913\n",
            "Epoch 20/30\n",
            "726/726 [==============================] - 214s 294ms/step - loss: 0.0068 - binary_accuracy: 0.9931 - val_loss: 0.1632 - val_binary_accuracy: 0.8118\n",
            "Epoch 21/30\n",
            "726/726 [==============================] - 213s 293ms/step - loss: 0.0069 - binary_accuracy: 0.9934 - val_loss: 0.1537 - val_binary_accuracy: 0.8126\n",
            "Epoch 22/30\n",
            "726/726 [==============================] - 213s 292ms/step - loss: 0.0071 - binary_accuracy: 0.9929 - val_loss: 0.1651 - val_binary_accuracy: 0.8102\n",
            "Epoch 23/30\n",
            "726/726 [==============================] - 213s 293ms/step - loss: 0.0062 - binary_accuracy: 0.9936 - val_loss: 0.1723 - val_binary_accuracy: 0.7924\n",
            "Epoch 24/30\n",
            "726/726 [==============================] - 214s 295ms/step - loss: 0.0051 - binary_accuracy: 0.9951 - val_loss: 0.1745 - val_binary_accuracy: 0.8153\n",
            "Epoch 25/30\n",
            "726/726 [==============================] - 215s 296ms/step - loss: 0.0050 - binary_accuracy: 0.9953 - val_loss: 0.1562 - val_binary_accuracy: 0.8116\n",
            "Epoch 26/30\n",
            "726/726 [==============================] - 215s 296ms/step - loss: 0.0060 - binary_accuracy: 0.9939 - val_loss: 0.1826 - val_binary_accuracy: 0.7890\n",
            "Epoch 27/30\n",
            "726/726 [==============================] - 223s 307ms/step - loss: 0.0051 - binary_accuracy: 0.9948 - val_loss: 0.1586 - val_binary_accuracy: 0.8189\n",
            "Epoch 28/30\n",
            "726/726 [==============================] - 214s 294ms/step - loss: 0.0045 - binary_accuracy: 0.9954 - val_loss: 0.1538 - val_binary_accuracy: 0.8220\n",
            "Epoch 29/30\n",
            "726/726 [==============================] - 218s 300ms/step - loss: 0.0030 - binary_accuracy: 0.9970 - val_loss: 0.1697 - val_binary_accuracy: 0.8268\n",
            "Epoch 30/30\n",
            "726/726 [==============================] - 221s 304ms/step - loss: 0.0041 - binary_accuracy: 0.9961 - val_loss: 0.1563 - val_binary_accuracy: 0.8254\n"
          ],
          "name": "stdout"
        }
      ]
    },
    {
      "cell_type": "markdown",
      "metadata": {
        "id": "gSe11_Tl0CA0"
      },
      "source": [
        "## Training and Validation Graphs"
      ]
    },
    {
      "cell_type": "code",
      "metadata": {
        "colab": {
          "base_uri": "https://localhost:8080/",
          "height": 308
        },
        "id": "NYaGlNs50CA1",
        "outputId": "77ab87ce-7cfe-473a-f2f9-83b85b180b47"
      },
      "source": [
        "import matplotlib.pyplot as plt\n",
        "\n",
        "f, (ax1, ax2) = plt.subplots(1, 2, figsize=(20, 4))\n",
        "t = f.suptitle('Training and Validation Performance', fontsize=12)\n",
        "f.subplots_adjust(top=0.85, wspace=0.3)\n",
        "\n",
        "epoch_list = list(range(1, TUNING_EPOCHS+1))\n",
        "ax1.plot(epoch_list, history.history['binary_accuracy'], label='Train Accuracy')\n",
        "ax1.plot(epoch_list, history.history['val_binary_accuracy'], label='Validation Accuracy')\n",
        "ax1.set_xticks(np.arange(0, 15+1, 1))\n",
        "ax1.set_ylabel('Accuracy Value')\n",
        "ax1.set_xlabel('Epoch #')\n",
        "ax1.set_title('Accuracy')\n",
        "l1 = ax1.legend(loc=\"best\")\n",
        "\n",
        "ax2.plot(epoch_list, history.history['loss'], label='Train Loss')\n",
        "ax2.plot(epoch_list, history.history['val_loss'], label='Validation Loss')\n",
        "ax2.set_xticks(np.arange(0, TUNING_EPOCHS+1, 1))\n",
        "ax2.set_ylabel('Loss Value')\n",
        "ax2.set_xlabel('Epoch #')\n",
        "ax2.set_title('Loss')\n",
        "l2 = ax2.legend(loc=\"best\")\n",
        "\n",
        "plt.savefig('graph.png')"
      ],
      "execution_count": 31,
      "outputs": [
        {
          "output_type": "display_data",
          "data": {
            "image/png": "[encoded data removed]",
            "text/plain": [
              "<Figure size 1440x288 with 2 Axes>"
            ]
          },
          "metadata": {
            "tags": [],
            "needs_background": "light"
          }
        }
      ]
    },
    {
      "cell_type": "markdown",
      "metadata": {
        "id": "GSyUbKcWMWrB"
      },
      "source": [
        "# Prediction"
      ]
    },
    {
      "cell_type": "markdown",
      "metadata": {
        "id": "rgnjCQe-MjLH"
      },
      "source": [
        "## Store into tf.data.Dataset"
      ]
    },
    {
      "cell_type": "code",
      "metadata": {
        "colab": {
          "base_uri": "https://localhost:8080/"
        },
        "id": "xJQQItI-0Q5m",
        "outputId": "3fbee362-eace-4e89-d8d4-c101915d1769"
      },
      "source": [
        "from tensorflow.keras.preprocessing import image_dataset_from_directory\r\n",
        "\r\n",
        "dir_train = os.path.join('ff_dataset', 'Frames_train')\r\n",
        "dir_val = os.path.join('ff_dataset', 'Frames_validation')\r\n",
        "dir_test = os.path.join('ff_dataset', 'Frames_test')\r\n",
        "image_format = '.jpg'\r\n",
        "\r\n",
        "test_dataset = image_dataset_from_directory(\r\n",
        "    dir_test,\r\n",
        "    labels=\"inferred\",\r\n",
        "    label_mode=\"binary\",\r\n",
        "    class_names=['fake', 'real'],\r\n",
        "    color_mode=\"rgb\",\r\n",
        "    batch_size=BATCH_SIZE,\r\n",
        "    image_size=(SIZE, SIZE),\r\n",
        "    shuffle=False,\r\n",
        ")\r\n"
      ],
      "execution_count": 32,
      "outputs": [
        {
          "output_type": "stream",
          "text": [
            "Found 15667 files belonging to 2 classes.\n"
          ],
          "name": "stdout"
        }
      ]
    },
    {
      "cell_type": "markdown",
      "metadata": {
        "id": "oAqU-RLekwDI"
      },
      "source": [
        "## Make Prediction"
      ]
    },
    {
      "cell_type": "code",
      "metadata": {
        "id": "EYf9QXMNbkcB",
        "colab": {
          "base_uri": "https://localhost:8080/"
        },
        "outputId": "266412a7-90d3-4951-bfcf-84a9ef323cfe"
      },
      "source": [
        "Y_pred = (model.predict(test_dataset, verbose=1) > 0.5).astype(\"int32\")"
      ],
      "execution_count": 33,
      "outputs": [
        {
          "output_type": "stream",
          "text": [
            "245/245 [==============================] - 20s 79ms/step\n"
          ],
          "name": "stdout"
        }
      ]
    },
    {
      "cell_type": "markdown",
      "metadata": {
        "id": "GUFjwc-Nk3ZR"
      },
      "source": [
        "### Read Original Labels"
      ]
    },
    {
      "cell_type": "code",
      "metadata": {
        "id": "sgCeGiX-ewNd"
      },
      "source": [
        "Y_test = []\r\n",
        "for img_array, label in (test_dataset.as_numpy_iterator()):\r\n",
        "    Y_test.append(label)"
      ],
      "execution_count": 34,
      "outputs": []
    },
    {
      "cell_type": "markdown",
      "metadata": {
        "id": "hy-gsprKk-u9"
      },
      "source": [
        "### Flatten Original and Prediction label arrays"
      ]
    },
    {
      "cell_type": "code",
      "metadata": {
        "id": "KBayYJHCtFsX"
      },
      "source": [
        "original_labels = []\r\n",
        "original_labels = list(np.concatenate(Y_test).flat)\r\n",
        "original_labels = np.array(original_labels)\r\n",
        "\r\n",
        "predicted_labels = []\r\n",
        "predicted_labels = list(np.concatenate(Y_pred).flat)\r\n",
        "predicted_labels = np.array(predicted_labels)"
      ],
      "execution_count": 35,
      "outputs": []
    },
    {
      "cell_type": "markdown",
      "metadata": {
        "id": "fnPxkC2timnb"
      },
      "source": [
        "## Classification Report"
      ]
    },
    {
      "cell_type": "code",
      "metadata": {
        "id": "VKztxwp4ibct",
        "colab": {
          "base_uri": "https://localhost:8080/"
        },
        "outputId": "5fe0f391-d713-4b4f-8ddf-1bd046e6d883"
      },
      "source": [
        "from sklearn.metrics import classification_report\n",
        "classificationReport = classification_report(original_labels, predicted_labels, target_names=test_dataset.class_names, digits=5)\n",
        "print(classificationReport)"
      ],
      "execution_count": 36,
      "outputs": [
        {
          "output_type": "stream",
          "text": [
            "              precision    recall  f1-score   support\n",
            "\n",
            "        fake    0.87699   0.75824   0.81330      7983\n",
            "        real    0.77981   0.88951   0.83105      7684\n",
            "\n",
            "    accuracy                        0.82262     15667\n",
            "   macro avg    0.82840   0.82387   0.82218     15667\n",
            "weighted avg    0.82933   0.82262   0.82201     15667\n",
            "\n"
          ],
          "name": "stdout"
        }
      ]
    },
    {
      "cell_type": "markdown",
      "metadata": {
        "id": "lZI6-stDS_ol"
      },
      "source": [
        "## Confusion Matrix"
      ]
    },
    {
      "cell_type": "code",
      "metadata": {
        "id": "_l-PorZI3DoB",
        "colab": {
          "base_uri": "https://localhost:8080/",
          "height": 402
        },
        "outputId": "51175f3c-bbce-409d-d938-a9a731295e9e"
      },
      "source": [
        "#Output confusion matrix\n",
        "from sklearn.metrics import confusion_matrix\n",
        "import pandas as pd\n",
        "import seaborn as sn\n",
        "import matplotlib.pyplot as plt\n",
        "\n",
        "def print_confusion_matrix(y_true, y_pred):\n",
        "    cm = confusion_matrix(y_true, y_pred)\n",
        "    print('True positive = ', cm[0][0])\n",
        "    print('False positive = ', cm[0][1])\n",
        "    print('False negative = ', cm[1][0])\n",
        "    print('True negative = ', cm[1][1])\n",
        "    print('\\n')\n",
        "    df_cm = pd.DataFrame(cm, range(2), range(2))\n",
        "    sn.set(font_scale=1.4) # for label size\n",
        "    sn.heatmap(df_cm, annot=True, annot_kws={\"size\": 16}, cmap=\"YlGnBu\") # font size\n",
        "    plt.ylabel('Actual label', size = 20)\n",
        "    plt.xlabel('Predicted label', size = 20)\n",
        "    plt.xticks(np.arange(2), test_dataset.class_names, size = 16)\n",
        "    plt.yticks(np.arange(2), test_dataset.class_names, size = 16)\n",
        "    plt.ylim([2, 0])\n",
        "    plt.show()\n",
        "    return cm\n",
        "    \n",
        "confusionMatrix = print_confusion_matrix(original_labels, predicted_labels)"
      ],
      "execution_count": 37,
      "outputs": [
        {
          "output_type": "stream",
          "text": [
            "True positive =  6053\n",
            "False positive =  1930\n",
            "False negative =  849\n",
            "True negative =  6835\n",
            "\n",
            "\n"
          ],
          "name": "stdout"
        },
        {
          "output_type": "display_data",
          "data": {
            "image/png": "[encoded data removed]",
            "text/plain": [
              "<Figure size 432x288 with 2 Axes>"
            ]
          },
          "metadata": {
            "tags": []
          }
        }
      ]
    },
    {
      "cell_type": "markdown",
      "metadata": {
        "id": "Go_uGCTqU5XR"
      },
      "source": [
        "# Write to File"
      ]
    },
    {
      "cell_type": "code",
      "metadata": {
        "id": "9W4SCXEZU7SB"
      },
      "source": [
        "import os\r\n",
        "\r\n",
        "tp = str('True positive = '+ str(confusionMatrix[0][0]) + '\\n')\r\n",
        "fp = str('False positive = '+ str(confusionMatrix[0][1]) + '\\n')\r\n",
        "fn = str('False negative = '+ str(confusionMatrix[1][0]) + '\\n')\r\n",
        "tn = str('True negative = '+ str(confusionMatrix[1][1]) + '\\n')\r\n",
        "\r\n",
        "data = (\r\n",
        "    'Model Name: ' + 'XceptionNet' + '\\n' +\r\n",
        "    'Batch Size: ' + str(BATCH_SIZE) + '\\n' +\r\n",
        "    'Image Size: ' + str(SIZE) + '\\n' +\r\n",
        "    'Training Epochs: ' + str(TRAINING_EPOCHS) + '\\n' +\r\n",
        "    'Tuning Epochs: ' + str(TUNING_EPOCHS) + '\\n' +\r\n",
        "    '===================================================== \\n\\n' +\r\n",
        "    str(classificationReport) + '\\n' + str(tp + fp + fn + tn)\r\n",
        ")\r\n",
        "\r\n",
        "from datetime import datetime \r\n",
        "import pytz \r\n",
        "  \r\n",
        "# get the standard UTC time  \r\n",
        "UTC = pytz.utc \r\n",
        "  \r\n",
        "# it will get the time zone  \r\n",
        "# of the specified location \r\n",
        "IST = pytz.timezone('Asia/Kolkata') \r\n",
        "  \r\n",
        "datetime_ist = datetime.now(IST) \r\n",
        "filename = ('Report ' + datetime_ist.strftime('%Y-%m-%d %H%M') + ' Xception' + '.txt')\r\n",
        "\r\n",
        "myFile = open(filename, 'w')\r\n",
        "myFile.write(data)\r\n",
        "myFile.close()\r\n",
        "\r\n",
        "modelName = 'Xception ' + datetime_ist.strftime('%Y-%m-%d %H%M') + '.h5'\r\n",
        "model.save(modelName)\r\n",
        "\r\n"
      ],
      "execution_count": 38,
      "outputs": []
    },
    {
      "cell_type": "code",
      "metadata": {
        "colab": {
          "base_uri": "https://localhost:8080/",
          "height": 33
        },
        "id": "4mPeRPIgy1pO",
        "outputId": "bef551d5-20d6-4f93-f23b-56984b542f53"
      },
      "source": [
        "from google.colab import files\r\n",
        "\r\n",
        "files.download(filename)\r\n",
        "files.download(modelName)"
      ],
      "execution_count": 40,
      "outputs": [
        {
          "output_type": "display_data",
          "data": {
            "application/javascript": [
              "\n",
              "    async function download(id, filename, size) {\n",
              "      if (!google.colab.kernel.accessAllowed) {\n",
              "        return;\n",
              "      }\n",
              "      const div = document.createElement('div');\n",
              "      const label = document.createElement('label');\n",
              "      label.textContent = `Downloading \"${filename}\": `;\n",
              "      div.appendChild(label);\n",
              "      const progress = document.createElement('progress');\n",
              "      progress.max = size;\n",
              "      div.appendChild(progress);\n",
              "      document.body.appendChild(div);\n",
              "\n",
              "      const buffers = [];\n",
              "      let downloaded = 0;\n",
              "\n",
              "      const channel = await google.colab.kernel.comms.open(id);\n",
              "      // Send a message to notify the kernel that we're ready.\n",
              "      channel.send({})\n",
              "\n",
              "      for await (const message of channel.messages) {\n",
              "        // Send a message to notify the kernel that we're ready.\n",
              "        channel.send({})\n",
              "        if (message.buffers) {\n",
              "          for (const buffer of message.buffers) {\n",
              "            buffers.push(buffer);\n",
              "            downloaded += buffer.byteLength;\n",
              "            progress.value = downloaded;\n",
              "          }\n",
              "        }\n",
              "      }\n",
              "      const blob = new Blob(buffers, {type: 'application/binary'});\n",
              "      const a = document.createElement('a');\n",
              "      a.href = window.URL.createObjectURL(blob);\n",
              "      a.download = filename;\n",
              "      div.appendChild(a);\n",
              "      a.click();\n",
              "      div.remove();\n",
              "    }\n",
              "  "
            ],
            "text/plain": [
              "<IPython.core.display.Javascript object>"
            ]
          },
          "metadata": {
            "tags": []
          }
        },
        {
          "output_type": "display_data",
          "data": {
            "application/javascript": [
              "download(\"download_b0cc0877-0206-4030-bc02-d281fd9fb48b\", \"Report 2021-02-25 1528 Xception.txt\", 561)"
            ],
            "text/plain": [
              "<IPython.core.display.Javascript object>"
            ]
          },
          "metadata": {
            "tags": []
          }
        },
        {
          "output_type": "display_data",
          "data": {
            "application/javascript": [
              "\n",
              "    async function download(id, filename, size) {\n",
              "      if (!google.colab.kernel.accessAllowed) {\n",
              "        return;\n",
              "      }\n",
              "      const div = document.createElement('div');\n",
              "      const label = document.createElement('label');\n",
              "      label.textContent = `Downloading \"${filename}\": `;\n",
              "      div.appendChild(label);\n",
              "      const progress = document.createElement('progress');\n",
              "      progress.max = size;\n",
              "      div.appendChild(progress);\n",
              "      document.body.appendChild(div);\n",
              "\n",
              "      const buffers = [];\n",
              "      let downloaded = 0;\n",
              "\n",
              "      const channel = await google.colab.kernel.comms.open(id);\n",
              "      // Send a message to notify the kernel that we're ready.\n",
              "      channel.send({})\n",
              "\n",
              "      for await (const message of channel.messages) {\n",
              "        // Send a message to notify the kernel that we're ready.\n",
              "        channel.send({})\n",
              "        if (message.buffers) {\n",
              "          for (const buffer of message.buffers) {\n",
              "            buffers.push(buffer);\n",
              "            downloaded += buffer.byteLength;\n",
              "            progress.value = downloaded;\n",
              "          }\n",
              "        }\n",
              "      }\n",
              "      const blob = new Blob(buffers, {type: 'application/binary'});\n",
              "      const a = document.createElement('a');\n",
              "      a.href = window.URL.createObjectURL(blob);\n",
              "      a.download = filename;\n",
              "      div.appendChild(a);\n",
              "      a.click();\n",
              "      div.remove();\n",
              "    }\n",
              "  "
            ],
            "text/plain": [
              "<IPython.core.display.Javascript object>"
            ]
          },
          "metadata": {
            "tags": []
          }
        },
        {
          "output_type": "display_data",
          "data": {
            "application/javascript": [
              "download(\"download_65cc712f-18d4-48b6-ab05-80401d93f260\", \"Xception 2021-02-25 1528.h5\", 250537392)"
            ],
            "text/plain": [
              "<IPython.core.display.Javascript object>"
            ]
          },
          "metadata": {
            "tags": []
          }
        }
      ]
    }
  ]
}