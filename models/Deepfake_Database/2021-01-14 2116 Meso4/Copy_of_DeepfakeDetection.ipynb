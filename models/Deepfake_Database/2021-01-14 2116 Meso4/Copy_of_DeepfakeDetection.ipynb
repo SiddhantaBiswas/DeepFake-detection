{
  "nbformat": 4,
  "nbformat_minor": 0,
  "metadata": {
    "accelerator": "GPU",
    "colab": {
      "name": "Copy of DeepfakeDetection.ipynb",
      "provenance": [],
      "collapsed_sections": []
    },
    "kernelspec": {
      "display_name": "Python 3",
      "name": "python3"
    }
  },
  "cells": [
    {
      "cell_type": "markdown",
      "metadata": {
        "id": "GMORKBUzCvVi"
      },
      "source": [
        "# Drive Mount"
      ]
    },
    {
      "cell_type": "code",
      "metadata": {
        "colab": {
          "base_uri": "https://localhost:8080/"
        },
        "id": "eEgqKYL6RwWG",
        "outputId": "bd456da4-2e05-4947-ccd4-a3957b537f40"
      },
      "source": [
        "\r\n",
        "from google.colab import drive\r\n",
        "drive.mount('/content/drive')\r\n",
        "\r\n",
        "dataset = \"/content/drive/My Drive/Thesis/deepfake-detection-master/deepfake_database.zip\"\r\n"
      ],
      "execution_count": 1,
      "outputs": [
        {
          "output_type": "stream",
          "text": [
            "Drive already mounted at /content/drive; to attempt to forcibly remount, call drive.mount(\"/content/drive\", force_remount=True).\n"
          ],
          "name": "stdout"
        }
      ]
    },
    {
      "cell_type": "markdown",
      "metadata": {
        "id": "vZzkKFyDSLjQ"
      },
      "source": [
        "## Extract dataset"
      ]
    },
    {
      "cell_type": "code",
      "metadata": {
        "id": "n74vJZ9TSM6o"
      },
      "source": [
        "%%capture\r\n",
        "!unzip -o \"/content/drive/My Drive/Thesis/deepfake-detection-master/deepfake_database.zip\" -d /content/"
      ],
      "execution_count": 2,
      "outputs": []
    },
    {
      "cell_type": "markdown",
      "metadata": {
        "id": "mL5YWlcaRUmV"
      },
      "source": [
        "# Preprocessing"
      ]
    },
    {
      "cell_type": "markdown",
      "metadata": {
        "id": "2IzxfOtWRXh_"
      },
      "source": [
        "## Folder Paths"
      ]
    },
    {
      "cell_type": "code",
      "metadata": {
        "id": "swQ3QKBB3Dnm"
      },
      "source": [
        "import os\n",
        "#directory = \"Desktop/Thesis/datasets/deepfake_database/deepfake_database/deepfake_database/train_test\"\n",
        "directory = os.path.join('deepfake_database', 'train_test')\n",
        "image_format = '.jpg'"
      ],
      "execution_count": 3,
      "outputs": []
    },
    {
      "cell_type": "markdown",
      "metadata": {
        "id": "UyLM4ImV_OGT"
      },
      "source": [
        "## Data Params"
      ]
    },
    {
      "cell_type": "code",
      "metadata": {
        "id": "tflJn6S__MzJ"
      },
      "source": [
        "BATCH_SIZE = 64\r\n",
        "SIZE = 256"
      ],
      "execution_count": 4,
      "outputs": []
    },
    {
      "cell_type": "markdown",
      "metadata": {
        "id": "gI_DMsLa8lql"
      },
      "source": [
        "## Store into tf.data.Dataset"
      ]
    },
    {
      "cell_type": "code",
      "metadata": {
        "colab": {
          "base_uri": "https://localhost:8080/",
          "height": 102
        },
        "id": "1VpZ8EXzc1Gy",
        "outputId": "75e3e0d5-335e-4eff-b41f-141f419f3504"
      },
      "source": [
        "from tensorflow.keras.preprocessing import image_dataset_from_directory\r\n",
        "'''\r\n",
        "training_dataset = image_dataset_from_directory(\r\n",
        "    directory,\r\n",
        "    labels=\"inferred\",\r\n",
        "    label_mode=\"binary\",\r\n",
        "    class_names=['df', 'real'],\r\n",
        "    color_mode=\"rgb\",\r\n",
        "    batch_size=BATCH_SIZE,\r\n",
        "    image_size=(SIZE, SIZE),\r\n",
        "    shuffle=True,\r\n",
        "    seed=123,\r\n",
        "    validation_split=0.2,\r\n",
        "    subset=\"training\",\r\n",
        "    interpolation=\"bilinear\",\r\n",
        ")\r\n",
        "\r\n",
        "validation_dataset = image_dataset_from_directory(\r\n",
        "    directory,\r\n",
        "    labels=\"inferred\",\r\n",
        "    label_mode=\"binary\",\r\n",
        "    class_names=['df', 'real'],\r\n",
        "    color_mode=\"rgb\",\r\n",
        "    batch_size=BATCH_SIZE,\r\n",
        "    image_size=(SIZE, SIZE),\r\n",
        "    shuffle=True,\r\n",
        "    seed=123,\r\n",
        "    validation_split=0.2,\r\n",
        "    subset=\"validation\",\r\n",
        "    interpolation=\"bilinear\",\r\n",
        ")\r\n",
        "'''"
      ],
      "execution_count": 5,
      "outputs": [
        {
          "output_type": "execute_result",
          "data": {
            "application/vnd.google.colaboratory.intrinsic+json": {
              "type": "string"
            },
            "text/plain": [
              "'\\ntraining_dataset = image_dataset_from_directory(\\n    directory,\\n    labels=\"inferred\",\\n    label_mode=\"binary\",\\n    class_names=[\\'df\\', \\'real\\'],\\n    color_mode=\"rgb\",\\n    batch_size=BATCH_SIZE,\\n    image_size=(SIZE, SIZE),\\n    shuffle=True,\\n    seed=123,\\n    validation_split=0.2,\\n    subset=\"training\",\\n    interpolation=\"bilinear\",\\n)\\n\\nvalidation_dataset = image_dataset_from_directory(\\n    directory,\\n    labels=\"inferred\",\\n    label_mode=\"binary\",\\n    class_names=[\\'df\\', \\'real\\'],\\n    color_mode=\"rgb\",\\n    batch_size=BATCH_SIZE,\\n    image_size=(SIZE, SIZE),\\n    shuffle=True,\\n    seed=123,\\n    validation_split=0.2,\\n    subset=\"validation\",\\n    interpolation=\"bilinear\",\\n)\\n'"
            ]
          },
          "metadata": {
            "tags": []
          },
          "execution_count": 5
        }
      ]
    },
    {
      "cell_type": "markdown",
      "metadata": {
        "id": "RJQmz1iYiJMf"
      },
      "source": [
        "## Store into DataGenerator"
      ]
    },
    {
      "cell_type": "code",
      "metadata": {
        "colab": {
          "base_uri": "https://localhost:8080/",
          "height": 85
        },
        "id": "4-vC-QTaiJMj",
        "outputId": "e908d260-0ceb-4e76-8e45-be9c37f4477c"
      },
      "source": [
        "from tensorflow.keras.preprocessing.image import ImageDataGenerator\r\n",
        "\r\n",
        "trainingGenerator = ImageDataGenerator(\r\n",
        "    rotation_range=10,\r\n",
        "    brightness_range= [0.5, 1.5],\r\n",
        "    shear_range=0.2,\r\n",
        "    zoom_range=[1.0, 1.3],\r\n",
        "    channel_shift_range=0.2,\r\n",
        "    horizontal_flip=True,\r\n",
        "    vertical_flip=False,\r\n",
        "    rescale=1./255,\r\n",
        "    fill_mode=\"constant\",\r\n",
        "    cval=0.0,\r\n",
        "    data_format=\"channels_last\",\r\n",
        "    validation_split=0.2,\r\n",
        ")\r\n",
        "\r\n",
        "validationGenerator = ImageDataGenerator(\r\n",
        "    rescale=1./255,\r\n",
        "    data_format=\"channels_last\",\r\n",
        "    validation_split=0.3,\r\n",
        ")\r\n",
        "\r\n",
        "training_dataset = trainingGenerator.flow_from_directory(\r\n",
        "    directory,\r\n",
        "    target_size=(SIZE, SIZE),\r\n",
        "    color_mode=\"rgb\",\r\n",
        "    classes=['df', 'real'],\r\n",
        "    class_mode=\"binary\",\r\n",
        "    batch_size=BATCH_SIZE,\r\n",
        "    shuffle=True,\r\n",
        "    seed=123,\r\n",
        "    subset=\"training\",\r\n",
        "    interpolation=\"nearest\",\r\n",
        ")\r\n",
        "\r\n",
        "validation_dataset = validationGenerator.flow_from_directory(\r\n",
        "    directory,\r\n",
        "    target_size=(SIZE, SIZE),\r\n",
        "    color_mode=\"rgb\",\r\n",
        "    classes=['df', 'real'],\r\n",
        "    class_mode=\"binary\",\r\n",
        "    batch_size=BATCH_SIZE,\r\n",
        "    shuffle=True,\r\n",
        "    seed=123,\r\n",
        "    subset=\"validation\",\r\n",
        "    interpolation=\"nearest\",\r\n",
        ")\r\n",
        "\r\n",
        "'''\r\n",
        "validation_gen = dataGenerator.flow(\r\n",
        "    validation_dataset,\r\n",
        "    target_size=(256, 256),\r\n",
        "    color_mode=\"rgb\",\r\n",
        "    classes=['df', 'real'],\r\n",
        "    class_mode=\"binary\",\r\n",
        "    batch_size=BATCH_SIZE,\r\n",
        "    shuffle=True,\r\n",
        "    seed=123,\r\n",
        "    save_to_dir=None,\r\n",
        "    subset=\"validation\",\r\n",
        ")\r\n",
        "'''"
      ],
      "execution_count": 6,
      "outputs": [
        {
          "output_type": "stream",
          "text": [
            "Found 9883 images belonging to 2 classes.\n",
            "Found 3705 images belonging to 2 classes.\n"
          ],
          "name": "stdout"
        },
        {
          "output_type": "execute_result",
          "data": {
            "application/vnd.google.colaboratory.intrinsic+json": {
              "type": "string"
            },
            "text/plain": [
              "'\\nvalidation_gen = dataGenerator.flow(\\n    validation_dataset,\\n    target_size=(256, 256),\\n    color_mode=\"rgb\",\\n    classes=[\\'df\\', \\'real\\'],\\n    class_mode=\"binary\",\\n    batch_size=BATCH_SIZE,\\n    shuffle=True,\\n    seed=123,\\n    save_to_dir=None,\\n    subset=\"validation\",\\n)\\n'"
            ]
          },
          "metadata": {
            "tags": []
          },
          "execution_count": 6
        }
      ]
    },
    {
      "cell_type": "markdown",
      "metadata": {
        "id": "GoKLp9K-8y5h"
      },
      "source": [
        "# Model"
      ]
    },
    {
      "cell_type": "markdown",
      "metadata": {
        "id": "a1gIgLtx9E6R"
      },
      "source": [
        "## Model Params"
      ]
    },
    {
      "cell_type": "code",
      "metadata": {
        "id": "SvKbFuWL12jf",
        "colab": {
          "base_uri": "https://localhost:8080/"
        },
        "outputId": "8bd2882e-3a69-4558-de1a-06752607b797"
      },
      "source": [
        "input_shape = (SIZE, SIZE, 3)\n",
        "learning_rate = 0.001\n",
        "dl_rate = 1\n",
        "EPOCHS = 50\n",
        "ITERATIONS = len(training_dataset) * EPOCHS\n",
        "print(ITERATIONS)"
      ],
      "execution_count": 7,
      "outputs": [
        {
          "output_type": "stream",
          "text": [
            "7750\n"
          ],
          "name": "stdout"
        }
      ]
    },
    {
      "cell_type": "markdown",
      "metadata": {
        "id": "JQmxao2Y7lU0"
      },
      "source": [
        "## LR Decay"
      ]
    },
    {
      "cell_type": "code",
      "metadata": {
        "id": "KAqFOJ3i7n85",
        "colab": {
          "base_uri": "https://localhost:8080/",
          "height": 68
        },
        "outputId": "73515125-8ad6-46f2-a264-288330071c0e"
      },
      "source": [
        "'''\r\n",
        "import tensorflow as tf\r\n",
        "from keras.optimizers.schedules import PiecewiseConstantDecay\r\n",
        "step = tf.Variable(0, trainable=False)\r\n",
        "boundaries = [1000, 1000, 1000]\r\n",
        "values = [0.001, 0.0001, 0.00001, 0.000001]\r\n",
        "learning_rate_fn = PiecewiseConstantDecay(boundaries, values)\r\n",
        "\r\n",
        "# Later, whenever we perform an optimization step, we pass in the step.\r\n",
        "learning_rate = learning_rate_fn(step)\r\n",
        "\r\n",
        "'''"
      ],
      "execution_count": 8,
      "outputs": [
        {
          "output_type": "execute_result",
          "data": {
            "application/vnd.google.colaboratory.intrinsic+json": {
              "type": "string"
            },
            "text/plain": [
              "'\\nimport tensorflow as tf\\nfrom keras.optimizers.schedules import PiecewiseConstantDecay\\nstep = tf.Variable(0, trainable=False)\\nboundaries = [1000, 1000, 1000]\\nvalues = [0.001, 0.0001, 0.00001, 0.000001]\\nlearning_rate_fn = PiecewiseConstantDecay(boundaries, values)\\n\\n# Later, whenever we perform an optimization step, we pass in the step.\\nlearning_rate = learning_rate_fn(step)\\n\\n'"
            ]
          },
          "metadata": {
            "tags": []
          },
          "execution_count": 8
        }
      ]
    },
    {
      "cell_type": "code",
      "metadata": {
        "id": "gEIpLlfDAQV3"
      },
      "source": [
        "# This function keeps the initial learning rate for the first ten epochs  \r\n",
        "# and decreases it exponentially after that.  \r\n",
        "def scheduler(epoch, lr):\r\n",
        "    print(\"{0:.8f}\".format(lr))\r\n",
        "    if epoch < 20:\r\n",
        "        return 0.001 # lr = 0.001\r\n",
        "    elif epoch >= 20 and epoch < 30:\r\n",
        "        return 0.001 # lr = 0.00001\r\n",
        "    elif epoch >= 30 and epoch < 40:\r\n",
        "        return 0.0001 # lr = 0.00001\r\n",
        "    elif epoch >= 40:\r\n",
        "        return 0.0001 # lr = 0.000001"
      ],
      "execution_count": 9,
      "outputs": []
    },
    {
      "cell_type": "markdown",
      "metadata": {
        "id": "zrFN4dtH_KE0"
      },
      "source": [
        "## Custom Callback"
      ]
    },
    {
      "cell_type": "markdown",
      "metadata": {
        "id": "VJ3ZUFXa9HOI"
      },
      "source": [
        "## Compile Model"
      ]
    },
    {
      "cell_type": "code",
      "metadata": {
        "colab": {
          "base_uri": "https://localhost:8080/"
        },
        "id": "7KtJAfOWjQm2",
        "outputId": "a3dd649a-5200-4510-8e5b-5913e3454724"
      },
      "source": [
        "from keras.models import Model as KerasModel\n",
        "from keras.models import Sequential\n",
        "from keras.layers import Input, Dense, Flatten, Conv2D, MaxPooling2D, BatchNormalization, Dropout, Reshape, Concatenate, LeakyReLU\n",
        "from keras.optimizers import Adam\n",
        "\n",
        "%run -i 'classifiers.py'\n",
        "\n",
        "model, modelName = Meso4(input_shape)\n",
        "optimizer = Adam(lr = learning_rate)\n",
        "model.compile(optimizer = optimizer, loss = 'mean_squared_error', metrics = ['accuracy'])\n",
        "# round(model.optimizer.lr.numpy(), 5)\n",
        "# model.summary()\n",
        "print(modelName)"
      ],
      "execution_count": 10,
      "outputs": [
        {
          "output_type": "stream",
          "text": [
            "Meso4\n"
          ],
          "name": "stdout"
        }
      ]
    },
    {
      "cell_type": "markdown",
      "metadata": {
        "id": "ndb3w9pB9LB2"
      },
      "source": [
        "# Training"
      ]
    },
    {
      "cell_type": "markdown",
      "metadata": {
        "id": "1yAJ1a-e9djn"
      },
      "source": [
        "## Fit Model"
      ]
    },
    {
      "cell_type": "code",
      "metadata": {
        "colab": {
          "base_uri": "https://localhost:8080/"
        },
        "id": "-8Fwh4Gx12j7",
        "outputId": "3520ae7b-f2b8-4580-ba40-2685baa87158"
      },
      "source": [
        "from tensorflow import keras\n",
        "import keras.backend as K\n",
        "\n",
        "callback = keras.callbacks.LearningRateScheduler(scheduler)\n",
        "\n",
        "history = model.fit(\n",
        "    training_dataset, \n",
        "    epochs=EPOCHS, \n",
        "    validation_data=validation_dataset, \n",
        "    verbose = 1, \n",
        "    callbacks=[callback], \n",
        "    workers=4,\n",
        "    use_multiprocessing=False,)\n",
        "\n",
        "round(model.optimizer.lr.numpy(), 5)\n"
      ],
      "execution_count": 11,
      "outputs": [
        {
          "output_type": "stream",
          "text": [
            "Epoch 1/50\n",
            "0.00100000\n",
            "155/155 [==============================] - 173s 1s/step - loss: 0.3207 - accuracy: 0.5887 - val_loss: 0.3929 - val_accuracy: 0.4130\n",
            "Epoch 2/50\n",
            "0.00100000\n",
            "155/155 [==============================] - 165s 1s/step - loss: 0.1781 - accuracy: 0.7366 - val_loss: 0.3929 - val_accuracy: 0.4178\n",
            "Epoch 3/50\n",
            "0.00100000\n",
            "155/155 [==============================] - 167s 1s/step - loss: 0.1308 - accuracy: 0.8198 - val_loss: 0.1888 - val_accuracy: 0.7374\n",
            "Epoch 4/50\n",
            "0.00100000\n",
            "155/155 [==============================] - 167s 1s/step - loss: 0.1081 - accuracy: 0.8482 - val_loss: 0.1578 - val_accuracy: 0.7595\n",
            "Epoch 5/50\n",
            "0.00100000\n",
            "155/155 [==============================] - 166s 1s/step - loss: 0.1007 - accuracy: 0.8623 - val_loss: 0.1457 - val_accuracy: 0.7779\n",
            "Epoch 6/50\n",
            "0.00100000\n",
            "155/155 [==============================] - 167s 1s/step - loss: 0.0899 - accuracy: 0.8796 - val_loss: 0.1506 - val_accuracy: 0.7811\n",
            "Epoch 7/50\n",
            "0.00100000\n",
            "155/155 [==============================] - 166s 1s/step - loss: 0.0854 - accuracy: 0.8832 - val_loss: 0.2546 - val_accuracy: 0.6632\n",
            "Epoch 8/50\n",
            "0.00100000\n",
            "155/155 [==============================] - 163s 1s/step - loss: 0.0846 - accuracy: 0.8844 - val_loss: 0.1312 - val_accuracy: 0.8162\n",
            "Epoch 9/50\n",
            "0.00100000\n",
            "155/155 [==============================] - 165s 1s/step - loss: 0.0735 - accuracy: 0.9015 - val_loss: 0.1402 - val_accuracy: 0.8024\n",
            "Epoch 10/50\n",
            "0.00100000\n",
            "155/155 [==============================] - 166s 1s/step - loss: 0.0687 - accuracy: 0.9108 - val_loss: 0.1835 - val_accuracy: 0.7611\n",
            "Epoch 11/50\n",
            "0.00100000\n",
            "155/155 [==============================] - 166s 1s/step - loss: 0.0702 - accuracy: 0.9094 - val_loss: 0.1338 - val_accuracy: 0.8146\n",
            "Epoch 12/50\n",
            "0.00100000\n",
            "155/155 [==============================] - 164s 1s/step - loss: 0.0667 - accuracy: 0.9114 - val_loss: 0.1103 - val_accuracy: 0.8534\n",
            "Epoch 13/50\n",
            "0.00100000\n",
            "155/155 [==============================] - 162s 1s/step - loss: 0.0631 - accuracy: 0.9186 - val_loss: 0.1430 - val_accuracy: 0.8013\n",
            "Epoch 14/50\n",
            "0.00100000\n",
            "155/155 [==============================] - 163s 1s/step - loss: 0.0573 - accuracy: 0.9250 - val_loss: 0.1479 - val_accuracy: 0.7997\n",
            "Epoch 15/50\n",
            "0.00100000\n",
            "155/155 [==============================] - 160s 1s/step - loss: 0.0529 - accuracy: 0.9303 - val_loss: 0.2637 - val_accuracy: 0.6818\n",
            "Epoch 16/50\n",
            "0.00100000\n",
            "155/155 [==============================] - 161s 1s/step - loss: 0.0555 - accuracy: 0.9264 - val_loss: 0.1353 - val_accuracy: 0.8213\n",
            "Epoch 17/50\n",
            "0.00100000\n",
            "155/155 [==============================] - 163s 1s/step - loss: 0.0517 - accuracy: 0.9319 - val_loss: 0.1241 - val_accuracy: 0.8318\n",
            "Epoch 18/50\n",
            "0.00100000\n",
            "155/155 [==============================] - 166s 1s/step - loss: 0.0490 - accuracy: 0.9368 - val_loss: 0.1261 - val_accuracy: 0.8305\n",
            "Epoch 19/50\n",
            "0.00100000\n",
            "155/155 [==============================] - 165s 1s/step - loss: 0.0499 - accuracy: 0.9343 - val_loss: 0.2230 - val_accuracy: 0.7287\n",
            "Epoch 20/50\n",
            "0.00100000\n",
            "155/155 [==============================] - 163s 1s/step - loss: 0.0455 - accuracy: 0.9433 - val_loss: 0.1121 - val_accuracy: 0.8505\n",
            "Epoch 21/50\n",
            "0.00100000\n",
            "155/155 [==============================] - 162s 1s/step - loss: 0.0486 - accuracy: 0.9350 - val_loss: 0.1406 - val_accuracy: 0.8105\n",
            "Epoch 22/50\n",
            "0.00100000\n",
            "155/155 [==============================] - 164s 1s/step - loss: 0.0475 - accuracy: 0.9404 - val_loss: 0.1439 - val_accuracy: 0.8173\n",
            "Epoch 23/50\n",
            "0.00100000\n",
            "155/155 [==============================] - 163s 1s/step - loss: 0.0430 - accuracy: 0.9444 - val_loss: 0.1240 - val_accuracy: 0.8294\n",
            "Epoch 24/50\n",
            "0.00100000\n",
            "155/155 [==============================] - 163s 1s/step - loss: 0.0395 - accuracy: 0.9479 - val_loss: 0.2138 - val_accuracy: 0.7520\n",
            "Epoch 25/50\n",
            "0.00100000\n",
            "155/155 [==============================] - 165s 1s/step - loss: 0.0419 - accuracy: 0.9464 - val_loss: 0.1437 - val_accuracy: 0.8211\n",
            "Epoch 26/50\n",
            "0.00100000\n",
            "155/155 [==============================] - 166s 1s/step - loss: 0.0382 - accuracy: 0.9505 - val_loss: 0.1470 - val_accuracy: 0.8089\n",
            "Epoch 27/50\n",
            "0.00100000\n",
            "155/155 [==============================] - 164s 1s/step - loss: 0.0391 - accuracy: 0.9477 - val_loss: 0.1418 - val_accuracy: 0.8146\n",
            "Epoch 28/50\n",
            "0.00100000\n",
            "155/155 [==============================] - 165s 1s/step - loss: 0.0370 - accuracy: 0.9547 - val_loss: 0.2160 - val_accuracy: 0.7350\n",
            "Epoch 29/50\n",
            "0.00100000\n",
            "155/155 [==============================] - 164s 1s/step - loss: 0.0350 - accuracy: 0.9559 - val_loss: 0.1446 - val_accuracy: 0.8121\n",
            "Epoch 30/50\n",
            "0.00100000\n",
            "155/155 [==============================] - 162s 1s/step - loss: 0.0382 - accuracy: 0.9500 - val_loss: 0.1548 - val_accuracy: 0.7973\n",
            "Epoch 31/50\n",
            "0.00100000\n",
            "155/155 [==============================] - 162s 1s/step - loss: 0.0282 - accuracy: 0.9633 - val_loss: 0.1443 - val_accuracy: 0.8143\n",
            "Epoch 32/50\n",
            "0.00010000\n",
            "155/155 [==============================] - 162s 1s/step - loss: 0.0292 - accuracy: 0.9637 - val_loss: 0.1534 - val_accuracy: 0.8011\n",
            "Epoch 33/50\n",
            "0.00010000\n",
            "155/155 [==============================] - 162s 1s/step - loss: 0.0279 - accuracy: 0.9652 - val_loss: 0.1566 - val_accuracy: 0.8008\n",
            "Epoch 34/50\n",
            "0.00010000\n",
            "155/155 [==============================] - 163s 1s/step - loss: 0.0273 - accuracy: 0.9663 - val_loss: 0.1472 - val_accuracy: 0.8094\n",
            "Epoch 35/50\n",
            "0.00010000\n",
            "155/155 [==============================] - 161s 1s/step - loss: 0.0261 - accuracy: 0.9675 - val_loss: 0.1544 - val_accuracy: 0.8019\n",
            "Epoch 36/50\n",
            "0.00010000\n",
            "155/155 [==============================] - 161s 1s/step - loss: 0.0252 - accuracy: 0.9685 - val_loss: 0.1482 - val_accuracy: 0.8070\n",
            "Epoch 37/50\n",
            "0.00010000\n",
            "155/155 [==============================] - 162s 1s/step - loss: 0.0226 - accuracy: 0.9712 - val_loss: 0.1462 - val_accuracy: 0.8121\n",
            "Epoch 38/50\n",
            "0.00010000\n",
            "155/155 [==============================] - 161s 1s/step - loss: 0.0239 - accuracy: 0.9708 - val_loss: 0.1539 - val_accuracy: 0.8040\n",
            "Epoch 39/50\n",
            "0.00010000\n",
            "155/155 [==============================] - 163s 1s/step - loss: 0.0247 - accuracy: 0.9695 - val_loss: 0.1570 - val_accuracy: 0.7989\n",
            "Epoch 40/50\n",
            "0.00010000\n",
            "155/155 [==============================] - 164s 1s/step - loss: 0.0242 - accuracy: 0.9710 - val_loss: 0.1522 - val_accuracy: 0.8076\n",
            "Epoch 41/50\n",
            "0.00010000\n",
            "155/155 [==============================] - 165s 1s/step - loss: 0.0239 - accuracy: 0.9710 - val_loss: 0.1614 - val_accuracy: 0.7927\n",
            "Epoch 42/50\n",
            "0.00010000\n",
            "155/155 [==============================] - 165s 1s/step - loss: 0.0244 - accuracy: 0.9706 - val_loss: 0.1517 - val_accuracy: 0.8084\n",
            "Epoch 43/50\n",
            "0.00010000\n",
            "155/155 [==============================] - 165s 1s/step - loss: 0.0243 - accuracy: 0.9705 - val_loss: 0.1503 - val_accuracy: 0.8073\n",
            "Epoch 44/50\n",
            "0.00010000\n",
            "155/155 [==============================] - 166s 1s/step - loss: 0.0240 - accuracy: 0.9709 - val_loss: 0.1520 - val_accuracy: 0.8046\n",
            "Epoch 45/50\n",
            "0.00010000\n",
            "155/155 [==============================] - 166s 1s/step - loss: 0.0232 - accuracy: 0.9704 - val_loss: 0.1641 - val_accuracy: 0.7895\n",
            "Epoch 46/50\n",
            "0.00010000\n",
            "155/155 [==============================] - 162s 1s/step - loss: 0.0240 - accuracy: 0.9707 - val_loss: 0.1485 - val_accuracy: 0.8124\n",
            "Epoch 47/50\n",
            "0.00010000\n",
            "155/155 [==============================] - 162s 1s/step - loss: 0.0208 - accuracy: 0.9736 - val_loss: 0.1430 - val_accuracy: 0.8211\n",
            "Epoch 48/50\n",
            "0.00010000\n",
            "155/155 [==============================] - 160s 1s/step - loss: 0.0228 - accuracy: 0.9717 - val_loss: 0.1579 - val_accuracy: 0.8013\n",
            "Epoch 49/50\n",
            "0.00010000\n",
            "155/155 [==============================] - 160s 1s/step - loss: 0.0222 - accuracy: 0.9732 - val_loss: 0.1575 - val_accuracy: 0.8059\n",
            "Epoch 50/50\n",
            "0.00010000\n",
            "155/155 [==============================] - 160s 1s/step - loss: 0.0211 - accuracy: 0.9735 - val_loss: 0.1435 - val_accuracy: 0.8184\n"
          ],
          "name": "stdout"
        },
        {
          "output_type": "execute_result",
          "data": {
            "text/plain": [
              "1e-04"
            ]
          },
          "metadata": {
            "tags": []
          },
          "execution_count": 11
        }
      ]
    },
    {
      "cell_type": "markdown",
      "metadata": {
        "id": "4aFK3oTaWIaR"
      },
      "source": [
        ""
      ]
    },
    {
      "cell_type": "markdown",
      "metadata": {
        "id": "Vafzh39d9VZ2"
      },
      "source": [
        "## Training and Validation Graphs"
      ]
    },
    {
      "cell_type": "code",
      "metadata": {
        "colab": {
          "base_uri": "https://localhost:8080/",
          "height": 308
        },
        "id": "JmIarIkj3Dn8",
        "outputId": "157d8127-d768-46a8-e481-c387c88b031e"
      },
      "source": [
        "import matplotlib.pyplot as plt\n",
        "import numpy as np\n",
        "\n",
        "f, (ax1, ax2) = plt.subplots(1, 2, figsize=(20, 4))\n",
        "t = f.suptitle('Training and Validation Performance for ' + modelName, fontsize=12)\n",
        "f.subplots_adjust(top=0.85, wspace=0.3)\n",
        "\n",
        "epoch_list = list(range(1,EPOCHS+1))\n",
        "ax1.plot(epoch_list, history.history['accuracy'], label='Train Accuracy')\n",
        "ax1.plot(epoch_list, history.history['val_accuracy'], label='Validation Accuracy')\n",
        "ax1.set_xticks(np.arange(0, EPOCHS+1, 1))\n",
        "ax1.set_ylabel('Accuracy Value')\n",
        "ax1.set_xlabel('Epoch #')\n",
        "ax1.set_title('Accuracy')\n",
        "l1 = ax1.legend(loc=\"best\")\n",
        "\n",
        "ax2.plot(epoch_list, history.history['loss'], label='Train Loss')\n",
        "ax2.plot(epoch_list, history.history['val_loss'], label='Validation Loss')\n",
        "ax2.set_xticks(np.arange(0, EPOCHS+1, 1))\n",
        "ax2.set_ylabel('Loss Value')\n",
        "ax2.set_xlabel('Epoch #')\n",
        "ax2.set_title('Loss')\n",
        "l2 = ax2.legend(loc=\"best\")"
      ],
      "execution_count": 12,
      "outputs": [
        {
          "output_type": "display_data",
          "data": {
            "image/png": "[encoded data removed]",
            "text/plain": [
              "<Figure size 1440x288 with 2 Axes>"
            ]
          },
          "metadata": {
            "tags": [],
            "needs_background": "light"
          }
        }
      ]
    },
    {
      "cell_type": "markdown",
      "metadata": {
        "id": "GSyUbKcWMWrB"
      },
      "source": [
        "# Prediction"
      ]
    },
    {
      "cell_type": "markdown",
      "metadata": {
        "id": "HuYpoWhHb7Kc"
      },
      "source": [
        "## Folder Paths"
      ]
    },
    {
      "cell_type": "code",
      "metadata": {
        "id": "fipmUqa-b7Kh"
      },
      "source": [
        "import os\n",
        "directory = os.path.join('deepfake_database', 'validation')\n",
        "image_format = '.jpg'"
      ],
      "execution_count": 13,
      "outputs": []
    },
    {
      "cell_type": "markdown",
      "metadata": {
        "id": "rgnjCQe-MjLH"
      },
      "source": [
        "## Store into tf.data.Dataset"
      ]
    },
    {
      "cell_type": "code",
      "metadata": {
        "colab": {
          "base_uri": "https://localhost:8080/"
        },
        "id": "VUP8SY_lMUdG",
        "outputId": "53563396-6a1a-4102-bfc3-f5840ba0e9ad"
      },
      "source": [
        "from tensorflow.keras.preprocessing import image_dataset_from_directory\r\n",
        "\r\n",
        "test_dataset = image_dataset_from_directory(\r\n",
        "    directory,\r\n",
        "    labels=\"inferred\",\r\n",
        "    label_mode=\"binary\",\r\n",
        "    class_names=['df', 'real'],\r\n",
        "    color_mode=\"rgb\",\r\n",
        "    batch_size=BATCH_SIZE,\r\n",
        "    image_size=(SIZE, SIZE),\r\n",
        "    shuffle=False,\r\n",
        "    interpolation=\"bilinear\",\r\n",
        ")"
      ],
      "execution_count": 14,
      "outputs": [
        {
          "output_type": "stream",
          "text": [
            "Found 7104 files belonging to 2 classes.\n"
          ],
          "name": "stdout"
        }
      ]
    },
    {
      "cell_type": "markdown",
      "metadata": {
        "id": "oAqU-RLekwDI"
      },
      "source": [
        "## Make Prediction"
      ]
    },
    {
      "cell_type": "code",
      "metadata": {
        "colab": {
          "base_uri": "https://localhost:8080/"
        },
        "id": "EYf9QXMNbkcB",
        "outputId": "f9c98507-b3b6-41e4-b8c9-857999e0735a"
      },
      "source": [
        "import numpy as np\r\n",
        "Y_pred = (model.predict(test_dataset, verbose=1) > 0.5).astype(\"int32\")"
      ],
      "execution_count": 15,
      "outputs": [
        {
          "output_type": "stream",
          "text": [
            "111/111 [==============================] - 20s 175ms/step\n"
          ],
          "name": "stdout"
        }
      ]
    },
    {
      "cell_type": "markdown",
      "metadata": {
        "id": "GUFjwc-Nk3ZR"
      },
      "source": [
        "## Read Original Labels"
      ]
    },
    {
      "cell_type": "code",
      "metadata": {
        "id": "sgCeGiX-ewNd"
      },
      "source": [
        "Y_test = []\r\n",
        "for img_array, label in (test_dataset.as_numpy_iterator()):\r\n",
        "    Y_test.append(label)"
      ],
      "execution_count": 16,
      "outputs": []
    },
    {
      "cell_type": "markdown",
      "metadata": {
        "id": "hy-gsprKk-u9"
      },
      "source": [
        "## Flatten Original and Prediction label arrays"
      ]
    },
    {
      "cell_type": "code",
      "metadata": {
        "id": "KBayYJHCtFsX"
      },
      "source": [
        "import numpy as np\r\n",
        "\r\n",
        "original_labels = []\r\n",
        "original_labels = list(np.concatenate(Y_test).flat)\r\n",
        "original_labels = np.array(original_labels)\r\n",
        "\r\n",
        "predicted_labels = []\r\n",
        "predicted_labels = list(np.concatenate(Y_pred).flat)\r\n",
        "predicted_labels = np.array(predicted_labels)"
      ],
      "execution_count": 17,
      "outputs": []
    },
    {
      "cell_type": "markdown",
      "metadata": {
        "id": "fnPxkC2timnb"
      },
      "source": [
        "## Classification Report"
      ]
    },
    {
      "cell_type": "code",
      "metadata": {
        "id": "VKztxwp4ibct",
        "colab": {
          "base_uri": "https://localhost:8080/"
        },
        "outputId": "6268910f-b404-4764-d5c6-8bd57064257e"
      },
      "source": [
        "from sklearn.metrics import classification_report\n",
        "classificationReport = classification_report(original_labels, predicted_labels, target_names=test_dataset.class_names)\n",
        "print(classificationReport)"
      ],
      "execution_count": 18,
      "outputs": [
        {
          "output_type": "stream",
          "text": [
            "              precision    recall  f1-score   support\n",
            "\n",
            "          df       0.90      0.82      0.86      2845\n",
            "        real       0.89      0.94      0.91      4259\n",
            "\n",
            "    accuracy                           0.89      7104\n",
            "   macro avg       0.89      0.88      0.89      7104\n",
            "weighted avg       0.89      0.89      0.89      7104\n",
            "\n"
          ],
          "name": "stdout"
        }
      ]
    },
    {
      "cell_type": "markdown",
      "metadata": {
        "id": "lZI6-stDS_ol"
      },
      "source": [
        "## Confusion Matrix"
      ]
    },
    {
      "cell_type": "code",
      "metadata": {
        "id": "_l-PorZI3DoB",
        "colab": {
          "base_uri": "https://localhost:8080/",
          "height": 402
        },
        "outputId": "eaddabe6-30ff-47d0-d477-4087ac6df9aa"
      },
      "source": [
        "#Output confusion matrix\n",
        "from sklearn.metrics import confusion_matrix\n",
        "import pandas as pd\n",
        "import seaborn as sn\n",
        "import matplotlib.pyplot as plt\n",
        "\n",
        "def print_confusion_matrix(y_true, y_pred):\n",
        "    cm = confusion_matrix(y_true, y_pred)\n",
        "    print('True positive = ', cm[0][0])\n",
        "    print('False positive = ', cm[0][1])\n",
        "    print('False negative = ', cm[1][0])\n",
        "    print('True negative = ', cm[1][1])\n",
        "    print('\\n')\n",
        "    df_cm = pd.DataFrame(cm, range(2), range(2))\n",
        "    sn.set(font_scale=1.4) # for label size\n",
        "    sn.heatmap(df_cm, annot=True, annot_kws={\"size\": 16}, cmap=\"YlGnBu\") # font size\n",
        "    plt.ylabel('Actual label', size = 20)\n",
        "    plt.xlabel('Predicted label', size = 20)\n",
        "    plt.xticks(np.arange(2), test_dataset.class_names, size = 16)\n",
        "    plt.yticks(np.arange(2), test_dataset.class_names, size = 16)\n",
        "    plt.ylim([2, 0])\n",
        "    plt.show()\n",
        "    return cm\n",
        "    \n",
        "confusionMatrix = print_confusion_matrix(original_labels, predicted_labels)"
      ],
      "execution_count": 19,
      "outputs": [
        {
          "output_type": "stream",
          "text": [
            "True positive =  2337\n",
            "False positive =  508\n",
            "False negative =  262\n",
            "True negative =  3997\n",
            "\n",
            "\n"
          ],
          "name": "stdout"
        },
        {
          "output_type": "display_data",
          "data": {
            "image/png": "[encoded data removed]",
            "text/plain": [
              "<Figure size 432x288 with 2 Axes>"
            ]
          },
          "metadata": {
            "tags": []
          }
        }
      ]
    },
    {
      "cell_type": "markdown",
      "metadata": {
        "id": "Go_uGCTqU5XR"
      },
      "source": [
        "# Write to File"
      ]
    },
    {
      "cell_type": "code",
      "metadata": {
        "id": "9W4SCXEZU7SB"
      },
      "source": [
        "import os\r\n",
        "\r\n",
        "tp = str('True positive = '+ str(confusionMatrix[0][0]) + '\\n')\r\n",
        "fp = str('False positive = '+ str(confusionMatrix[0][1]) + '\\n')\r\n",
        "fn = str('False negative = '+ str(confusionMatrix[1][0]) + '\\n')\r\n",
        "tn = str('True negative = '+ str(confusionMatrix[1][1]) + '\\n')\r\n",
        "\r\n",
        "data = (\r\n",
        "    'Model Name: ' + str(modelName) + '\\n' +\r\n",
        "    'Batch Size: ' + str(BATCH_SIZE) + '\\n' +\r\n",
        "    'Image Size: ' + str(SIZE) + '\\n' +\r\n",
        "    'Epochs: ' + str(EPOCHS) + '\\n' +\r\n",
        "    'Iterations: ' + str(ITERATIONS) + '\\n' +\r\n",
        "    '===================================================== \\n\\n' +\r\n",
        "    str(classificationReport) + '\\n' + str(tp + fp + fn + tn)\r\n",
        ")\r\n",
        "\r\n",
        "from datetime import datetime \r\n",
        "import pytz \r\n",
        "  \r\n",
        "# get the standard UTC time  \r\n",
        "UTC = pytz.utc \r\n",
        "  \r\n",
        "# it will get the time zone  \r\n",
        "# of the specified location \r\n",
        "IST = pytz.timezone('Asia/Kolkata') \r\n",
        "  \r\n",
        "datetime_ist = datetime.now(IST) \r\n",
        "filename = ('Report ' + datetime_ist.strftime('%Y-%m-%d %H%M') + ' ' + modelName + '.txt')\r\n",
        "\r\n",
        "myFile = open(filename, 'w')\r\n",
        "myFile.write(data)\r\n",
        "myFile.close()\r\n",
        "\r\n",
        "model.save(modelName + ' ' + datetime_ist.strftime('%Y-%m-%d %H%M') + '.h5')"
      ],
      "execution_count": 20,
      "outputs": []
    }
  ]
}