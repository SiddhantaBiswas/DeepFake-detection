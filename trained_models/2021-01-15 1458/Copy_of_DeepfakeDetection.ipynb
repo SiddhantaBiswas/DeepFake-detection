{
  "nbformat": 4,
  "nbformat_minor": 0,
  "metadata": {
    "accelerator": "GPU",
    "colab": {
      "name": "Copy of DeepfakeDetection.ipynb",
      "provenance": [],
      "collapsed_sections": [],
      "toc_visible": true
    },
    "kernelspec": {
      "display_name": "Python 3",
      "name": "python3"
    }
  },
  "cells": [
    {
      "cell_type": "markdown",
      "metadata": {
        "id": "GMORKBUzCvVi"
      },
      "source": [
        "# Drive Mount"
      ]
    },
    {
      "cell_type": "code",
      "metadata": {
        "colab": {
          "base_uri": "https://localhost:8080/"
        },
        "id": "eEgqKYL6RwWG",
        "outputId": "0927cd6a-8562-4b80-b82c-d90b51c897d7"
      },
      "source": [
        "\r\n",
        "from google.colab import drive\r\n",
        "drive.mount('/content/drive')\r\n",
        "\r\n",
        "dataset = \"/content/drive/My Drive/Thesis/deepfake-detection-master/deepfake_database.zip\"\r\n"
      ],
      "execution_count": 1,
      "outputs": [
        {
          "output_type": "stream",
          "text": [
            "Mounted at /content/drive\n"
          ],
          "name": "stdout"
        }
      ]
    },
    {
      "cell_type": "markdown",
      "metadata": {
        "id": "vZzkKFyDSLjQ"
      },
      "source": [
        "## Extract dataset"
      ]
    },
    {
      "cell_type": "code",
      "metadata": {
        "id": "n74vJZ9TSM6o"
      },
      "source": [
        "%%capture\r\n",
        "!unzip -o \"/content/drive/My Drive/Thesis/deepfake-detection-master/deepfake_database.zip\" -d /content/"
      ],
      "execution_count": 2,
      "outputs": []
    },
    {
      "cell_type": "markdown",
      "metadata": {
        "id": "mL5YWlcaRUmV"
      },
      "source": [
        "# Preprocessing"
      ]
    },
    {
      "cell_type": "markdown",
      "metadata": {
        "id": "2IzxfOtWRXh_"
      },
      "source": [
        "## Folder Paths"
      ]
    },
    {
      "cell_type": "code",
      "metadata": {
        "id": "swQ3QKBB3Dnm"
      },
      "source": [
        "import os\n",
        "#directory = \"Desktop/Thesis/datasets/deepfake_database/deepfake_database/deepfake_database/train_test\"\n",
        "directory = os.path.join('deepfake_database', 'train_test')\n",
        "image_format = '.jpg'"
      ],
      "execution_count": 3,
      "outputs": []
    },
    {
      "cell_type": "markdown",
      "metadata": {
        "id": "UyLM4ImV_OGT"
      },
      "source": [
        "## Data Params"
      ]
    },
    {
      "cell_type": "code",
      "metadata": {
        "id": "tflJn6S__MzJ"
      },
      "source": [
        "BATCH_SIZE = 64\r\n",
        "SIZE = 256"
      ],
      "execution_count": 4,
      "outputs": []
    },
    {
      "cell_type": "markdown",
      "metadata": {
        "id": "gI_DMsLa8lql"
      },
      "source": [
        "## Store into tf.data.Dataset"
      ]
    },
    {
      "cell_type": "code",
      "metadata": {
        "colab": {
          "base_uri": "https://localhost:8080/"
        },
        "id": "1VpZ8EXzc1Gy",
        "outputId": "475d1984-bfe1-4f8c-f8fb-1b329d95a571"
      },
      "source": [
        "from tensorflow.keras.preprocessing import image_dataset_from_directory\r\n",
        "\r\n",
        "training_dataset = image_dataset_from_directory(\r\n",
        "    directory,\r\n",
        "    labels=\"inferred\",\r\n",
        "    label_mode=\"binary\",\r\n",
        "    class_names=['df', 'real'],\r\n",
        "    color_mode=\"rgb\",\r\n",
        "    batch_size=BATCH_SIZE,\r\n",
        "    image_size=(SIZE, SIZE),\r\n",
        "    shuffle=True,\r\n",
        "    seed=123,\r\n",
        "    validation_split=0.2,\r\n",
        "    subset=\"training\",\r\n",
        "    interpolation=\"bilinear\",\r\n",
        ")\r\n",
        "\r\n",
        "validation_dataset = image_dataset_from_directory(\r\n",
        "    directory,\r\n",
        "    labels=\"inferred\",\r\n",
        "    label_mode=\"binary\",\r\n",
        "    class_names=['df', 'real'],\r\n",
        "    color_mode=\"rgb\",\r\n",
        "    batch_size=BATCH_SIZE,\r\n",
        "    image_size=(SIZE, SIZE),\r\n",
        "    shuffle=True,\r\n",
        "    seed=123,\r\n",
        "    validation_split=0.2,\r\n",
        "    subset=\"validation\",\r\n",
        "    interpolation=\"bilinear\",\r\n",
        ")\r\n"
      ],
      "execution_count": 5,
      "outputs": [
        {
          "output_type": "stream",
          "text": [
            "Found 12353 files belonging to 2 classes.\n",
            "Using 9883 files for training.\n",
            "Found 12353 files belonging to 2 classes.\n",
            "Using 2470 files for validation.\n"
          ],
          "name": "stdout"
        }
      ]
    },
    {
      "cell_type": "code",
      "metadata": {
        "id": "MqPxOw_MSUV-"
      },
      "source": [
        "import tensorflow as tf\r\n",
        "\r\n",
        "def augment(image, label):\r\n",
        "    image = tf.image.random_brightness(image, max_delta=0.3)\r\n",
        "    image = tf.image.random_contrast(image, lower=0.1, upper=0.3)\r\n",
        "    image = tf.image.random_flip_left_right(image)\r\n",
        "    tf.image.random_hue(image, max_delta=0.3)\r\n",
        "    tf.image.random_jpeg_quality(image, min_jpeg_quality=70, max_jpeg_quality=100)\r\n",
        "    return image, label\r\n",
        "\r\n",
        "training_dataset = training_dataset.map(augment)"
      ],
      "execution_count": null,
      "outputs": []
    },
    {
      "cell_type": "markdown",
      "metadata": {
        "id": "RJQmz1iYiJMf"
      },
      "source": [
        "## Store into DataGenerator"
      ]
    },
    {
      "cell_type": "code",
      "metadata": {
        "colab": {
          "base_uri": "https://localhost:8080/",
          "height": 135
        },
        "id": "4-vC-QTaiJMj",
        "outputId": "97a08b3e-6a96-4212-d87d-a58b2dc5bebf"
      },
      "source": [
        "from tensorflow.keras.preprocessing.image import ImageDataGenerator\r\n",
        "'''\r\n",
        "trainingGenerator = ImageDataGenerator(\r\n",
        "    rotation_range=10,\r\n",
        "    brightness_range= [0.5, 1.5],\r\n",
        "    shear_range=0.2,\r\n",
        "    zoom_range=[1.0, 1.3],\r\n",
        "    channel_shift_range=0.2,\r\n",
        "    horizontal_flip=True,\r\n",
        "    vertical_flip=False,\r\n",
        "    rescale=1./255,\r\n",
        "    fill_mode=\"constant\",\r\n",
        "    cval=0.0,\r\n",
        "    data_format=\"channels_last\",\r\n",
        "    validation_split=0.2,\r\n",
        ")\r\n",
        "\r\n",
        "validationGenerator = ImageDataGenerator(\r\n",
        "    rescale=1./255,\r\n",
        "    data_format=\"channels_last\",\r\n",
        "    validation_split=0.3,\r\n",
        ")\r\n",
        "\r\n",
        "training_dataset = trainingGenerator.flow_from_directory(\r\n",
        "    directory,\r\n",
        "    target_size=(SIZE, SIZE),\r\n",
        "    color_mode=\"rgb\",\r\n",
        "    classes=['df', 'real'],\r\n",
        "    class_mode=\"binary\",\r\n",
        "    batch_size=BATCH_SIZE,\r\n",
        "    shuffle=True,\r\n",
        "    seed=123,\r\n",
        "    subset=\"training\",\r\n",
        "    interpolation=\"nearest\",\r\n",
        ")\r\n",
        "\r\n",
        "validation_dataset = validationGenerator.flow_from_directory(\r\n",
        "    directory,\r\n",
        "    target_size=(SIZE, SIZE),\r\n",
        "    color_mode=\"rgb\",\r\n",
        "    classes=['df', 'real'],\r\n",
        "    class_mode=\"binary\",\r\n",
        "    batch_size=BATCH_SIZE,\r\n",
        "    shuffle=True,\r\n",
        "    seed=123,\r\n",
        "    subset=\"validation\",\r\n",
        "    interpolation=\"nearest\",\r\n",
        ")\r\n",
        "\r\n",
        "validation_gen = dataGenerator.flow(\r\n",
        "    validation_dataset,\r\n",
        "    target_size=(256, 256),\r\n",
        "    color_mode=\"rgb\",\r\n",
        "    classes=['df', 'real'],\r\n",
        "    class_mode=\"binary\",\r\n",
        "    batch_size=BATCH_SIZE,\r\n",
        "    shuffle=True,\r\n",
        "    seed=123,\r\n",
        "    save_to_dir=None,\r\n",
        "    subset=\"validation\",\r\n",
        ")\r\n",
        "'''"
      ],
      "execution_count": 6,
      "outputs": [
        {
          "output_type": "execute_result",
          "data": {
            "application/vnd.google.colaboratory.intrinsic+json": {
              "type": "string"
            },
            "text/plain": [
              "'\\ntrainingGenerator = ImageDataGenerator(\\n    rotation_range=10,\\n    brightness_range= [0.5, 1.5],\\n    shear_range=0.2,\\n    zoom_range=[1.0, 1.3],\\n    channel_shift_range=0.2,\\n    horizontal_flip=True,\\n    vertical_flip=False,\\n    rescale=1./255,\\n    fill_mode=\"constant\",\\n    cval=0.0,\\n    data_format=\"channels_last\",\\n    validation_split=0.2,\\n)\\n\\nvalidationGenerator = ImageDataGenerator(\\n    rescale=1./255,\\n    data_format=\"channels_last\",\\n    validation_split=0.3,\\n)\\n\\ntraining_dataset = trainingGenerator.flow_from_directory(\\n    directory,\\n    target_size=(SIZE, SIZE),\\n    color_mode=\"rgb\",\\n    classes=[\\'df\\', \\'real\\'],\\n    class_mode=\"binary\",\\n    batch_size=BATCH_SIZE,\\n    shuffle=True,\\n    seed=123,\\n    subset=\"training\",\\n    interpolation=\"nearest\",\\n)\\n\\nvalidation_dataset = validationGenerator.flow_from_directory(\\n    directory,\\n    target_size=(SIZE, SIZE),\\n    color_mode=\"rgb\",\\n    classes=[\\'df\\', \\'real\\'],\\n    class_mode=\"binary\",\\n    batch_size=BATCH_SIZE,\\n    shuffle=True,\\n    seed=123,\\n    subset=\"validation\",\\n    interpolation=\"nearest\",\\n)\\n\\nvalidation_gen = dataGenerator.flow(\\n    validation_dataset,\\n    target_size=(256, 256),\\n    color_mode=\"rgb\",\\n    classes=[\\'df\\', \\'real\\'],\\n    class_mode=\"binary\",\\n    batch_size=BATCH_SIZE,\\n    shuffle=True,\\n    seed=123,\\n    save_to_dir=None,\\n    subset=\"validation\",\\n)\\n'"
            ]
          },
          "metadata": {
            "tags": []
          },
          "execution_count": 6
        }
      ]
    },
    {
      "cell_type": "markdown",
      "metadata": {
        "id": "GoKLp9K-8y5h"
      },
      "source": [
        "# Model"
      ]
    },
    {
      "cell_type": "markdown",
      "metadata": {
        "id": "a1gIgLtx9E6R"
      },
      "source": [
        "## Model Params"
      ]
    },
    {
      "cell_type": "code",
      "metadata": {
        "id": "SvKbFuWL12jf",
        "colab": {
          "base_uri": "https://localhost:8080/"
        },
        "outputId": "f2a9cfbd-186d-48dc-a7a7-a82eef51acac"
      },
      "source": [
        "input_shape = (SIZE, SIZE, 3)\n",
        "learning_rate = 0.001\n",
        "dl_rate = 1\n",
        "EPOCHS = 50\n",
        "ITERATIONS = len(training_dataset) * EPOCHS\n",
        "print(ITERATIONS)"
      ],
      "execution_count": 7,
      "outputs": [
        {
          "output_type": "stream",
          "text": [
            "7750\n"
          ],
          "name": "stdout"
        }
      ]
    },
    {
      "cell_type": "markdown",
      "metadata": {
        "id": "JQmxao2Y7lU0"
      },
      "source": [
        "## LR Decay"
      ]
    },
    {
      "cell_type": "code",
      "metadata": {
        "id": "KAqFOJ3i7n85",
        "colab": {
          "base_uri": "https://localhost:8080/",
          "height": 68
        },
        "outputId": "99270193-26f9-49ce-99e2-ccca6eac6a07"
      },
      "source": [
        "'''\r\n",
        "import tensorflow as tf\r\n",
        "from keras.optimizers.schedules import PiecewiseConstantDecay\r\n",
        "step = tf.Variable(0, trainable=False)\r\n",
        "boundaries = [1000, 1000, 1000]\r\n",
        "values = [0.001, 0.0001, 0.00001, 0.000001]\r\n",
        "learning_rate_fn = PiecewiseConstantDecay(boundaries, values)\r\n",
        "\r\n",
        "# Later, whenever we perform an optimization step, we pass in the step.\r\n",
        "learning_rate = learning_rate_fn(step)\r\n",
        "\r\n",
        "'''"
      ],
      "execution_count": 8,
      "outputs": [
        {
          "output_type": "execute_result",
          "data": {
            "application/vnd.google.colaboratory.intrinsic+json": {
              "type": "string"
            },
            "text/plain": [
              "'\\nimport tensorflow as tf\\nfrom keras.optimizers.schedules import PiecewiseConstantDecay\\nstep = tf.Variable(0, trainable=False)\\nboundaries = [1000, 1000, 1000]\\nvalues = [0.001, 0.0001, 0.00001, 0.000001]\\nlearning_rate_fn = PiecewiseConstantDecay(boundaries, values)\\n\\n# Later, whenever we perform an optimization step, we pass in the step.\\nlearning_rate = learning_rate_fn(step)\\n\\n'"
            ]
          },
          "metadata": {
            "tags": []
          },
          "execution_count": 8
        }
      ]
    },
    {
      "cell_type": "code",
      "metadata": {
        "id": "gEIpLlfDAQV3"
      },
      "source": [
        "# This function keeps the initial learning rate for the first ten epochs  \r\n",
        "# and decreases it exponentially after that.  \r\n",
        "def scheduler(epoch, lr):\r\n",
        "    print(\"{0:.8f}\".format(lr))\r\n",
        "    if epoch < 20:\r\n",
        "        return 0.001 # lr = 0.001\r\n",
        "    elif epoch >= 20 and epoch < 30:\r\n",
        "        return 0.001 # lr = 0.00001\r\n",
        "    elif epoch >= 30 and epoch < 40:\r\n",
        "        return 0.0001 # lr = 0.00001\r\n",
        "    elif epoch >= 40:\r\n",
        "        return 0.0001 # lr = 0.000001"
      ],
      "execution_count": 9,
      "outputs": []
    },
    {
      "cell_type": "markdown",
      "metadata": {
        "id": "zrFN4dtH_KE0"
      },
      "source": [
        "## Custom Callback"
      ]
    },
    {
      "cell_type": "markdown",
      "metadata": {
        "id": "VJ3ZUFXa9HOI"
      },
      "source": [
        "## Compile Model"
      ]
    },
    {
      "cell_type": "code",
      "metadata": {
        "colab": {
          "base_uri": "https://localhost:8080/"
        },
        "id": "7KtJAfOWjQm2",
        "outputId": "e6111f67-0568-4987-9c4a-130bc63aacda"
      },
      "source": [
        "from keras.models import Model as KerasModel\n",
        "from keras.models import Sequential\n",
        "from keras.layers import Input, Dense, Flatten, Conv2D, MaxPooling2D, BatchNormalization, Dropout, Reshape, Concatenate, LeakyReLU\n",
        "from keras.optimizers import Adam\n",
        "\n",
        "%run -i 'classifiers.py'\n",
        "\n",
        "model, modelName = Meso4(input_shape)\n",
        "optimizer = Adam(lr = learning_rate)\n",
        "model.compile(optimizer = optimizer, loss = 'mean_squared_error', metrics = ['accuracy'])\n",
        "# round(model.optimizer.lr.numpy(), 5)\n",
        "# model.summary()\n",
        "print(modelName)"
      ],
      "execution_count": 11,
      "outputs": [
        {
          "output_type": "stream",
          "text": [
            "Meso4\n"
          ],
          "name": "stdout"
        }
      ]
    },
    {
      "cell_type": "markdown",
      "metadata": {
        "id": "ndb3w9pB9LB2"
      },
      "source": [
        "# Training"
      ]
    },
    {
      "cell_type": "markdown",
      "metadata": {
        "id": "1yAJ1a-e9djn"
      },
      "source": [
        "## Fit Model"
      ]
    },
    {
      "cell_type": "code",
      "metadata": {
        "colab": {
          "base_uri": "https://localhost:8080/"
        },
        "id": "-8Fwh4Gx12j7",
        "outputId": "18d1f850-d5fb-42eb-e674-8a8499d82c91"
      },
      "source": [
        "from tensorflow import keras\n",
        "import keras.backend as K\n",
        "\n",
        "callback = keras.callbacks.LearningRateScheduler(scheduler)\n",
        "\n",
        "history = model.fit(\n",
        "    training_dataset, \n",
        "    epochs=EPOCHS, \n",
        "    validation_data=validation_dataset, \n",
        "    verbose = 1, \n",
        "    callbacks=[callback], \n",
        "    workers=4,\n",
        "    use_multiprocessing=True,)\n",
        "\n",
        "round(model.optimizer.lr.numpy(), 5)\n"
      ],
      "execution_count": 14,
      "outputs": [
        {
          "output_type": "stream",
          "text": [
            "Epoch 1/50\n",
            "0.00100000\n",
            "155/155 [==============================] - 28s 176ms/step - loss: 0.1601 - accuracy: 0.7749 - val_loss: 0.1087 - val_accuracy: 0.8567\n",
            "Epoch 2/50\n",
            "0.00100000\n",
            "155/155 [==============================] - 27s 173ms/step - loss: 0.1139 - accuracy: 0.8430 - val_loss: 0.0736 - val_accuracy: 0.9053\n",
            "Epoch 3/50\n",
            "0.00100000\n",
            "155/155 [==============================] - 27s 172ms/step - loss: 0.0947 - accuracy: 0.8738 - val_loss: 0.0730 - val_accuracy: 0.8984\n",
            "Epoch 4/50\n",
            "0.00100000\n",
            "155/155 [==============================] - 27s 173ms/step - loss: 0.0821 - accuracy: 0.8919 - val_loss: 0.0712 - val_accuracy: 0.8960\n",
            "Epoch 5/50\n",
            "0.00100000\n",
            "155/155 [==============================] - 28s 175ms/step - loss: 0.0740 - accuracy: 0.9006 - val_loss: 0.1402 - val_accuracy: 0.8053\n",
            "Epoch 6/50\n",
            "0.00100000\n",
            "155/155 [==============================] - 27s 172ms/step - loss: 0.0694 - accuracy: 0.9072 - val_loss: 0.0523 - val_accuracy: 0.9308\n",
            "Epoch 7/50\n",
            "0.00100000\n",
            "155/155 [==============================] - 27s 171ms/step - loss: 0.0633 - accuracy: 0.9159 - val_loss: 0.0480 - val_accuracy: 0.9364\n",
            "Epoch 8/50\n",
            "0.00100000\n",
            "155/155 [==============================] - 27s 173ms/step - loss: 0.0601 - accuracy: 0.9240 - val_loss: 0.1199 - val_accuracy: 0.8381\n",
            "Epoch 9/50\n",
            "0.00100000\n",
            "155/155 [==============================] - 27s 172ms/step - loss: 0.0571 - accuracy: 0.9266 - val_loss: 0.0483 - val_accuracy: 0.9397\n",
            "Epoch 10/50\n",
            "0.00100000\n",
            "155/155 [==============================] - 27s 171ms/step - loss: 0.0537 - accuracy: 0.9307 - val_loss: 0.0422 - val_accuracy: 0.9457\n",
            "Epoch 11/50\n",
            "0.00100000\n",
            "155/155 [==============================] - 28s 174ms/step - loss: 0.0504 - accuracy: 0.9360 - val_loss: 0.0470 - val_accuracy: 0.9332\n",
            "Epoch 12/50\n",
            "0.00100000\n",
            "155/155 [==============================] - 27s 172ms/step - loss: 0.0457 - accuracy: 0.9419 - val_loss: 0.0422 - val_accuracy: 0.9421\n",
            "Epoch 13/50\n",
            "0.00100000\n",
            "155/155 [==============================] - 27s 172ms/step - loss: 0.0449 - accuracy: 0.9419 - val_loss: 0.0360 - val_accuracy: 0.9534\n",
            "Epoch 14/50\n",
            "0.00100000\n",
            "155/155 [==============================] - 28s 174ms/step - loss: 0.0407 - accuracy: 0.9483 - val_loss: 0.0314 - val_accuracy: 0.9579\n",
            "Epoch 15/50\n",
            "0.00100000\n",
            "155/155 [==============================] - 28s 174ms/step - loss: 0.0400 - accuracy: 0.9494 - val_loss: 0.0362 - val_accuracy: 0.9575\n",
            "Epoch 16/50\n",
            "0.00100000\n",
            "155/155 [==============================] - 28s 176ms/step - loss: 0.0380 - accuracy: 0.9503 - val_loss: 0.0323 - val_accuracy: 0.9587\n",
            "Epoch 17/50\n",
            "0.00100000\n",
            "155/155 [==============================] - 28s 174ms/step - loss: 0.0379 - accuracy: 0.9521 - val_loss: 0.0252 - val_accuracy: 0.9648\n",
            "Epoch 18/50\n",
            "0.00100000\n",
            "155/155 [==============================] - 27s 173ms/step - loss: 0.0347 - accuracy: 0.9580 - val_loss: 0.0303 - val_accuracy: 0.9611\n",
            "Epoch 19/50\n",
            "0.00100000\n",
            "155/155 [==============================] - 27s 173ms/step - loss: 0.0347 - accuracy: 0.9549 - val_loss: 0.0284 - val_accuracy: 0.9623\n",
            "Epoch 20/50\n",
            "0.00100000\n",
            "155/155 [==============================] - 28s 175ms/step - loss: 0.0305 - accuracy: 0.9626 - val_loss: 0.0547 - val_accuracy: 0.9336\n",
            "Epoch 21/50\n",
            "0.00100000\n",
            "155/155 [==============================] - 27s 171ms/step - loss: 0.0349 - accuracy: 0.9547 - val_loss: 0.0279 - val_accuracy: 0.9640\n",
            "Epoch 22/50\n",
            "0.00100000\n",
            "155/155 [==============================] - 28s 175ms/step - loss: 0.0321 - accuracy: 0.9576 - val_loss: 0.0332 - val_accuracy: 0.9559\n",
            "Epoch 23/50\n",
            "0.00100000\n",
            "155/155 [==============================] - 28s 175ms/step - loss: 0.0291 - accuracy: 0.9629 - val_loss: 0.0280 - val_accuracy: 0.9628\n",
            "Epoch 24/50\n",
            "0.00100000\n",
            "155/155 [==============================] - 27s 172ms/step - loss: 0.0283 - accuracy: 0.9642 - val_loss: 0.0236 - val_accuracy: 0.9692\n",
            "Epoch 25/50\n",
            "0.00100000\n",
            "155/155 [==============================] - 28s 174ms/step - loss: 0.0262 - accuracy: 0.9659 - val_loss: 0.0316 - val_accuracy: 0.9611\n",
            "Epoch 26/50\n",
            "0.00100000\n",
            "155/155 [==============================] - 28s 176ms/step - loss: 0.0258 - accuracy: 0.9679 - val_loss: 0.0228 - val_accuracy: 0.9688\n",
            "Epoch 27/50\n",
            "0.00100000\n",
            "155/155 [==============================] - 28s 174ms/step - loss: 0.0247 - accuracy: 0.9697 - val_loss: 0.0283 - val_accuracy: 0.9656\n",
            "Epoch 28/50\n",
            "0.00100000\n",
            "155/155 [==============================] - 28s 175ms/step - loss: 0.0264 - accuracy: 0.9669 - val_loss: 0.0477 - val_accuracy: 0.9397\n",
            "Epoch 29/50\n",
            "0.00100000\n",
            "155/155 [==============================] - 27s 172ms/step - loss: 0.0259 - accuracy: 0.9676 - val_loss: 0.0241 - val_accuracy: 0.9709\n",
            "Epoch 30/50\n",
            "0.00100000\n",
            "155/155 [==============================] - 27s 171ms/step - loss: 0.0268 - accuracy: 0.9660 - val_loss: 0.0210 - val_accuracy: 0.9733\n",
            "Epoch 31/50\n",
            "0.00100000\n",
            "155/155 [==============================] - 27s 172ms/step - loss: 0.0180 - accuracy: 0.9771 - val_loss: 0.0168 - val_accuracy: 0.9794\n",
            "Epoch 32/50\n",
            "0.00010000\n",
            "155/155 [==============================] - 28s 176ms/step - loss: 0.0171 - accuracy: 0.9790 - val_loss: 0.0159 - val_accuracy: 0.9798\n",
            "Epoch 33/50\n",
            "0.00010000\n",
            "155/155 [==============================] - 27s 171ms/step - loss: 0.0161 - accuracy: 0.9801 - val_loss: 0.0176 - val_accuracy: 0.9781\n",
            "Epoch 34/50\n",
            "0.00010000\n",
            "155/155 [==============================] - 27s 171ms/step - loss: 0.0158 - accuracy: 0.9801 - val_loss: 0.0156 - val_accuracy: 0.9814\n",
            "Epoch 35/50\n",
            "0.00010000\n",
            "155/155 [==============================] - 27s 172ms/step - loss: 0.0146 - accuracy: 0.9827 - val_loss: 0.0158 - val_accuracy: 0.9814\n",
            "Epoch 36/50\n",
            "0.00010000\n",
            "155/155 [==============================] - 27s 170ms/step - loss: 0.0169 - accuracy: 0.9803 - val_loss: 0.0155 - val_accuracy: 0.9810\n",
            "Epoch 37/50\n",
            "0.00010000\n",
            "155/155 [==============================] - 28s 174ms/step - loss: 0.0153 - accuracy: 0.9807 - val_loss: 0.0163 - val_accuracy: 0.9802\n",
            "Epoch 38/50\n",
            "0.00010000\n",
            "155/155 [==============================] - 27s 172ms/step - loss: 0.0140 - accuracy: 0.9832 - val_loss: 0.0151 - val_accuracy: 0.9814\n",
            "Epoch 39/50\n",
            "0.00010000\n",
            "155/155 [==============================] - 27s 171ms/step - loss: 0.0142 - accuracy: 0.9825 - val_loss: 0.0151 - val_accuracy: 0.9814\n",
            "Epoch 40/50\n",
            "0.00010000\n",
            "155/155 [==============================] - 27s 171ms/step - loss: 0.0141 - accuracy: 0.9831 - val_loss: 0.0153 - val_accuracy: 0.9822\n",
            "Epoch 41/50\n",
            "0.00010000\n",
            "155/155 [==============================] - 27s 170ms/step - loss: 0.0125 - accuracy: 0.9842 - val_loss: 0.0147 - val_accuracy: 0.9830\n",
            "Epoch 42/50\n",
            "0.00010000\n",
            "155/155 [==============================] - 27s 170ms/step - loss: 0.0140 - accuracy: 0.9826 - val_loss: 0.0148 - val_accuracy: 0.9818\n",
            "Epoch 43/50\n",
            "0.00010000\n",
            "155/155 [==============================] - 27s 170ms/step - loss: 0.0132 - accuracy: 0.9833 - val_loss: 0.0148 - val_accuracy: 0.9818\n",
            "Epoch 44/50\n",
            "0.00010000\n",
            "155/155 [==============================] - 27s 172ms/step - loss: 0.0127 - accuracy: 0.9853 - val_loss: 0.0149 - val_accuracy: 0.9826\n",
            "Epoch 45/50\n",
            "0.00010000\n",
            "155/155 [==============================] - 27s 173ms/step - loss: 0.0136 - accuracy: 0.9836 - val_loss: 0.0146 - val_accuracy: 0.9822\n",
            "Epoch 46/50\n",
            "0.00010000\n",
            "155/155 [==============================] - 27s 171ms/step - loss: 0.0126 - accuracy: 0.9847 - val_loss: 0.0144 - val_accuracy: 0.9834\n",
            "Epoch 47/50\n",
            "0.00010000\n",
            "155/155 [==============================] - 27s 172ms/step - loss: 0.0133 - accuracy: 0.9839 - val_loss: 0.0147 - val_accuracy: 0.9826\n",
            "Epoch 48/50\n",
            "0.00010000\n",
            "155/155 [==============================] - 27s 171ms/step - loss: 0.0128 - accuracy: 0.9842 - val_loss: 0.0152 - val_accuracy: 0.9810\n",
            "Epoch 49/50\n",
            "0.00010000\n",
            "155/155 [==============================] - 27s 170ms/step - loss: 0.0126 - accuracy: 0.9843 - val_loss: 0.0139 - val_accuracy: 0.9838\n",
            "Epoch 50/50\n",
            "0.00010000\n",
            "155/155 [==============================] - 27s 172ms/step - loss: 0.0126 - accuracy: 0.9843 - val_loss: 0.0145 - val_accuracy: 0.9814\n"
          ],
          "name": "stdout"
        },
        {
          "output_type": "execute_result",
          "data": {
            "text/plain": [
              "1e-04"
            ]
          },
          "metadata": {
            "tags": []
          },
          "execution_count": 14
        }
      ]
    },
    {
      "cell_type": "markdown",
      "metadata": {
        "id": "4aFK3oTaWIaR"
      },
      "source": [
        ""
      ]
    },
    {
      "cell_type": "markdown",
      "metadata": {
        "id": "Vafzh39d9VZ2"
      },
      "source": [
        "## Training and Validation Graphs"
      ]
    },
    {
      "cell_type": "code",
      "metadata": {
        "colab": {
          "base_uri": "https://localhost:8080/",
          "height": 308
        },
        "id": "JmIarIkj3Dn8",
        "outputId": "cbfe3f7f-531a-4601-8ba9-2ea64e495cb0"
      },
      "source": [
        "import matplotlib.pyplot as plt\n",
        "import numpy as np\n",
        "\n",
        "f, (ax1, ax2) = plt.subplots(1, 2, figsize=(20, 4))\n",
        "t = f.suptitle('Training and Validation Performance for ' + modelName, fontsize=12)\n",
        "f.subplots_adjust(top=0.85, wspace=0.3)\n",
        "\n",
        "epoch_list = list(range(1,EPOCHS+1))\n",
        "ax1.plot(epoch_list, history.history['accuracy'], label='Train Accuracy')\n",
        "ax1.plot(epoch_list, history.history['val_accuracy'], label='Validation Accuracy')\n",
        "ax1.set_xticks(np.arange(0, EPOCHS+1, 1))\n",
        "ax1.set_ylabel('Accuracy Value')\n",
        "ax1.set_xlabel('Epoch #')\n",
        "ax1.set_title('Accuracy')\n",
        "l1 = ax1.legend(loc=\"best\")\n",
        "\n",
        "ax2.plot(epoch_list, history.history['loss'], label='Train Loss')\n",
        "ax2.plot(epoch_list, history.history['val_loss'], label='Validation Loss')\n",
        "ax2.set_xticks(np.arange(0, EPOCHS+1, 1))\n",
        "ax2.set_ylabel('Loss Value')\n",
        "ax2.set_xlabel('Epoch #')\n",
        "ax2.set_title('Loss')\n",
        "l2 = ax2.legend(loc=\"best\")"
      ],
      "execution_count": 15,
      "outputs": [
        {
          "output_type": "display_data",
          "data": {
            "image/png": "[encoded data removed]",
            "text/plain": [
              "<Figure size 1440x288 with 2 Axes>"
            ]
          },
          "metadata": {
            "tags": [],
            "needs_background": "light"
          }
        }
      ]
    },
    {
      "cell_type": "markdown",
      "metadata": {
        "id": "GSyUbKcWMWrB"
      },
      "source": [
        "# Prediction"
      ]
    },
    {
      "cell_type": "markdown",
      "metadata": {
        "id": "HuYpoWhHb7Kc"
      },
      "source": [
        "## Folder Paths"
      ]
    },
    {
      "cell_type": "code",
      "metadata": {
        "id": "fipmUqa-b7Kh"
      },
      "source": [
        "import os\n",
        "directory = os.path.join('deepfake_database', 'validation')\n",
        "image_format = '.jpg'"
      ],
      "execution_count": 17,
      "outputs": []
    },
    {
      "cell_type": "markdown",
      "metadata": {
        "id": "rgnjCQe-MjLH"
      },
      "source": [
        "## Store into tf.data.Dataset"
      ]
    },
    {
      "cell_type": "code",
      "metadata": {
        "colab": {
          "base_uri": "https://localhost:8080/"
        },
        "id": "VUP8SY_lMUdG",
        "outputId": "16f55304-f666-4810-980f-107432b29a2e"
      },
      "source": [
        "from tensorflow.keras.preprocessing import image_dataset_from_directory\r\n",
        "\r\n",
        "test_dataset = image_dataset_from_directory(\r\n",
        "    directory,\r\n",
        "    labels=\"inferred\",\r\n",
        "    label_mode=\"binary\",\r\n",
        "    class_names=['df', 'real'],\r\n",
        "    color_mode=\"rgb\",\r\n",
        "    batch_size=BATCH_SIZE,\r\n",
        "    image_size=(SIZE, SIZE),\r\n",
        "    shuffle=False,\r\n",
        "    interpolation=\"bilinear\",\r\n",
        ")"
      ],
      "execution_count": 18,
      "outputs": [
        {
          "output_type": "stream",
          "text": [
            "Found 7104 files belonging to 2 classes.\n"
          ],
          "name": "stdout"
        }
      ]
    },
    {
      "cell_type": "markdown",
      "metadata": {
        "id": "oAqU-RLekwDI"
      },
      "source": [
        "## Make Prediction"
      ]
    },
    {
      "cell_type": "code",
      "metadata": {
        "colab": {
          "base_uri": "https://localhost:8080/"
        },
        "id": "EYf9QXMNbkcB",
        "outputId": "778c8262-c2a6-41a5-d2fd-dcf8519734cc"
      },
      "source": [
        "import numpy as np\r\n",
        "Y_pred = (model.predict(test_dataset, verbose=1) > 0.5).astype(\"int32\")"
      ],
      "execution_count": 19,
      "outputs": [
        {
          "output_type": "stream",
          "text": [
            "111/111 [==============================] - 13s 115ms/step\n"
          ],
          "name": "stdout"
        }
      ]
    },
    {
      "cell_type": "markdown",
      "metadata": {
        "id": "GUFjwc-Nk3ZR"
      },
      "source": [
        "## Read Original Labels"
      ]
    },
    {
      "cell_type": "code",
      "metadata": {
        "id": "sgCeGiX-ewNd"
      },
      "source": [
        "Y_test = []\r\n",
        "for img_array, label in (test_dataset.as_numpy_iterator()):\r\n",
        "    Y_test.append(label)"
      ],
      "execution_count": 20,
      "outputs": []
    },
    {
      "cell_type": "markdown",
      "metadata": {
        "id": "hy-gsprKk-u9"
      },
      "source": [
        "## Flatten Original and Prediction label arrays"
      ]
    },
    {
      "cell_type": "code",
      "metadata": {
        "id": "KBayYJHCtFsX"
      },
      "source": [
        "import numpy as np\r\n",
        "\r\n",
        "original_labels = []\r\n",
        "original_labels = list(np.concatenate(Y_test).flat)\r\n",
        "original_labels = np.array(original_labels)\r\n",
        "\r\n",
        "predicted_labels = []\r\n",
        "predicted_labels = list(np.concatenate(Y_pred).flat)\r\n",
        "predicted_labels = np.array(predicted_labels)"
      ],
      "execution_count": 21,
      "outputs": []
    },
    {
      "cell_type": "markdown",
      "metadata": {
        "id": "fnPxkC2timnb"
      },
      "source": [
        "## Classification Report"
      ]
    },
    {
      "cell_type": "code",
      "metadata": {
        "id": "VKztxwp4ibct",
        "colab": {
          "base_uri": "https://localhost:8080/"
        },
        "outputId": "5c4f4a89-4a57-449a-f4f3-86fab6326554"
      },
      "source": [
        "from sklearn.metrics import classification_report\n",
        "classificationReport = classification_report(original_labels, predicted_labels, target_names=test_dataset.class_names)\n",
        "print(classificationReport)"
      ],
      "execution_count": 22,
      "outputs": [
        {
          "output_type": "stream",
          "text": [
            "              precision    recall  f1-score   support\n",
            "\n",
            "          df       0.84      0.93      0.88      2845\n",
            "        real       0.95      0.88      0.91      4259\n",
            "\n",
            "    accuracy                           0.90      7104\n",
            "   macro avg       0.89      0.90      0.90      7104\n",
            "weighted avg       0.90      0.90      0.90      7104\n",
            "\n"
          ],
          "name": "stdout"
        }
      ]
    },
    {
      "cell_type": "markdown",
      "metadata": {
        "id": "lZI6-stDS_ol"
      },
      "source": [
        "## Confusion Matrix"
      ]
    },
    {
      "cell_type": "code",
      "metadata": {
        "id": "_l-PorZI3DoB",
        "colab": {
          "base_uri": "https://localhost:8080/",
          "height": 402
        },
        "outputId": "bd8e9e41-b816-4873-953b-5d7bbe4d0a82"
      },
      "source": [
        "#Output confusion matrix\n",
        "from sklearn.metrics import confusion_matrix\n",
        "import pandas as pd\n",
        "import seaborn as sn\n",
        "import matplotlib.pyplot as plt\n",
        "\n",
        "def print_confusion_matrix(y_true, y_pred):\n",
        "    cm = confusion_matrix(y_true, y_pred)\n",
        "    print('True positive = ', cm[0][0])\n",
        "    print('False positive = ', cm[0][1])\n",
        "    print('False negative = ', cm[1][0])\n",
        "    print('True negative = ', cm[1][1])\n",
        "    print('\\n')\n",
        "    df_cm = pd.DataFrame(cm, range(2), range(2))\n",
        "    sn.set(font_scale=1.4) # for label size\n",
        "    sn.heatmap(df_cm, annot=True, annot_kws={\"size\": 16}, cmap=\"YlGnBu\") # font size\n",
        "    plt.ylabel('Actual label', size = 20)\n",
        "    plt.xlabel('Predicted label', size = 20)\n",
        "    plt.xticks(np.arange(2), test_dataset.class_names, size = 16)\n",
        "    plt.yticks(np.arange(2), test_dataset.class_names, size = 16)\n",
        "    plt.ylim([2, 0])\n",
        "    plt.show()\n",
        "    return cm\n",
        "    \n",
        "confusionMatrix = print_confusion_matrix(original_labels, predicted_labels)"
      ],
      "execution_count": 23,
      "outputs": [
        {
          "output_type": "stream",
          "text": [
            "True positive =  2633\n",
            "False positive =  212\n",
            "False negative =  510\n",
            "True negative =  3749\n",
            "\n",
            "\n"
          ],
          "name": "stdout"
        },
        {
          "output_type": "display_data",
          "data": {
            "image/png": "[encoded data removed]",
            "text/plain": [
              "<Figure size 432x288 with 2 Axes>"
            ]
          },
          "metadata": {
            "tags": []
          }
        }
      ]
    },
    {
      "cell_type": "markdown",
      "metadata": {
        "id": "Go_uGCTqU5XR"
      },
      "source": [
        "# Write to File"
      ]
    },
    {
      "cell_type": "code",
      "metadata": {
        "id": "9W4SCXEZU7SB"
      },
      "source": [
        "import os\r\n",
        "\r\n",
        "tp = str('True positive = '+ str(confusionMatrix[0][0]) + '\\n')\r\n",
        "fp = str('False positive = '+ str(confusionMatrix[0][1]) + '\\n')\r\n",
        "fn = str('False negative = '+ str(confusionMatrix[1][0]) + '\\n')\r\n",
        "tn = str('True negative = '+ str(confusionMatrix[1][1]) + '\\n')\r\n",
        "\r\n",
        "data = (\r\n",
        "    'Model Name: ' + str(modelName) + '\\n' +\r\n",
        "    'Batch Size: ' + str(BATCH_SIZE) + '\\n' +\r\n",
        "    'Image Size: ' + str(SIZE) + '\\n' +\r\n",
        "    'Epochs: ' + str(EPOCHS) + '\\n' +\r\n",
        "    'Iterations: ' + str(ITERATIONS) + '\\n' +\r\n",
        "    '===================================================== \\n\\n' +\r\n",
        "    str(classificationReport) + '\\n' + str(tp + fp + fn + tn)\r\n",
        ")\r\n",
        "\r\n",
        "from datetime import datetime \r\n",
        "import pytz \r\n",
        "  \r\n",
        "# get the standard UTC time  \r\n",
        "UTC = pytz.utc \r\n",
        "  \r\n",
        "# it will get the time zone  \r\n",
        "# of the specified location \r\n",
        "IST = pytz.timezone('Asia/Kolkata') \r\n",
        "  \r\n",
        "datetime_ist = datetime.now(IST) \r\n",
        "filename = ('Report ' + datetime_ist.strftime('%Y-%m-%d %H%M') + ' ' + modelName + '.txt')\r\n",
        "\r\n",
        "myFile = open(filename, 'w')\r\n",
        "myFile.write(data)\r\n",
        "myFile.close()\r\n",
        "\r\n",
        "model.save(modelName + ' ' + datetime_ist.strftime('%Y-%m-%d %H%M') + '.h5')"
      ],
      "execution_count": 24,
      "outputs": []
    }
  ]
}